{
 "cells": [
  {
   "cell_type": "markdown",
   "metadata": {},
   "source": [
    "# Moduli #\n",
    "\n",
    "Un modulo è uno script ovvero un file di linguaggio in cui sono presente una serie di istruzioni che è possibile usare importando semplicemente il file. L'utilizzo di moduli è una procedura molto utilizzata in programmazione per la suddivisione delle funzionalità e dei compiti, inoltre riduce la necessità di ridefinire delle funzionalità. Python è un ambiente molto ricco di moduli che permettono di usare molte funzionalità anche non presenti in python grazie al collegamento con altri linguaggi.\n",
    "\n",
    "## Come creare un modulo ##\n",
    "\n",
    "La creazione di un modulo è abbastanza facile, il primo passo è creare un file denominato `.py` in cui viene definita una serie di funzioni, fatto ciò è necessario salvare il file."
   ]
  },
  {
   "cell_type": "code",
   "execution_count": 1,
   "metadata": {},
   "outputs": [],
   "source": [
    "#attenzione questo comando crea un file nel vostro folder\n",
    "#appena finita la lettura, consigliabile eliminare il file in seguito\n",
    "f = open('prova.py', 'w')\n",
    "f.write('def saluta():\\n')\n",
    "f.write('\\tprint(\"Ciao a tutti!\")')\n",
    "f.close()"
   ]
  },
  {
   "cell_type": "markdown",
   "metadata": {},
   "source": [
    "## Importare il modulo ##\n",
    "\n",
    "Per importare il modulo che abbiamo appena creato basta usare il comando `import nome_modulo` e per accedere poi alle sue funzionalità basta usare il comando `nome_modulo.funzione` vediamo la sua applicazione."
   ]
  },
  {
   "cell_type": "code",
   "execution_count": 2,
   "metadata": {},
   "outputs": [
    {
     "name": "stdout",
     "output_type": "stream",
     "text": [
      "Ciao a tutti!\n"
     ]
    }
   ],
   "source": [
    "import prova\n",
    "prova.saluta()"
   ]
  },
  {
   "cell_type": "markdown",
   "metadata": {},
   "source": [
    "Qualora volessimo solo importare delle funzioni è possibile usare anche il comando `from nome_modulo import nome_funzione` in tal caso solo la funzione specificata verrà messa in memoria."
   ]
  },
  {
   "cell_type": "code",
   "execution_count": 3,
   "metadata": {},
   "outputs": [
    {
     "name": "stdout",
     "output_type": "stream",
     "text": [
      "Ciao a tutti!\n"
     ]
    }
   ],
   "source": [
    "from prova import saluta\n",
    "saluta()"
   ]
  },
  {
   "cell_type": "markdown",
   "metadata": {},
   "source": [
    "Qualora dovessimo usare il nome del modulo numerose volte è possibile definire un acronimo per il suo utilizzo con `import nome_modulo as nuovo_nome`."
   ]
  },
  {
   "cell_type": "code",
   "execution_count": 4,
   "metadata": {},
   "outputs": [
    {
     "name": "stdout",
     "output_type": "stream",
     "text": [
      "Ciao a tutti!\n"
     ]
    }
   ],
   "source": [
    "import prova as pv\n",
    "pv.saluta()"
   ]
  },
  {
   "cell_type": "markdown",
   "metadata": {},
   "source": [
    "# Librerie Python #\n",
    "\n",
    "## pip ##\n",
    "\n",
    "Python permette di importare ed installare delle librerie attraverso un gestore di pacchetti che possiede un registro delle librerie presenti, qualora stiate usando python da terminale è possibile usare `pip` per installare il pacchetto interessato usando il comando:"
   ]
  },
  {
   "cell_type": "code",
   "execution_count": null,
   "metadata": {},
   "outputs": [],
   "source": [
    "pip install nome_libreria"
   ]
  },
  {
   "cell_type": "markdown",
   "metadata": {},
   "source": [
    "## anaconda ##\n",
    "Poiché però in alcuni casi potrebbero esserci dei problemi nell'installazione è consigliabile usare invece **Anaconda** che permette un'installazione quasi sempre stabile dei pacchetti, aprite **Anaconda prompt** e digitate:"
   ]
  },
  {
   "cell_type": "code",
   "execution_count": null,
   "metadata": {},
   "outputs": [],
   "source": [
    "conda install nome_libreria"
   ]
  },
  {
   "cell_type": "markdown",
   "metadata": {},
   "source": [
    "# Aggiornare librerie python #\n",
    "\n",
    "Nel futuro sarà necessario per voi aggiornare le librerie che state utilizzando ed in tal caso potete usare i seguenti comandi. \n",
    "\n",
    "## anaconda ##\n",
    "\n",
    "Qualora utilizziate **Anaconda** cosa fortemente consigliata potete aprire **Anaconda prompt** e digitare:"
   ]
  },
  {
   "cell_type": "code",
   "execution_count": null,
   "metadata": {},
   "outputs": [],
   "source": [
    "conda update conda"
   ]
  },
  {
   "cell_type": "markdown",
   "metadata": {},
   "source": [
    "Questo vi aggiornerà sia anaconda che i pacchetti python, qualora vogliate aggiornare solo i pacchetti dovete usare:"
   ]
  },
  {
   "cell_type": "code",
   "execution_count": null,
   "metadata": {},
   "outputs": [],
   "source": [
    "conda update --all"
   ]
  },
  {
   "cell_type": "markdown",
   "metadata": {},
   "source": [
    "## pip ##\n",
    "Per pip la situazione è più complicata potete usare il seguente comando:"
   ]
  },
  {
   "cell_type": "code",
   "execution_count": null,
   "metadata": {},
   "outputs": [],
   "source": [
    "pip freeze --user | cut -d'=' -f1 | xargs -n1 pip install -U"
   ]
  },
  {
   "cell_type": "markdown",
   "metadata": {},
   "source": [
    "La spiegazione del comando la potete trovare __[qui](https://dougie.io/answers/pip-update-all-packages/)__.<br>\n",
    "In alternativa potete usare il pacchetto  __[pipupgrade](https://dougie.io/answers/pip-update-all-packages/)__ dopo averlo installato.\n",
    "Comando installazione:"
   ]
  },
  {
   "cell_type": "code",
   "execution_count": null,
   "metadata": {},
   "outputs": [],
   "source": [
    "pip install pipupgrade"
   ]
  },
  {
   "cell_type": "markdown",
   "metadata": {},
   "source": [
    "Comando per aggiornare tutti i pacchetti:"
   ]
  },
  {
   "cell_type": "code",
   "execution_count": null,
   "metadata": {},
   "outputs": [],
   "source": [
    "pipupgrade --all"
   ]
  },
  {
   "cell_type": "markdown",
   "metadata": {},
   "source": [
    "***\n",
    "COMPLIMENTI AVETE COMPLETATO LA LEZIONE SUI MODULI!"
   ]
  }
 ],
 "metadata": {
  "kernelspec": {
   "display_name": "Python 3",
   "language": "python",
   "name": "python3"
  },
  "language_info": {
   "codemirror_mode": {
    "name": "ipython",
    "version": 3
   },
   "file_extension": ".py",
   "mimetype": "text/x-python",
   "name": "python",
   "nbconvert_exporter": "python",
   "pygments_lexer": "ipython3",
   "version": "3.8.8"
  }
 },
 "nbformat": 4,
 "nbformat_minor": 4
}
