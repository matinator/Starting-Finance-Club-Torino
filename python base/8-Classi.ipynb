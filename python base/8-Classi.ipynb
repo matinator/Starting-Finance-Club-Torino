{
 "cells": [
  {
   "cell_type": "markdown",
   "metadata": {},
   "source": [
    "# Programmazione orientata agli oggetti e Classi #\n",
    "\n",
    "La **programmazione orientata agli oggetti** o object-oriented programming (OOP) in inglese è un paradigma di programmazione basato sulla creazione di software oggetti in grado di comunicare ed interagire tra di loro.<br>\n",
    "La definizione del concetto di classe è l'esempio più comune presente in tali linguaggi, la classe si basa sulla definzione di una interfaccia attraverso cui è possibile interagire con diversi tipi di dati.\n",
    "\n",
    "Per poter essere definito ad oggetti il linguaggio deve possedere 3 meccanismi:\n",
    "- incapsulamento: separazione tra interfaccia e implementazione\n",
    "- ereditarietà: possibiltà di definire nuovi oggetti a partire da quelli già definiti\n",
    "- polimorfismo: la presenza di un interfaccia comune a diversi tipi di oggetti con comportamenti diversi\n",
    "\n",
    "Python essendo un linguaggio OOP è esattamente basato su questi meccanismi e sul concetto di classe."
   ]
  },
  {
   "cell_type": "markdown",
   "metadata": {},
   "source": [
    "## Classi ##\n",
    "\n",
    "Dalla definizione precedente sappiamo che **una classe è un oggetto, in python in particolare ogni cosa è un oggetto!**<br>\n",
    "Una classe però oltre alla possibilità di essere vuota deve contenere degli elementi che possono essere classificati in:<br>\n",
    "- attributi: analoghi alle variabili ed appartenenti solo alla classe\n",
    "- metodi: procedure o funzioni che possono essere applicate sugli attributi\n",
    "\n",
    "In python per poter inizializzare una classe è necessario usare la parola chiave `class` seguita dal nome della classe, poiché una classe deve essere inizializzata qualora venga invocata è possibile **inizziarla definendo un metodo chiamato costruttore e definito con `__init__`** dove vengono inzializzati gli attributi, la presenza dei caratteri `__` ad inizio e fine del nome contrassegnano il **metodo come magico(magic method in inglese) e permettono di ritornare un nuovo oggetto definito**.Il comando per associare i metodi e gli attributi ad una classe è possibile usare il comando `self`."
   ]
  },
  {
   "cell_type": "code",
   "execution_count": null,
   "metadata": {},
   "outputs": [],
   "source": [
    "#definisco una classe usando il comando class e associandole un nome\n",
    "class Persona: # notare bene che inizio con la lettera maiuscola per convenzione\n",
    "    #associo alla classe un metodo il costruttore come metodo\n",
    "    #definedolo esattamente come una funzione con la differenza\n",
    "    #che per argomenti è necessario sia presente il comando self\n",
    "    def __init__(self): #ricordatevi di mettere self!\n",
    "        '''Inizializza la classe persona con attributi\n",
    "           nome e cognome settati a None'''\n",
    "        #per creare un attributo è possibile\n",
    "        #usare il comando self.nome_attributo\n",
    "        self.nome = None\n",
    "        self.cognome = None"
   ]
  },
  {
   "cell_type": "markdown",
   "metadata": {},
   "source": [
    "Abbiamo quindi creato una classe di nome Persona ed creato un costruttore per poter crearla ora bastera invocarla come se fosse una funzione ed associarli ad essa una variabile in modo da poter essere in memoria."
   ]
  },
  {
   "cell_type": "code",
   "execution_count": 2,
   "metadata": {},
   "outputs": [],
   "source": [
    "#umano ora sarà associato a persona\n",
    "umano = Persona()\n",
    "print(f\"attributo di umano, nome:{umano.nome}, cognome:{umano.cognome}\")\n",
    "#posso modificare ora gli attributi usando il comando umano.attrinuto = valore\n",
    "umano.nome = \"Matteo\"\n",
    "umano.cognome = \"Conterno\"\n",
    "print(f\"attributo di umano, nome:{umano.nome}, cognome:{umano.cognome}\")"
   ]
  },
  {
   "cell_type": "markdown",
   "metadata": {},
   "source": [
    "Come è possibile notare dopo la definizione della classe è possibile modificare gli attributi di essa, la motivazione è dovuta al fatto che l'attributo definito nella classe è **pubblico, ovvero può essere accessibile e modificabile al di fuori della classe**, per rendere questo attributo **privato, ovvero non accessibile o modificabile al di fuori della classe** è possibile porre `__` solo prima dell'attributo."
   ]
  },
  {
   "cell_type": "code",
   "execution_count": 3,
   "metadata": {},
   "outputs": [],
   "source": [
    "class Persona_Private:\n",
    "    def __init__(self): #ricordatevi di mettere self!\n",
    "        '''Inizializza la classe persona con attributi\n",
    "           nome e cognome settati a None'''\n",
    "        #per creare un attributo è possibile\n",
    "        #usare il comando self.nome_attributo\n",
    "        self.__nome = None\n",
    "        self.__cognome = None"
   ]
  },
  {
   "cell_type": "markdown",
   "metadata": {},
   "source": [
    "<div class=\"alert alert-block alert-danger\">\n",
    "    Attenzione che a differenza di altri linguaggi in python è possibile modificare gli attributi privati al di fuori della classi attraverso delle procedure specifiche.\n",
    "</div>"
   ]
  },
  {
   "cell_type": "code",
   "execution_count": 4,
   "metadata": {},
   "outputs": [
    {
     "ename": "AttributeError",
     "evalue": "'Persona_Private' object has no attribute 'nome'",
     "output_type": "error",
     "traceback": [
      "\u001b[1;31m---------------------------------------------------------------------------\u001b[0m",
      "\u001b[1;31mAttributeError\u001b[0m                            Traceback (most recent call last)",
      "\u001b[1;32m<ipython-input-4-000bc3ab679f>\u001b[0m in \u001b[0;36m<module>\u001b[1;34m\u001b[0m\n\u001b[0;32m      1\u001b[0m \u001b[0mumano\u001b[0m \u001b[1;33m=\u001b[0m \u001b[0mPersona_Private\u001b[0m\u001b[1;33m(\u001b[0m\u001b[1;33m)\u001b[0m\u001b[1;33m\u001b[0m\u001b[1;33m\u001b[0m\u001b[0m\n\u001b[0;32m      2\u001b[0m \u001b[1;31m#questo darà errore dicendo che non trova l'attributo\u001b[0m\u001b[1;33m\u001b[0m\u001b[1;33m\u001b[0m\u001b[1;33m\u001b[0m\u001b[0m\n\u001b[1;32m----> 3\u001b[1;33m \u001b[0mumano\u001b[0m\u001b[1;33m.\u001b[0m\u001b[0mnome\u001b[0m\u001b[1;33m\u001b[0m\u001b[1;33m\u001b[0m\u001b[0m\n\u001b[0m",
      "\u001b[1;31mAttributeError\u001b[0m: 'Persona_Private' object has no attribute 'nome'"
     ]
    }
   ],
   "source": [
    "umano = Persona_Private()\n",
    "#questo darà errore dicendo che non trova l'attributo\n",
    "umano.nome"
   ]
  },
  {
   "cell_type": "markdown",
   "metadata": {},
   "source": [
    "La creazione di altri metodi oltre al costruttore è abbastanza semplice e consiste nella creazione di funzioni all'interno della classe, qualora utilizzaste attributi privati sarebbe consigliabile definire dei metodi chiamati **getter e setter** ovvero metodi attraverso cui ritornare li attributi privati e risettarli. "
   ]
  },
  {
   "cell_type": "code",
   "execution_count": 5,
   "metadata": {},
   "outputs": [],
   "source": [
    "#ridefiniamo la classe Persona in maniera più completa\n",
    "class Persona:\n",
    "    def __init__(self, nome = \"Matteo\", cognome = \"Conterno\"):\n",
    "        '''Costruttore della classe persona con argomenti di default\n",
    "           nome = Matteo, cognome = Conterno'''\n",
    "        #definisco li attributi in maniera privata in modo\n",
    "        #che al di fuori della classe sia impossibile\n",
    "        #modifcarli a meno che si usa un metodo della classe\n",
    "        self.__nome = nome\n",
    "        self.__cognome = cognome\n",
    "    \n",
    "    def saluta(self):\n",
    "        '''Stampa un saluto con nome e cognome, non ritorna nulla'''\n",
    "        print(f\"Salve, io sono {self.__nome} {self.__cognome}\")\n",
    "        \n",
    "    def get_name(self):\n",
    "        '''Ritorna il nome e il cognome '''\n",
    "        return self.__nome, self.__cognome\n",
    "    \n",
    "    def set_name(self, nome, cognome):\n",
    "        '''Setta le variabili nome e cognome secondo i nuovi valori,\n",
    "           sono necessari nuovi valori e non sono presenti di default'''\n",
    "        self.__nome = nome\n",
    "        self.__cognome = cognome"
   ]
  },
  {
   "cell_type": "code",
   "execution_count": 6,
   "metadata": {},
   "outputs": [
    {
     "name": "stdout",
     "output_type": "stream",
     "text": [
      "Salve, io sono Matteo Conterno\n",
      "Valori ottenuti Matteo, Conterno\n",
      "Salve, io sono Flavio Pirazzi\n"
     ]
    }
   ],
   "source": [
    "umano = Persona()\n",
    "#invoca il metodo della classe\n",
    "umano.saluta()\n",
    "nome, cognome = umano.get_name()\n",
    "print(f\"Valori ottenuti {nome}, {cognome}\")\n",
    "umano.set_name(nome = \"Flavio\", cognome = \"Pirazzi\")\n",
    "umano.saluta()"
   ]
  },
  {
   "cell_type": "markdown",
   "metadata": {},
   "source": [
    "Nel caso in cui sia necessario che tutte le classi presentino attributi uguali in ognuna delle loro definizione è possibile associare una variabile di classe che sarà condivisa da ognuna di esse."
   ]
  },
  {
   "cell_type": "code",
   "execution_count": 7,
   "metadata": {},
   "outputs": [],
   "source": [
    "class Persona:\n",
    "    #variabile di classe, non attributo\n",
    "    genere = \"umano\"\n",
    "    def __init__(self, nome = \"Matteo\", cognome = \"Conterno\"):\n",
    "        '''Costruttore della classe persona con argomenti di default\n",
    "           nome = Matteo, cognome = Conterno'''\n",
    "        self.__nome = nome\n",
    "        self.__cognome = cognome"
   ]
  },
  {
   "cell_type": "code",
   "execution_count": 8,
   "metadata": {},
   "outputs": [
    {
     "name": "stdout",
     "output_type": "stream",
     "text": [
      "variabile di classe di umano è umano\n",
      "variabile di classe di qualcuno è umano\n"
     ]
    }
   ],
   "source": [
    "umano = Persona()\n",
    "qualcuno = Persona()\n",
    "#stampo ala variabile di classe\n",
    "print(f\"variabile di classe di umano è {umano.genere}\")\n",
    "print(f\"variabile di classe di qualcuno è {qualcuno.genere}\")"
   ]
  },
  {
   "cell_type": "markdown",
   "metadata": {},
   "source": [
    "La variabile di classe può anche essere definita come privata usando i comandi mostrati in precedenza."
   ]
  },
  {
   "cell_type": "markdown",
   "metadata": {},
   "source": [
    "### Ereditarietà delle classi ###\n",
    "\n",
    "L'ereditarietà come abbiamo definito prima è la possibiltà di definire nuove classi a partire da altre già definite, questa è un aspetto molto potente che permette di definire nuove funzionalità ad altre già preesistenti, vediamo un esempio per essere chiari."
   ]
  },
  {
   "cell_type": "code",
   "execution_count": 9,
   "metadata": {},
   "outputs": [],
   "source": [
    "class Calcolatrice:\n",
    "    def __init__(self):\n",
    "        '''Definisci un attributo detto risultato a 0'''\n",
    "        #lo definisco privato così è modificabile solo dalla classe\n",
    "        self.risultato = 0\n",
    "    \n",
    "    #sarebbe possibile definire un metodo magico che prenda\n",
    "    #oggetti per restituire un oggetto, ma per semplicità non lo faccio\n",
    "    def somma(self, x = 0, y = 0):\n",
    "        '''Calcola la somma di due numeri e somma al risultato'''\n",
    "        #aggiungiamo la somma al risultato\n",
    "        self.risultato += x + y \n",
    "        print(f'La somma di {x} e {y} è {x + y}')\n",
    "        print(f'risultato delle operazioni fino ad ora {self.risultato}')\n",
    "            \n",
    "    def prodotto(self, x = 1, y = 1):\n",
    "        '''Calcola il prodotto di due numeri e lo moltiplica al risultato'''\n",
    "        self.risultato *= (x * y)\n",
    "        print(f'Il prodotto di {x} e {y} è {x * y}')\n",
    "        print(f'risultato delle operazioni fino ad ora {self.risultato}')\n",
    "        \n",
    "    def differenza(self, x = 0, y = 0):\n",
    "        '''Calcola la differenza di due numeri e somma al risultato'''\n",
    "        self.risultato += (x - y)\n",
    "        print(f'La differenza di {x} e {y} è {x - y}')\n",
    "        print(f'risultato delle operazioni fino ad ora {self.risultato}')\n",
    "    \n",
    "    def divisione(self, x = 1, y = 1):# 1 per evitare problemi di ZeroDivisionError\n",
    "        '''Calcola la divisione tra due numeri e lo divide al risultato'''\n",
    "        self.risultato /= (x / y)\n",
    "        print(f'La differenza di {x} e {y} è {x / y}')\n",
    "        print(f'risultato delle operazioni fino ad ora {self.risultato}')\n",
    "        \n",
    "    def ottieni_risultato(self):\n",
    "        '''ritorna il risultato delle operazioni'''\n",
    "        return self.risultato\n",
    "    \n",
    "    def stampa_risultato(self):\n",
    "        '''Stampa il risultato delle operazioni'''\n",
    "        print(f'il risultato è {self.risultato}')\n",
    "    \n",
    "    def azzera(self):\n",
    "        '''azzera il risultato delle operazioni fino ad ora calcolato'''\n",
    "        self.risultato = 0\n",
    "        print('risultato azzerato')"
   ]
  },
  {
   "cell_type": "markdown",
   "metadata": {},
   "source": [
    "Proviamo ora a usare la classe calcolatrice, vediamo come funziona."
   ]
  },
  {
   "cell_type": "code",
   "execution_count": 10,
   "metadata": {},
   "outputs": [
    {
     "name": "stdout",
     "output_type": "stream",
     "text": [
      "La somma di 1 e 4 è 5\n",
      "risultato delle operazioni fino ad ora 5\n",
      "il risultato è 5\n",
      "Il prodotto di 3 e 5 è 15\n",
      "risultato delle operazioni fino ad ora 75\n",
      "La differenza di 5 e 10 è -5\n",
      "risultato delle operazioni fino ad ora 70\n",
      "risultato azzerato\n",
      "il risultato è 0\n"
     ]
    }
   ],
   "source": [
    "calc = Calcolatrice()\n",
    "calc.somma(x = 1, y = 4)\n",
    "calc.stampa_risultato()\n",
    "calc.prodotto( x = 3, y = 5)\n",
    "calc.differenza(x = 5, y = 10)\n",
    "calc.azzera()\n",
    "calc.stampa_risultato()"
   ]
  },
  {
   "cell_type": "markdown",
   "metadata": {},
   "source": [
    "Abbiamo quindi creato una classe calcolatrice in grado di effettuare le basiche operazioni, se volessimo aggiungere delle funzionalità alla classe avremmo due possibili strade da seguire:\n",
    "\n",
    "- modificare la classe originale aggiungendo funzionalità\n",
    "- creare una nuova classe basandoci su quella già creata aggiungendo funzionalità\n",
    "\n",
    "Vediamo quindi la seconda strada che corrisponde all'ereditarietà appena mostrata.\n",
    "Per poter ereditare i comportamenti di una classe usando quelli già presenti in una basta mettere tra parentesi il nome della classe da ereditare subito dopo la dichiarazione della classe, il numero delle classi che sono possibili ereditare non è limitato al singolo in python e qualora sia necessario accedere ad metodi o attributi presenti nelle classi ereditate è possibile usare il comando `super`.<br>\n",
    "Per maggiori informazioni consultate la [documentazione di python](https://docs.python.org/3/tutorial/classes.html#inheritance).<br>\n",
    "Le classi che sono ereditate vengono chiamte **Parent**, mentre le classi che ereditano altre classi sono chiamate **Child**."
   ]
  },
  {
   "cell_type": "markdown",
   "metadata": {},
   "source": [
    "<div class=\"alert alert-block alert-warning\">\n",
    "    Nel caso di ereditarietà multipla l'accesso ai metodi avviene partendo dalle classi prima dichiarate, ovvero da sinistra verso destra nella dichiarazione tra parentesi.\n",
    "</div>"
   ]
  },
  {
   "cell_type": "code",
   "execution_count": 11,
   "metadata": {},
   "outputs": [],
   "source": [
    "#metto tra parentesi la classe da cui ereditare le funzionalità\n",
    "class Scientifica(Calcolatrice):\n",
    "    def __init__(self):\n",
    "        '''Inizializzo calcolatrice scientifica settando risultato a zero'''\n",
    "        #eredito l'attributo risultato della classe originale\n",
    "        #nel classo di ereditarietà di classe multiple\n",
    "        #è possibile accedere usando nome_classe.attributo o metodo\n",
    "        #usiamo il costruttore della calcolatrice mettendo la classe\n",
    "        #ereditata e l'oggetto da cui ereditare\n",
    "        super().__init__()\n",
    "        #alternativamente Calcolatrice.__init__(self)\n",
    "        # o super(Scientifica, self).__init__()\n",
    "        \n",
    "    def radice_quadrata(self, x = 0):\n",
    "        '''Calcola la radice quadrata positiva del valore x e la somma al risultato '''\n",
    "        self.risultato += x**(0.5)\n",
    "        print(f'la radice quadrata di {x} è {x**(0.5)}')\n",
    "        print(f'il risultato è {self.risultato}')\n",
    "              \n",
    "    def potenza(self, x = 0, y = 1):\n",
    "        '''Calcola x elevato alla y e somma il risultato'''\n",
    "        self.risultato += x**y\n",
    "        print(f'{x} elevato alla  {y} è {x**y}')\n",
    "        print(f'il risultato è {self.risultato}')"
   ]
  },
  {
   "cell_type": "code",
   "execution_count": 12,
   "metadata": {},
   "outputs": [
    {
     "name": "stdout",
     "output_type": "stream",
     "text": [
      "il risultato è 0\n",
      "La somma di 4 e 5 è 9\n",
      "risultato delle operazioni fino ad ora 9\n",
      "Il prodotto di 6 e 7 è 42\n",
      "risultato delle operazioni fino ad ora 378\n",
      "risultato azzerato\n"
     ]
    }
   ],
   "source": [
    "scient = Scientifica()\n",
    "#proviamo a richiamare un metodo della classe ereditata\n",
    "scient.stampa_risultato()\n",
    "scient.somma(x = 4, y = 5)\n",
    "scient.prodotto(x = 6, y = 7)\n",
    "scient.azzera()"
   ]
  },
  {
   "cell_type": "code",
   "execution_count": 13,
   "metadata": {},
   "outputs": [
    {
     "name": "stdout",
     "output_type": "stream",
     "text": [
      "la radice quadrata di 4 è 2.0\n",
      "il risultato è 2.0\n",
      "3 elevato alla  4 è 81\n",
      "il risultato è 83.0\n",
      "risultato azzerato\n"
     ]
    }
   ],
   "source": [
    "#proviamo a usare un metodo della classe nuova \n",
    "scient.radice_quadrata(x = 4)\n",
    "scient.potenza(x = 3, y = 4)\n",
    "scient.azzera()"
   ]
  },
  {
   "cell_type": "markdown",
   "metadata": {},
   "source": [
    "<div class=\"alert alert-block alert-danger\">\n",
    "    Gli attributi o i metodi privati di una classe non vengono ereditati.\n",
    "</div>"
   ]
  },
  {
   "cell_type": "code",
   "execution_count": 14,
   "metadata": {},
   "outputs": [
    {
     "ename": "AttributeError",
     "evalue": "'Calcolatrice' object has no attribute 'radice_quadrata'",
     "output_type": "error",
     "traceback": [
      "\u001b[1;31m---------------------------------------------------------------------------\u001b[0m",
      "\u001b[1;31mAttributeError\u001b[0m                            Traceback (most recent call last)",
      "\u001b[1;32m<ipython-input-14-42c8935ed1fa>\u001b[0m in \u001b[0;36m<module>\u001b[1;34m\u001b[0m\n\u001b[0;32m      1\u001b[0m \u001b[1;31m#proviamo ad usare i metodi di scientifica usando calcolatrice\u001b[0m\u001b[1;33m\u001b[0m\u001b[1;33m\u001b[0m\u001b[1;33m\u001b[0m\u001b[0m\n\u001b[0;32m      2\u001b[0m \u001b[0mcalc\u001b[0m \u001b[1;33m=\u001b[0m \u001b[0mCalcolatrice\u001b[0m\u001b[1;33m(\u001b[0m\u001b[1;33m)\u001b[0m\u001b[1;33m\u001b[0m\u001b[1;33m\u001b[0m\u001b[0m\n\u001b[1;32m----> 3\u001b[1;33m \u001b[0mcalc\u001b[0m\u001b[1;33m.\u001b[0m\u001b[0mradice_quadrata\u001b[0m\u001b[1;33m(\u001b[0m\u001b[1;33m)\u001b[0m\u001b[1;33m\u001b[0m\u001b[1;33m\u001b[0m\u001b[0m\n\u001b[0m",
      "\u001b[1;31mAttributeError\u001b[0m: 'Calcolatrice' object has no attribute 'radice_quadrata'"
     ]
    }
   ],
   "source": [
    "#proviamo ad usare i metodi di scientifica usando calcolatrice\n",
    "calc = Calcolatrice()\n",
    "calc.radice_quadrata()"
   ]
  },
  {
   "cell_type": "markdown",
   "metadata": {},
   "source": [
    "Come possiamo notare l'ereditarietà è in un'unica direzione ovvero le **classi Child ereditano i comportamenti dalle classi Parent, ma le Parent non possiedono le nuove funzionalità dei Child**."
   ]
  },
  {
   "cell_type": "markdown",
   "metadata": {},
   "source": [
    "### Iteratori ###\n",
    "Qualora noi usiamo un loop for quello che accade in python è la creazione di un iteratore ovvero di un oggetto in grado di accedere gli elementi di un altro oggetto in maniera sequenziale, in python è possibile usare il comando `iter` per crearne uno e usare il comando `next` per andare all'elemento successivo."
   ]
  },
  {
   "cell_type": "code",
   "execution_count": 15,
   "metadata": {},
   "outputs": [
    {
     "name": "stdout",
     "output_type": "stream",
     "text": [
      "C\n",
      "i\n",
      "a\n",
      "o\n"
     ]
    },
    {
     "ename": "StopIteration",
     "evalue": "",
     "output_type": "error",
     "traceback": [
      "\u001b[1;31m---------------------------------------------------------------------------\u001b[0m",
      "\u001b[1;31mStopIteration\u001b[0m                             Traceback (most recent call last)",
      "\u001b[1;32m<ipython-input-15-d6a82b121a34>\u001b[0m in \u001b[0;36m<module>\u001b[1;34m\u001b[0m\n\u001b[0;32m      6\u001b[0m \u001b[0mprint\u001b[0m\u001b[1;33m(\u001b[0m\u001b[0mnext\u001b[0m\u001b[1;33m(\u001b[0m\u001b[0mit\u001b[0m\u001b[1;33m)\u001b[0m\u001b[1;33m)\u001b[0m\u001b[1;33m\u001b[0m\u001b[1;33m\u001b[0m\u001b[0m\n\u001b[0;32m      7\u001b[0m \u001b[0mprint\u001b[0m\u001b[1;33m(\u001b[0m\u001b[0mnext\u001b[0m\u001b[1;33m(\u001b[0m\u001b[0mit\u001b[0m\u001b[1;33m)\u001b[0m\u001b[1;33m)\u001b[0m\u001b[1;33m\u001b[0m\u001b[1;33m\u001b[0m\u001b[0m\n\u001b[1;32m----> 8\u001b[1;33m \u001b[0mprint\u001b[0m\u001b[1;33m(\u001b[0m\u001b[0mnext\u001b[0m\u001b[1;33m(\u001b[0m\u001b[0mit\u001b[0m\u001b[1;33m)\u001b[0m\u001b[1;33m)\u001b[0m\u001b[1;33m\u001b[0m\u001b[1;33m\u001b[0m\u001b[0m\n\u001b[0m",
      "\u001b[1;31mStopIteration\u001b[0m: "
     ]
    }
   ],
   "source": [
    "saluto = \"Ciao\"\n",
    "#creiamo un iteratore\n",
    "it = iter(saluto)\n",
    "print(next(it))\n",
    "print(next(it))\n",
    "print(next(it))\n",
    "print(next(it))\n",
    "print(next(it))"
   ]
  },
  {
   "cell_type": "markdown",
   "metadata": {},
   "source": [
    "Come possiamo notare ogni elemento viene iterato al successivo fino all'ultimo dove viene invoca un'eccezzione di nome StopIterator poiché non ci sono più elementi da iterare.Qualora volessimo usare un iteratore all'interno della classe è possibile definire un magico `__iter__` e `__next__`."
   ]
  },
  {
   "cell_type": "code",
   "execution_count": 16,
   "metadata": {},
   "outputs": [],
   "source": [
    "class Persona:\n",
    "    def __init__(self, nome ='Matteo'):\n",
    "        '''Inizializza persona con nome = Matteo'''\n",
    "        self.nome = nome\n",
    "        self.indice = -1\n",
    "    \n",
    "    def __iter__(self):\n",
    "        '''Crea un iteratore'''\n",
    "        return self\n",
    "    \n",
    "    def __next__(self):\n",
    "        '''Permette di accedere agli elementi successivi'''\n",
    "        if self.indice == (len(self.nome) - 1):\n",
    "            raise StopIteration\n",
    "        else:\n",
    "            self.indice += 1\n",
    "            return self.nome[self.indice]"
   ]
  },
  {
   "cell_type": "code",
   "execution_count": 17,
   "metadata": {},
   "outputs": [
    {
     "name": "stdout",
     "output_type": "stream",
     "text": [
      "M\n",
      "a\n",
      "t\n",
      "t\n",
      "e\n",
      "o\n"
     ]
    }
   ],
   "source": [
    "p = Persona()\n",
    "for char in p:\n",
    "    print(char)"
   ]
  },
  {
   "cell_type": "markdown",
   "metadata": {},
   "source": [
    "Quello che succede nel loop for è che viene invocato il metodo iter e next per iterare all'interno del attributo nome della classe Persona e funziona per qualsiasi lunghezza."
   ]
  },
  {
   "cell_type": "markdown",
   "metadata": {},
   "source": [
    "p = Persona(nome = 'Ermenegildo')\n",
    "for char in p:\n",
    "    print(char)"
   ]
  },
  {
   "cell_type": "markdown",
   "metadata": {},
   "source": [
    "### Generatori ### \n",
    "\n",
    "Creare però questi iteraori in molti casi può essere tedioso o complicato ed è per questo motivo che python usa i **generatori** in tali circostanze.<br>\n",
    "In python la creazione di un generatore avviene attraverso il comando `yield`che permette di riotornare l'elemento corrente e tenere memoria del suo indice per andare al successivo, l'unica condizione sul suo utilizzo è che sia all'interno di una funzione."
   ]
  },
  {
   "cell_type": "code",
   "execution_count": 18,
   "metadata": {},
   "outputs": [
    {
     "name": "stdout",
     "output_type": "stream",
     "text": [
      "o\n",
      "e\n",
      "t\n",
      "t\n",
      "a\n",
      "M\n"
     ]
    }
   ],
   "source": [
    "def contrario(stringa):\n",
    "    '''Ritorna gli elementi in ordine inverso'''\n",
    "    for indice in range(len(stringa)-1, -1, -1):\n",
    "        yield stringa[indice]\n",
    "\n",
    "nome = \"Matteo\"\n",
    "for char in contrario(nome):\n",
    "    print(char)"
   ]
  },
  {
   "cell_type": "markdown",
   "metadata": {},
   "source": [
    "I generatori possono essere creati anche usando delle espressioni tra parentesi simili alle comprensioni di liste con la differenza che devono essere contenute all'interno di parentesi tonde."
   ]
  },
  {
   "cell_type": "code",
   "execution_count": 19,
   "metadata": {},
   "outputs": [
    {
     "name": "stdout",
     "output_type": "stream",
     "text": [
      "La somma di 3n con n da 0 a 9 è 45\n"
     ]
    }
   ],
   "source": [
    "#creiamo un generatore per calcolare la somma di 3n con n da 0 a 9\n",
    "tot = sum(n for n in range(10))\n",
    "print(f'La somma di 3n con n da 0 a 9 è {tot}')"
   ]
  },
  {
   "cell_type": "markdown",
   "metadata": {},
   "source": [
    "***\n",
    "\n",
    "COMPLIMENTI AVETE CONCLUSO LA LEZIONE SULLE CLASSI E IL CAPITOLO PYTHON BASE!"
   ]
  }
 ],
 "metadata": {
  "kernelspec": {
   "display_name": "Python 3",
   "language": "python",
   "name": "python3"
  },
  "language_info": {
   "codemirror_mode": {
    "name": "ipython",
    "version": 3
   },
   "file_extension": ".py",
   "mimetype": "text/x-python",
   "name": "python",
   "nbconvert_exporter": "python",
   "pygments_lexer": "ipython3",
   "version": "3.8.5"
  }
 },
 "nbformat": 4,
 "nbformat_minor": 4
}
