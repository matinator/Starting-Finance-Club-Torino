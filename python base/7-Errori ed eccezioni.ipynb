{
 "cells": [
  {
   "cell_type": "markdown",
   "metadata": {},
   "source": [
    "# Errori di sintassi ed eccezioni #\n",
    "In python possono capitare due tipi di errori principalmente:\n",
    "- Errori di sintassi : errori dovuti alla scrittura sbagliata di comandi nel codice\n",
    "- eccezioni : errori la cui natura è logica e non simile alla precedente\n",
    "Fortunatamente python fornisce dei possibili metodi per risolvere questi tipi di problemi e gestirli.\n",
    "\n",
    "## Errori di sintassi ##\n",
    "Questi purtroppo devono essere risolti, il motivo è semplice: abbiamo sbagliato a scrivere male un comando, abbiamo dimenticato una parentesi o altro, in tal caso dobbiamo soltanto rimediare all'errore, facciamo un esempio:"
   ]
  },
  {
   "cell_type": "code",
   "execution_count": 1,
   "metadata": {},
   "outputs": [
    {
     "ename": "NameError",
     "evalue": "name 'pint' is not defined",
     "output_type": "error",
     "traceback": [
      "\u001b[1;31m---------------------------------------------------------------------------\u001b[0m",
      "\u001b[1;31mNameError\u001b[0m                                 Traceback (most recent call last)",
      "\u001b[1;32m<ipython-input-1-737a63aec688>\u001b[0m in \u001b[0;36m<module>\u001b[1;34m\u001b[0m\n\u001b[0;32m      1\u001b[0m \u001b[0mval\u001b[0m \u001b[1;33m=\u001b[0m \u001b[1;36m5\u001b[0m  \u001b[1;31m#tutto ok\u001b[0m\u001b[1;33m\u001b[0m\u001b[1;33m\u001b[0m\u001b[0m\n\u001b[0;32m      2\u001b[0m \u001b[0mval\u001b[0m \u001b[1;33m+=\u001b[0m \u001b[1;36m1\u001b[0m \u001b[1;31m#tutto ok\u001b[0m\u001b[1;33m\u001b[0m\u001b[1;33m\u001b[0m\u001b[0m\n\u001b[1;32m----> 3\u001b[1;33m \u001b[0mpint\u001b[0m\u001b[1;33m(\u001b[0m\u001b[1;34m'Il valore è:'\u001b[0m\u001b[1;33m,\u001b[0m \u001b[0mval\u001b[0m\u001b[1;33m)\u001b[0m \u001b[1;31m#qua c'é un errore\u001b[0m\u001b[1;33m\u001b[0m\u001b[1;33m\u001b[0m\u001b[0m\n\u001b[0m",
      "\u001b[1;31mNameError\u001b[0m: name 'pint' is not defined"
     ]
    }
   ],
   "source": [
    "val = 5  #tutto ok\n",
    "val += 1 #tutto ok\n",
    "pint('Il valore è:', val) #qua c'é un errore"
   ]
  },
  {
   "cell_type": "markdown",
   "metadata": {},
   "source": [
    "L'errore è che ho sbagliato a scrivere `print` e ho scritto `pint`, un altro esempio è:"
   ]
  },
  {
   "cell_type": "code",
   "execution_count": 2,
   "metadata": {},
   "outputs": [
    {
     "ename": "SyntaxError",
     "evalue": "invalid syntax (<ipython-input-2-165a5c94f1c4>, line 4)",
     "output_type": "error",
     "traceback": [
      "\u001b[1;36m  File \u001b[1;32m\"<ipython-input-2-165a5c94f1c4>\"\u001b[1;36m, line \u001b[1;32m4\u001b[0m\n\u001b[1;33m    if (val == 5) break; # non ok\u001b[0m\n\u001b[1;37m                  ^\u001b[0m\n\u001b[1;31mSyntaxError\u001b[0m\u001b[1;31m:\u001b[0m invalid syntax\n"
     ]
    }
   ],
   "source": [
    "val = 0 #ok\n",
    "while True: #ok\n",
    "    val += 1 #ok\n",
    "    if (val == 5) break; # non ok"
   ]
  },
  {
   "cell_type": "markdown",
   "metadata": {},
   "source": [
    "In questo caso ci siamo dimenticati di mettere dopo le parentesi `:` e questo ha creato un SintaxError."
   ]
  },
  {
   "cell_type": "markdown",
   "metadata": {},
   "source": [
    "## eccezioni ##\n",
    "Le eccezione sono invece dovute a un errore nella logica ed in questo caso python ci permette di gestire i problemi, vediamo un esempio:"
   ]
  },
  {
   "cell_type": "code",
   "execution_count": 3,
   "metadata": {},
   "outputs": [
    {
     "ename": "ZeroDivisionError",
     "evalue": "division by zero",
     "output_type": "error",
     "traceback": [
      "\u001b[1;31m---------------------------------------------------------------------------\u001b[0m",
      "\u001b[1;31mZeroDivisionError\u001b[0m                         Traceback (most recent call last)",
      "\u001b[1;32m<ipython-input-3-9e1622b385b6>\u001b[0m in \u001b[0;36m<module>\u001b[1;34m\u001b[0m\n\u001b[1;32m----> 1\u001b[1;33m \u001b[1;36m1\u001b[0m\u001b[1;33m/\u001b[0m\u001b[1;36m0\u001b[0m\u001b[1;33m\u001b[0m\u001b[1;33m\u001b[0m\u001b[0m\n\u001b[0m",
      "\u001b[1;31mZeroDivisionError\u001b[0m: division by zero"
     ]
    }
   ],
   "source": [
    "1/0"
   ]
  },
  {
   "cell_type": "markdown",
   "metadata": {},
   "source": [
    "Python ci avvisa già che l'errore che stiamo commettendo è la divisione di un numero per zero, che è impossibile da fare, in tal caso possiamo decidere di gestire l'eccezione."
   ]
  },
  {
   "cell_type": "markdown",
   "metadata": {},
   "source": [
    "### Try e Except ###\n",
    "Partiamo prima dal come catturare l'eccezione e definire cosa fare in tal caso, il primo passo è indentare il nostro codice dopo aver usato la parola chiave `try:` infine scriviamo il codice interessato e qualora un'eccezione capitasse nel blocco usiamo `expect` per catturarla e definire cosa fare."
   ]
  },
  {
   "cell_type": "code",
   "execution_count": 4,
   "metadata": {},
   "outputs": [
    {
     "name": "stdout",
     "output_type": "stream",
     "text": [
      "Qualcosa è andato storto\n"
     ]
    }
   ],
   "source": [
    "try: #prova a interpretare il codice\n",
    "    val = 1/0\n",
    "except Exception: #cattura l'eccezione\n",
    "    #questo codice verrà interpretato solo se \n",
    "    #un'eccezione è capitata\n",
    "    print('Qualcosa è andato storto')"
   ]
  },
  {
   "cell_type": "markdown",
   "metadata": {},
   "source": [
    "Come possiamo notare ora non abbiamo un errore come prima, ma abbiamo stampato una stringa qualora una **qualunque eccezione** fosse capitata, infatti `Exception` si riferisce a una qualsiasi eccezione senza essere specificata, qualora volessimo essere più precisi dobbiamo definire che tipo di eccezione considerare per far invocare il nostro codice."
   ]
  },
  {
   "cell_type": "code",
   "execution_count": 5,
   "metadata": {},
   "outputs": [
    {
     "name": "stdout",
     "output_type": "stream",
     "text": [
      "Ho diviso un numero per zero\n"
     ]
    }
   ],
   "source": [
    "try:\n",
    "    val = 1/0\n",
    "except ZeroDivisionError:\n",
    "    #solo nel caso dividiamo un numero diviso per\n",
    "    #zero questo blocco verrà interpretato\n",
    "    print('Ho diviso un numero per zero')"
   ]
  },
  {
   "cell_type": "markdown",
   "metadata": {},
   "source": [
    "Ovviamente qualora non ci fosse nessun errore il blocco di except non verrà intepretato e verrà intepretato solo il blocco di `try`.\n",
    "In genere è possibile aggiungere più tipi di eccezioni scrivendo `except(ZeroDivisionError, TypeError, ecc..)`.\n",
    "Qualora volessimo usare anche le informazioni delle eccezioni possiamo definire un acronimo per la nostra eccezione con `as`."
   ]
  },
  {
   "cell_type": "code",
   "execution_count": 6,
   "metadata": {},
   "outputs": [
    {
     "name": "stdout",
     "output_type": "stream",
     "text": [
      "Ho diviso un numero per zero\n",
      "errore originale: division by zero\n"
     ]
    }
   ],
   "source": [
    "try:\n",
    "    val = 1/0\n",
    "#ho definito ZeroDivisionError come error usando as\n",
    "except ZeroDivisionError as errore: \n",
    "    #solo nel caso dividiamo un numero diviso per\n",
    "    #zero questo blocco verrà interpretato\n",
    "    print('Ho diviso un numero per zero')\n",
    "    print('errore originale:',errore)"
   ]
  },
  {
   "cell_type": "markdown",
   "metadata": {},
   "source": [
    "## Raise ##\n",
    "Qualora fosse necessario creare un eccezione possiamo usare `raise` per creare un eccezione a nostro piacimento, riprendiamo un esempio fatto in funzioni:"
   ]
  },
  {
   "cell_type": "code",
   "execution_count": 7,
   "metadata": {},
   "outputs": [],
   "source": [
    "def somma_interi(x = 0, y = 0):\n",
    "    '''somma due numeri interi'''\n",
    "    #qualora uno dei due valori o entrambi non siano interi \n",
    "    #creiamo un eccezione di tipo TypeErro\n",
    "    if (type(x)!= int) or (type(y)!=int):\n",
    "        #invoca l'eccezione con un messaggio personalizzato\n",
    "        raise TypeError('entrambi i numeri devono essere interi!') \n",
    "    else:\n",
    "        #qua va tutto bene\n",
    "        return x + y"
   ]
  },
  {
   "cell_type": "code",
   "execution_count": 8,
   "metadata": {},
   "outputs": [
    {
     "ename": "TypeError",
     "evalue": "entrambi i numeri devono essere interi!",
     "output_type": "error",
     "traceback": [
      "\u001b[1;31m---------------------------------------------------------------------------\u001b[0m",
      "\u001b[1;31mTypeError\u001b[0m                                 Traceback (most recent call last)",
      "\u001b[1;32m<ipython-input-8-9c73290ad20a>\u001b[0m in \u001b[0;36m<module>\u001b[1;34m\u001b[0m\n\u001b[1;32m----> 1\u001b[1;33m \u001b[0msomma_interi\u001b[0m\u001b[1;33m(\u001b[0m\u001b[1;36m3.5\u001b[0m\u001b[1;33m,\u001b[0m \u001b[1;36m4\u001b[0m\u001b[1;33m)\u001b[0m\u001b[1;33m\u001b[0m\u001b[1;33m\u001b[0m\u001b[0m\n\u001b[0m",
      "\u001b[1;32m<ipython-input-7-db9e8a2f103c>\u001b[0m in \u001b[0;36msomma_interi\u001b[1;34m(x, y)\u001b[0m\n\u001b[0;32m      5\u001b[0m     \u001b[1;32mif\u001b[0m \u001b[1;33m(\u001b[0m\u001b[0mtype\u001b[0m\u001b[1;33m(\u001b[0m\u001b[0mx\u001b[0m\u001b[1;33m)\u001b[0m\u001b[1;33m!=\u001b[0m \u001b[0mint\u001b[0m\u001b[1;33m)\u001b[0m \u001b[1;32mor\u001b[0m \u001b[1;33m(\u001b[0m\u001b[0mtype\u001b[0m\u001b[1;33m(\u001b[0m\u001b[0my\u001b[0m\u001b[1;33m)\u001b[0m\u001b[1;33m!=\u001b[0m\u001b[0mint\u001b[0m\u001b[1;33m)\u001b[0m\u001b[1;33m:\u001b[0m\u001b[1;33m\u001b[0m\u001b[1;33m\u001b[0m\u001b[0m\n\u001b[0;32m      6\u001b[0m         \u001b[1;31m#invoca l'eccezione con un messaggio personalizzato\u001b[0m\u001b[1;33m\u001b[0m\u001b[1;33m\u001b[0m\u001b[1;33m\u001b[0m\u001b[0m\n\u001b[1;32m----> 7\u001b[1;33m         \u001b[1;32mraise\u001b[0m \u001b[0mTypeError\u001b[0m\u001b[1;33m(\u001b[0m\u001b[1;34m'entrambi i numeri devono essere interi!'\u001b[0m\u001b[1;33m)\u001b[0m\u001b[1;33m\u001b[0m\u001b[1;33m\u001b[0m\u001b[0m\n\u001b[0m\u001b[0;32m      8\u001b[0m     \u001b[1;32melse\u001b[0m\u001b[1;33m:\u001b[0m\u001b[1;33m\u001b[0m\u001b[1;33m\u001b[0m\u001b[0m\n\u001b[0;32m      9\u001b[0m         \u001b[1;31m#qua va tutto bene\u001b[0m\u001b[1;33m\u001b[0m\u001b[1;33m\u001b[0m\u001b[1;33m\u001b[0m\u001b[0m\n",
      "\u001b[1;31mTypeError\u001b[0m: entrambi i numeri devono essere interi!"
     ]
    }
   ],
   "source": [
    "somma_interi(3.5, 4)"
   ]
  },
  {
   "cell_type": "markdown",
   "metadata": {},
   "source": [
    "Come possiamo notare `raise` impedisce la corretta interpretazione della funzione poiché abbiamo creato un eccezione di tipo TypeError **con un messaggio personalizzato in maniera tale da specificare la motivazione per cui è stato creato questo errore** questo può risultare utile soprattutto per evitare che queste funzioni abbiano un comportamento indesiderato, ovviamente in genere si possono inserire molte altre eccezioni di natura specifica o generale in modo da evitare lo scorretto uso di funzioni.<br>\n",
    "Ovviamente di solito il comando `raise` viene usato con un blocco try e catch.<br>\n",
    "Qualora invece noi mettessimo i valori desiderati in tal caso la funzione non verra interpretata senza alcun tipo di problema,"
   ]
  },
  {
   "cell_type": "code",
   "execution_count": 9,
   "metadata": {},
   "outputs": [
    {
     "data": {
      "text/plain": [
       "7"
      ]
     },
     "execution_count": 9,
     "metadata": {},
     "output_type": "execute_result"
    }
   ],
   "source": [
    "somma_interi(3,4)"
   ]
  },
  {
   "cell_type": "markdown",
   "metadata": {},
   "source": [
    "## Finally ##\n",
    "`Finally` è invece un comando che si usa per definire un blocco di codice che viene eseguito **sempre dopo un blocco try, catch e verrà eseguito sempre dopo di esso anche qualora sia presente un eccezione**."
   ]
  },
  {
   "cell_type": "code",
   "execution_count": 10,
   "metadata": {},
   "outputs": [
    {
     "name": "stdout",
     "output_type": "stream",
     "text": [
      "Un errore è sorto: division by zero\n",
      "Finito il blocco try catch\n"
     ]
    }
   ],
   "source": [
    "try:\n",
    "    1/0\n",
    "except ZeroDivisionError as e:\n",
    "    print('Un errore è sorto:',e)\n",
    "finally:\n",
    "    #questo blocco verrà sempre interpretato \n",
    "    #indipendentemente dal fatto che ci sia un eccezzione o no\n",
    "    print('Finito il blocco try catch')"
   ]
  },
  {
   "cell_type": "code",
   "execution_count": 11,
   "metadata": {},
   "outputs": [
    {
     "name": "stdout",
     "output_type": "stream",
     "text": [
      "Finito il blocco try catch\n"
     ]
    }
   ],
   "source": [
    "try:\n",
    "    1/1 #non crea un eccezione\n",
    "except ZeroDivisionError as e:\n",
    "    print(e)\n",
    "finally:\n",
    "    #questo blocco verrà sempre interpretato \n",
    "    #indipendentemente dal fatto che ci sia un eccezzione o no\n",
    "    print('Finito il blocco try catch')"
   ]
  },
  {
   "cell_type": "markdown",
   "metadata": {},
   "source": [
    "***\n",
    "COMPLIMENTI AVETE COMPLETATO LA LEZIONE SUGLI ERRORI ED ECCEZIONI!"
   ]
  }
 ],
 "metadata": {
  "kernelspec": {
   "display_name": "Python 3",
   "language": "python",
   "name": "python3"
  },
  "language_info": {
   "codemirror_mode": {
    "name": "ipython",
    "version": 3
   },
   "file_extension": ".py",
   "mimetype": "text/x-python",
   "name": "python",
   "nbconvert_exporter": "python",
   "pygments_lexer": "ipython3",
   "version": "3.8.5"
  }
 },
 "nbformat": 4,
 "nbformat_minor": 4
}
