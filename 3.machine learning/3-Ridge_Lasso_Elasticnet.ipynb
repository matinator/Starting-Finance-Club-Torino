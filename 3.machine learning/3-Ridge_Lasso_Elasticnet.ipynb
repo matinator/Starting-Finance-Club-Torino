{
 "cells": [
  {
   "cell_type": "markdown",
   "id": "91a17dae",
   "metadata": {},
   "source": [
    "# Ridge, Lasso and Elasticnet\n",
    "\n",
    "Ora che abbiamo capito come effettuare la regressione lineare anche con più di una variabile indipendente(MLR), è ora necessario vedere come applicare altri metodi lineari per ovviare ai problemi che possono influire sulle previsioni o sul training, ed essi sono:\n",
    "\n",
    "- collinearità: ovvero la possibilità di due o più feature di presentare una relazione di tipo lineare consistente nel dataset, questo in genere è un bene solo nel caso in cui sia perfetta, altrimenti può portare all'insordenza di problemi\n",
    "- dimensionalità: in alcuni casi potremmo avere un numero di feature molto grandi o addirittura maggiori del numero di samples al suo interno\n",
    "- overfitting  o underfitting: il modello non riesce ad estrapolare relazioni generali a causa della sua complessità maggiore o minore al problema.\n",
    "\n",
    "Per questo motivo, basandoci sempre sulla tecnica **OLS** sono state creati altre tecniche più robuste per la regressione, in genere queste tecniche che andremo ad analizzare si basano sulla __[Regolarizzazione](https://it.wikipedia.org/wiki/Regolarizzazione_(matematica))__ ovvero sull'**imposizione sulla formula di minimizzazione di un termine che penalizzi una specifica condizione legata al problema al fine di ridurne l'errore di generalizzazione**.<br>\n",
    "La regoralizzazione viene imposta attraverso le __[condizioni di Karush-Kuhn-Tucker(KKT)](http://onmyphd.com/?p=kkt.karush.kuhn.tucker)__ dove quindi introduciamo dei termini di penalizzazione sugli unici termini che possiamo controllare: **i pesi($w$)**. In questa lezione vedremo che la condizione sui pesi come **la norma, la norma quadratica di $w$ o la loro condizione ibrida** porta a diversi tipi di regressori esprimibili matematicamente come:\n",
    "- Ridge Regression : $\\large\\min_{w} \\parallel wX - Y \\parallel^2 + \\alpha \\parallel w \\parallel^2$\n",
    "- Lasso Regression : $\\large\\min_{w} \\parallel wX - Y \\parallel^2 + \\beta \\parallel w \\parallel$\n",
    "- Elasticnet : $\\large\\min_{w} \\parallel wX - Y \\parallel^2 + \\alpha \\parallel w \\parallel^2 + \\beta \\parallel w \\parallel$\n",
    "\n",
    "I parametri $\\alpha$ e $\\beta$ sono detti anche **Iperparametri-Hyperparameters** e vengono determinati usando **criteri di statistica o la cross-validation scegliendo tra quelli che minimizzano l'errore di testing**."
   ]
  },
  {
   "cell_type": "markdown",
   "id": "0a39aaf7",
   "metadata": {},
   "source": [
    "## Ridge Regression\n",
    "\n",
    "Iniziamo ad analizzare la __[Ridge regression](https://scikit-learn.org/stable/modules/linear_model.html#ridge-regression-and-classification)__ riportando la formula definita in precedenza, in cui il termine modulo quadro della norma viene anche detto ***termine $l_{2}$***\n",
    "\n",
    "\\begin{equation}\n",
    "\\Large\\min_{w} \\parallel wX - Y \\parallel^2 + \\alpha \\parallel w \\parallel^2 \n",
    "\\end{equation}\n",
    "\n",
    "la trattazione può essere vista anche in questo modo \n",
    "\n",
    "\\begin{equation}\n",
    "\\Large\\min_{w} \\parallel wX - Y \\parallel^2 , \\parallel w \\parallel^2 \\leq \\alpha\n",
    "\\end{equation}\n",
    "\n",
    "ovvero la condizione risulta che i pesi che devono soddisfare la **OLS** devono avere un modulo quadro **minore di $\\alpha$** per poter essere ammesi dalla formula, ma qualè l'effetto prodotto dalla $\\alpha$ sui fit?"
   ]
  },
  {
   "cell_type": "code",
   "execution_count": 1,
   "id": "a9d7a293",
   "metadata": {},
   "outputs": [
    {
     "data": {
      "application/vnd.jupyter.widget-view+json": {
       "model_id": "d33bf21a3d8f46b5bfc3ac3d470da1d8",
       "version_major": 2,
       "version_minor": 0
      },
      "text/plain": [
       "Canvas(toolbar=Toolbar(toolitems=[('Home', 'Reset original view', 'home', 'home'), ('Back', 'Back to previous …"
      ]
     },
     "metadata": {},
     "output_type": "display_data"
    },
    {
     "data": {
      "application/vnd.jupyter.widget-view+json": {
       "model_id": "e313c6e3ec04419f9cf9597beb402784",
       "version_major": 2,
       "version_minor": 0
      },
      "text/plain": [
       "Output()"
      ]
     },
     "metadata": {},
     "output_type": "display_data"
    },
    {
     "data": {
      "application/vnd.jupyter.widget-view+json": {
       "model_id": "27b360f59467467b96bec74bef073161",
       "version_major": 2,
       "version_minor": 0
      },
      "text/plain": [
       "HBox(children=(FloatSlider(value=1.0, description='α', max=100000.0, step=1.0),))"
      ]
     },
     "metadata": {},
     "output_type": "display_data"
    }
   ],
   "source": [
    "%matplotlib widget\n",
    "\n",
    "import pandas as pd\n",
    "import matplotlib.pyplot as plt\n",
    "from sklearn.linear_model import Ridge\n",
    "from sklearn.datasets import load_boston\n",
    "from sklearn.model_selection import train_test_split\n",
    "from ipywidgets import widgets, interactive_output\n",
    "\n",
    "#load the dataset\n",
    "data = load_boston()\n",
    "df = pd.DataFrame(data.data, columns = data.feature_names)\n",
    "df['MEDV'] = data.target\n",
    "#prepare the data\n",
    "X_train, X_test, y_train, y_test = train_test_split(df.LSTAT.values, df.MEDV.values, \n",
    "                                                    random_state=0, test_size = 0.2)\n",
    "#define a first regressor\n",
    "ridge = Ridge(alpha = 1)\n",
    "ridge.fit(X_train.reshape(-1, 1), y_train)\n",
    "\n",
    "#setting plot\n",
    "fig, ax = plt.subplots(figsize=(8, 6))\n",
    "ax.scatter(X_train, y_train, label = \"train\", color = \"blue\")\n",
    "ax.scatter(X_test, y_test, label = \"test\", color = \"green\")\n",
    "line, = ax.plot(X_train, ridge.predict(X_train.reshape(-1, 1)), label = \"fit\", color = \"red\")\n",
    "plt.legend()\n",
    "\n",
    "#define what happens when slider value change\n",
    "def update(alpha):\n",
    "    ridge = Ridge(alpha = alpha)\n",
    "    ridge.fit(X_train.reshape(-1, 1), y_train)\n",
    "    line.set_ydata(ridge.predict(X_train.reshape(-1, 1)))\n",
    "    fig.canvas.draw()\n",
    "    \n",
    "#define slider\n",
    "alpha = widgets.FloatSlider(\n",
    "        value=1,\n",
    "        min = 0, # min value \n",
    "        max= 1e5, # max value\n",
    "        step= 1, # step \n",
    "        description = \"\\u03B1\") # unicode character for alpha\n",
    "\n",
    "# An HBox lays out its children horizontally\n",
    "ui = widgets.HBox([alpha])\n",
    "#define interactive output\n",
    "plot = interactive_output(update, {'alpha':alpha})\n",
    "#show slider and plot\n",
    "display(plot,ui)"
   ]
  },
  {
   "cell_type": "markdown",
   "id": "0418f8d1",
   "metadata": {},
   "source": [
    "Quindi possiamo vedere che alzando il valore di $\\alpha$ quello che succede è che i pesi tendono a zero e la linea diventa orizzontaele questo poichè il termine dominante della funzione di regressione diventa il termine di regolarizzazione, in tal caso l'unico modo per ridure complessivamente il valore è fare tendere a zero $\\parallel w \\parallel^2$ ovvero ponendo i termini $w$ nulli o molto vicini ad esso. <br>\n",
    "Questo aspetto può risultare molto efficacie nei problemi in cui il dataset presenta **multicollinearità, ovvero i dati presentano correlazioni tra di loro** e noi vogliamo invece tenere conto di feature quanto più possibili indipendenti e per la **riduzione delle dimensionalità**."
   ]
  },
  {
   "cell_type": "markdown",
   "id": "eb8f2a92",
   "metadata": {},
   "source": [
    "### Visione geometrica e riduzione della dimensionalità\n",
    "\n",
    "La visione geometrica può essete interpretata partendo dalla formula che otteniamo per la pendenza dei coefficienti ottenibile come:\n",
    "\n",
    "\\begin{equation}\n",
    "    \\Large y = X \\hat{\\beta}^{ridge} = X (X^{T}X + \\alpha I)^{-1}X^{T}y = \\sum_{i=1}^{p} u_j \\frac{d_{j}^{2}}{d_{j}^{2} + \\alpha} u_{j}^Ty\n",
    "\\end{equation}\n",
    "\n",
    "Ora focalizzandoci sulla formula possiamo notare che se noi consideriamo il caso in cui i dati sono centrati possiamo definire\n",
    "\n",
    "\\begin{equation}\n",
    "    \\large Var(\\hat(B)_j) = \\frac{u_{j}^{T}u_j}{d_{j}^2} \\qquad \\hat{\\beta}^{ridge} = \\sum_{i=1}^{p} \\frac{d_{j}^{2}}{d_{j}^{2} + \\alpha} u_{j}^T y\n",
    "\\end{equation} \n",
    "\n",
    "pertanto il termine $\\alpha$ riduce la proiezione delle direzioni $u_{j}$ che presentano una varianza più bassa, questo vuol dire che più è alto il valore di $\\alpha$ e avremo componenti con varianza sempre più alta. questo principio a simile a quello che vedremo essere come PCA.\n",
    "\n",
    "<div class=\"alert alert-block alert-success\">\n",
    "    La cosa forse più interessante dela Ridge Regression è la sua capacità di fittare su dati con molte dimensionalità avendo un piccolo numero di dati riuscendo a cogliere gli aspetti fondamentali della struttura dei dati! Per maggiori infor guardate il video qui sotto!\n",
    "</div>"
   ]
  },
  {
   "cell_type": "code",
   "execution_count": 2,
   "id": "1950f3e1",
   "metadata": {},
   "outputs": [
    {
     "data": {
      "image/jpeg": "[encoded data removed]",
      "text/html": [
       "\n",
       "        <iframe\n",
       "            width=\"400\"\n",
       "            height=\"300\"\n",
       "            src=\"https://www.youtube.com/embed/Q81RR3yKn30\"\n",
       "            frameborder=\"0\"\n",
       "            allowfullscreen\n",
       "        ></iframe>\n",
       "        "
      ],
      "text/plain": [
       "<IPython.lib.display.YouTubeVideo at 0x1b8159eeee0>"
      ]
     },
     "execution_count": 2,
     "metadata": {},
     "output_type": "execute_result"
    }
   ],
   "source": [
    "from IPython.display import YouTubeVideo\n",
    "\n",
    "#put link yotube video, only final part\n",
    "YouTubeVideo('Q81RR3yKn30')"
   ]
  },
  {
   "cell_type": "code",
   "execution_count": 3,
   "id": "e66eed05",
   "metadata": {},
   "outputs": [
    {
     "data": {
      "text/plain": [
       "'Variance and weights with α = 1000'"
      ]
     },
     "metadata": {},
     "output_type": "display_data"
    },
    {
     "data": {
      "text/html": [
       "<div>\n",
       "<style scoped>\n",
       "    .dataframe tbody tr th:only-of-type {\n",
       "        vertical-align: middle;\n",
       "    }\n",
       "\n",
       "    .dataframe tbody tr th {\n",
       "        vertical-align: top;\n",
       "    }\n",
       "\n",
       "    .dataframe thead th {\n",
       "        text-align: right;\n",
       "    }\n",
       "</style>\n",
       "<table border=\"1\" class=\"dataframe\">\n",
       "  <thead>\n",
       "    <tr style=\"text-align: right;\">\n",
       "      <th></th>\n",
       "      <th>CRIM</th>\n",
       "      <th>ZN</th>\n",
       "      <th>INDUS</th>\n",
       "      <th>CHAS</th>\n",
       "      <th>NOX</th>\n",
       "      <th>RM</th>\n",
       "      <th>AGE</th>\n",
       "      <th>DIS</th>\n",
       "      <th>RAD</th>\n",
       "      <th>TAX</th>\n",
       "      <th>PTRATIO</th>\n",
       "      <th>B</th>\n",
       "      <th>LSTAT</th>\n",
       "    </tr>\n",
       "  </thead>\n",
       "  <tbody>\n",
       "    <tr>\n",
       "      <th>weights</th>\n",
       "      <td>-0.087876</td>\n",
       "      <td>0.059909</td>\n",
       "      <td>-0.044061</td>\n",
       "      <td>0.084989</td>\n",
       "      <td>-0.008172</td>\n",
       "      <td>0.454157</td>\n",
       "      <td>0.028739</td>\n",
       "      <td>-0.546187</td>\n",
       "      <td>0.233914</td>\n",
       "      <td>-0.015136</td>\n",
       "      <td>-0.685913</td>\n",
       "      <td>0.006599</td>\n",
       "      <td>-0.718846</td>\n",
       "    </tr>\n",
       "    <tr>\n",
       "      <th>variance</th>\n",
       "      <td>73.986578</td>\n",
       "      <td>543.936814</td>\n",
       "      <td>47.064442</td>\n",
       "      <td>0.064513</td>\n",
       "      <td>0.013428</td>\n",
       "      <td>0.493671</td>\n",
       "      <td>792.358399</td>\n",
       "      <td>4.434015</td>\n",
       "      <td>75.816366</td>\n",
       "      <td>28404.759488</td>\n",
       "      <td>4.686989</td>\n",
       "      <td>8334.752263</td>\n",
       "      <td>50.994760</td>\n",
       "    </tr>\n",
       "  </tbody>\n",
       "</table>\n",
       "</div>"
      ],
      "text/plain": [
       "               CRIM          ZN      INDUS      CHAS       NOX        RM  \\\n",
       "weights   -0.087876    0.059909  -0.044061  0.084989 -0.008172  0.454157   \n",
       "variance  73.986578  543.936814  47.064442  0.064513  0.013428  0.493671   \n",
       "\n",
       "                 AGE       DIS        RAD           TAX   PTRATIO  \\\n",
       "weights     0.028739 -0.546187   0.233914     -0.015136 -0.685913   \n",
       "variance  792.358399  4.434015  75.816366  28404.759488  4.686989   \n",
       "\n",
       "                    B      LSTAT  \n",
       "weights      0.006599  -0.718846  \n",
       "variance  8334.752263  50.994760  "
      ]
     },
     "metadata": {},
     "output_type": "display_data"
    },
    {
     "data": {
      "text/plain": [
       "'Variance and weights with α = 1'"
      ]
     },
     "metadata": {},
     "output_type": "display_data"
    },
    {
     "data": {
      "text/html": [
       "<div>\n",
       "<style scoped>\n",
       "    .dataframe tbody tr th:only-of-type {\n",
       "        vertical-align: middle;\n",
       "    }\n",
       "\n",
       "    .dataframe tbody tr th {\n",
       "        vertical-align: top;\n",
       "    }\n",
       "\n",
       "    .dataframe thead th {\n",
       "        text-align: right;\n",
       "    }\n",
       "</style>\n",
       "<table border=\"1\" class=\"dataframe\">\n",
       "  <thead>\n",
       "    <tr style=\"text-align: right;\">\n",
       "      <th></th>\n",
       "      <th>CRIM</th>\n",
       "      <th>ZN</th>\n",
       "      <th>INDUS</th>\n",
       "      <th>CHAS</th>\n",
       "      <th>NOX</th>\n",
       "      <th>RM</th>\n",
       "      <th>AGE</th>\n",
       "      <th>DIS</th>\n",
       "      <th>RAD</th>\n",
       "      <th>TAX</th>\n",
       "      <th>PTRATIO</th>\n",
       "      <th>B</th>\n",
       "      <th>LSTAT</th>\n",
       "    </tr>\n",
       "  </thead>\n",
       "  <tbody>\n",
       "    <tr>\n",
       "      <th>weights</th>\n",
       "      <td>-0.116808</td>\n",
       "      <td>0.046003</td>\n",
       "      <td>-0.023762</td>\n",
       "      <td>2.278150</td>\n",
       "      <td>-8.557796</td>\n",
       "      <td>3.755135</td>\n",
       "      <td>-0.010414</td>\n",
       "      <td>-1.280095</td>\n",
       "      <td>0.222038</td>\n",
       "      <td>-0.011526</td>\n",
       "      <td>-0.969288</td>\n",
       "      <td>0.008535</td>\n",
       "      <td>-0.498849</td>\n",
       "    </tr>\n",
       "    <tr>\n",
       "      <th>variance</th>\n",
       "      <td>73.986578</td>\n",
       "      <td>543.936814</td>\n",
       "      <td>47.064442</td>\n",
       "      <td>0.064513</td>\n",
       "      <td>0.013428</td>\n",
       "      <td>0.493671</td>\n",
       "      <td>792.358399</td>\n",
       "      <td>4.434015</td>\n",
       "      <td>75.816366</td>\n",
       "      <td>28404.759488</td>\n",
       "      <td>4.686989</td>\n",
       "      <td>8334.752263</td>\n",
       "      <td>50.994760</td>\n",
       "    </tr>\n",
       "  </tbody>\n",
       "</table>\n",
       "</div>"
      ],
      "text/plain": [
       "               CRIM          ZN      INDUS      CHAS       NOX        RM  \\\n",
       "weights   -0.116808    0.046003  -0.023762  2.278150 -8.557796  3.755135   \n",
       "variance  73.986578  543.936814  47.064442  0.064513  0.013428  0.493671   \n",
       "\n",
       "                 AGE       DIS        RAD           TAX   PTRATIO  \\\n",
       "weights    -0.010414 -1.280095   0.222038     -0.011526 -0.969288   \n",
       "variance  792.358399  4.434015  75.816366  28404.759488  4.686989   \n",
       "\n",
       "                    B      LSTAT  \n",
       "weights      0.008535  -0.498849  \n",
       "variance  8334.752263  50.994760  "
      ]
     },
     "metadata": {},
     "output_type": "display_data"
    },
    {
     "data": {
      "application/vnd.jupyter.widget-view+json": {
       "model_id": "132bf44744794ed9a9625f3ef5d928f6",
       "version_major": 2,
       "version_minor": 0
      },
      "text/plain": [
       "Canvas(toolbar=Toolbar(toolitems=[('Home', 'Reset original view', 'home', 'home'), ('Back', 'Back to previous …"
      ]
     },
     "metadata": {},
     "output_type": "display_data"
    },
    {
     "data": {
      "application/vnd.jupyter.widget-view+json": {
       "model_id": "e1755ecae57a4077bf4c500b0e088d19",
       "version_major": 2,
       "version_minor": 0
      },
      "text/plain": [
       "Output()"
      ]
     },
     "metadata": {},
     "output_type": "display_data"
    },
    {
     "data": {
      "application/vnd.jupyter.widget-view+json": {
       "model_id": "48ab80de94a048918918e0fa16d2d8b9",
       "version_major": 2,
       "version_minor": 0
      },
      "text/plain": [
       "HBox(children=(FloatSlider(value=1.0, description='α', max=1000.0, min=1.0, step=1.0),))"
      ]
     },
     "metadata": {},
     "output_type": "display_data"
    }
   ],
   "source": [
    "%matplotlib widget\n",
    "#prepare the data\n",
    "X_train, X_test, y_train, y_test = train_test_split(df.drop('MEDV', axis = 1).values, df.MEDV.values, \n",
    "                                                    random_state=0, test_size = 0.2)\n",
    "\n",
    "#define a first regressor\n",
    "ridge = Ridge(alpha = 1000)\n",
    "ridge.fit(X_train, y_train)\n",
    "\n",
    "#variables used for plots\n",
    "names = df.columns.tolist()[:-1]#exclude last element\n",
    "variance = df.drop('MEDV', axis = 1).var(axis = 0)\n",
    "ypos = range(len(names))\n",
    "\n",
    "#show data model as dataframe\n",
    "#define dataframe\n",
    "df_model = pd.DataFrame(columns=names)\n",
    "df_model.loc['weights'] = ridge.coef_.tolist()\n",
    "df_model.loc['variance'] = variance.tolist()\n",
    "#display dataframe\n",
    "display(\"Variance and weights with \\u03B1 = 1000\")\n",
    "display(df_model)\n",
    "#model with alpha =1\n",
    "ridge = Ridge(alpha = 1)\n",
    "ridge.fit(X_train, y_train)\n",
    "df_model.loc['weights'] = ridge.coef_.tolist()\n",
    "#display dataframe\n",
    "display(\"Variance and weights with \\u03B1 = 1\")\n",
    "display(df_model)\n",
    "\n",
    "\n",
    "#plot setting\n",
    "fig, (ax1, ax2) = plt.subplots(1, 2, figsize = (10,6))\n",
    "#first subplot\n",
    "bar = ax1.barh(ypos, ridge.coef_, align = 'center', color = 'red')\n",
    "ax1.set_yticks(ypos)\n",
    "ax1.set_yticklabels(names)\n",
    "ax1.set_xlabel('Weight value')\n",
    "ax1.set_title('Weights of every feature')\n",
    "#second subplot\n",
    "ax2.barh(ypos, variance, align = 'center', color = 'green')\n",
    "ax2.set_yticks(ypos)\n",
    "ax2.set_yticklabels(names)\n",
    "ax2.set_xlabel('Variance value')\n",
    "ax2.set_title('Variance of every feture')\n",
    "plt.show()\n",
    "\n",
    "#define what happens when slider value change\n",
    "def update(alpha):\n",
    "    ridge = Ridge(alpha = alpha)\n",
    "    ridge.fit(X_train, y_train)\n",
    "    for i in range(len(ridge.coef_)):\n",
    "        bar[i].set_width(ridge.coef_[i])\n",
    "    df_model.loc['weights'] = ridge.coef_.tolist()\n",
    "    fig.canvas.draw()\n",
    "\n",
    "\n",
    "#define slider\n",
    "alpha = widgets.FloatSlider(\n",
    "        value=1,\n",
    "        min = 1, # min value \n",
    "        max= 1000, # max value\n",
    "        step= 1, # step \n",
    "        description = \"\\u03B1\") # unicode character fro alpha\n",
    "# An HBox lays out its children horizontally\n",
    "ui = widgets.HBox([alpha])\n",
    "#define interactive output\n",
    "plot = interactive_output(update, {'alpha':alpha})\n",
    "#show slider and plot\n",
    "display(plot,ui)"
   ]
  },
  {
   "cell_type": "markdown",
   "id": "858cd4f7",
   "metadata": {},
   "source": [
    "## Lasso Regression\n",
    "\n",
    "Ora che abbiamo capito come funziona la ridge regression, vediamo ora come funziona la **Lasso Regression**, partiamo dalla sua formula matematica che a differenza precedente predente un termine di norma detto anche ***termine $l_1$***\n",
    "\n",
    "\\begin{equation}\n",
    "\\Large\\min_{w} \\parallel wX - Y \\parallel^2 + \\beta \\parallel w \\parallel \n",
    "\\end{equation}\n",
    "\n",
    "la trattazione può essere vista anche in questo modo \n",
    "\n",
    "\\begin{equation}\n",
    "\\Large\\min_{w} \\parallel wX - Y \\parallel^2 , \\parallel w \\parallel \\leq \\beta\n",
    "\\end{equation}\n",
    "\n",
    "Vediamo cosa succede qualora usiamo questo regressore variando il parametro $\\beta$."
   ]
  },
  {
   "cell_type": "code",
   "execution_count": 4,
   "id": "cd4e3fbd",
   "metadata": {},
   "outputs": [
    {
     "data": {
      "application/vnd.jupyter.widget-view+json": {
       "model_id": "7d43bdd62ec7402a84b454593194c0e2",
       "version_major": 2,
       "version_minor": 0
      },
      "text/plain": [
       "Canvas(toolbar=Toolbar(toolitems=[('Home', 'Reset original view', 'home', 'home'), ('Back', 'Back to previous …"
      ]
     },
     "metadata": {},
     "output_type": "display_data"
    },
    {
     "data": {
      "application/vnd.jupyter.widget-view+json": {
       "model_id": "6d29bbc3ed3d44d2a51bd3f6d7038931",
       "version_major": 2,
       "version_minor": 0
      },
      "text/plain": [
       "Output()"
      ]
     },
     "metadata": {},
     "output_type": "display_data"
    },
    {
     "data": {
      "application/vnd.jupyter.widget-view+json": {
       "model_id": "f0190f9c2f214a488a6db0c23429819f",
       "version_major": 2,
       "version_minor": 0
      },
      "text/plain": [
       "HBox(children=(FloatSlider(value=1.0, description='β', min=1.0, step=1.0),))"
      ]
     },
     "metadata": {},
     "output_type": "display_data"
    }
   ],
   "source": [
    "%matplotlib widget\n",
    "#import the model\n",
    "from sklearn.linear_model import Lasso\n",
    "#prepare the data\n",
    "X_train, X_test, y_train, y_test = train_test_split(df.LSTAT.values, df.MEDV.values, \n",
    "                                                    random_state=0, test_size = 0.2)\n",
    "#define a first regressor\n",
    "lasso = Lasso(alpha = 1)\n",
    "lasso.fit(X_train.reshape(-1, 1), y_train)\n",
    "\n",
    "#setting plot\n",
    "fig, ax = plt.subplots(figsize=(8, 6))\n",
    "ax.scatter(X_train, y_train, label = \"train\", color = \"blue\")\n",
    "ax.scatter(X_test, y_test, label = \"test\", color = \"green\")\n",
    "line, = ax.plot(X_train, lasso.predict(X_train.reshape(-1, 1)), label = \"fit\", color = \"red\")\n",
    "plt.legend()\n",
    "\n",
    "#define what happens when slider value change\n",
    "def update(alpha):\n",
    "    lasso = Lasso(alpha = alpha)\n",
    "    lasso.fit(X_train.reshape(-1, 1), y_train)\n",
    "    line.set_ydata(lasso.predict(X_train.reshape(-1, 1)))\n",
    "    fig.canvas.draw()\n",
    "    \n",
    "#define slider\n",
    "alpha = widgets.FloatSlider(\n",
    "        value=1,\n",
    "        min = 1, # min value \n",
    "        max= 100, # max value\n",
    "        step= 1, # step \n",
    "        description = \"\\u03B2\") # unicode character fro alpha\n",
    "# An HBox lays out its children horizontally\n",
    "ui = widgets.HBox([alpha])\n",
    "#define interactive output\n",
    "plot = interactive_output(update, {'alpha':alpha})\n",
    "#show slider and plot\n",
    "display(plot,ui)"
   ]
  },
  {
   "cell_type": "markdown",
   "id": "d2ca89a3",
   "metadata": {},
   "source": [
    "Come possiamo vedere in questo caso il valore di $\\beta$(nel codice è sempre alpha) porta a **delle soluzioni dei coefficienti che tendono a zero per valori $\\beta$ molto più piccoli rispetto alla ridge**, il motivo è da ricerca il fatto che ***la penalizzazione ora è l1***.\n",
    "\n",
    "### Visione geometrica- Lasso Regression\n",
    "La lasso regression non può essere riespressa come prima a causa del fatto che ora **non si ha una soluzione analitica a causa della non linearità in Y nella definizione**, questo può portare a dei problemi, fortunamente è ancora possibile visualizzare geometricamente il problema con il video qui sotto, rimane pur sempre la questione di capire cosa succede, la risposta risulta essere che il lasso tenda a fornire ***sparse solution, ovvero soluzione con un basso numero di soluzioni diverse da zero.***<br>\n",
    "Questo aspetto è fondamentale poiché grazie ad esso possiamo dire anche che ***il lasso tende a selezionare le feature più importanti e che riducono la varianza del modello sui dati al prezzo di un minimo di bais; per questo motivo la lasso viene anche usata come feature selction algorithm.***\n",
    "\n",
    "<div class=\"alert alert-block alert-warning\">\n",
    "L'algoritmo usato da scikit è quello del <a href=\"https://en.wikipedia.org/wiki/Coordinate_descent\">coordinate descent</a>, non dello SGD e questo tipo di algoritmo richiede funzioni convesse.\n",
    "</div>\n"
   ]
  },
  {
   "cell_type": "code",
   "execution_count": 5,
   "id": "82ffb707",
   "metadata": {},
   "outputs": [
    {
     "data": {
      "image/jpeg": "[encoded data removed]",
      "text/html": [
       "\n",
       "        <iframe\n",
       "            width=\"400\"\n",
       "            height=\"300\"\n",
       "            src=\"https://www.youtube.com/embed/14MKVkhvMus\"\n",
       "            frameborder=\"0\"\n",
       "            allowfullscreen\n",
       "        ></iframe>\n",
       "        "
      ],
      "text/plain": [
       "<IPython.lib.display.YouTubeVideo at 0x1b815bfd3a0>"
      ]
     },
     "execution_count": 5,
     "metadata": {},
     "output_type": "execute_result"
    }
   ],
   "source": [
    "#put link yotube video, only final part\n",
    "YouTubeVideo('14MKVkhvMus')"
   ]
  },
  {
   "cell_type": "code",
   "execution_count": 6,
   "id": "89d1d142",
   "metadata": {},
   "outputs": [
    {
     "data": {
      "text/plain": [
       "'Variance and weights with β = 100'"
      ]
     },
     "metadata": {},
     "output_type": "display_data"
    },
    {
     "data": {
      "text/html": [
       "<div>\n",
       "<style scoped>\n",
       "    .dataframe tbody tr th:only-of-type {\n",
       "        vertical-align: middle;\n",
       "    }\n",
       "\n",
       "    .dataframe tbody tr th {\n",
       "        vertical-align: top;\n",
       "    }\n",
       "\n",
       "    .dataframe thead th {\n",
       "        text-align: right;\n",
       "    }\n",
       "</style>\n",
       "<table border=\"1\" class=\"dataframe\">\n",
       "  <thead>\n",
       "    <tr style=\"text-align: right;\">\n",
       "      <th></th>\n",
       "      <th>CRIM</th>\n",
       "      <th>ZN</th>\n",
       "      <th>INDUS</th>\n",
       "      <th>CHAS</th>\n",
       "      <th>NOX</th>\n",
       "      <th>RM</th>\n",
       "      <th>AGE</th>\n",
       "      <th>DIS</th>\n",
       "      <th>RAD</th>\n",
       "      <th>TAX</th>\n",
       "      <th>PTRATIO</th>\n",
       "      <th>B</th>\n",
       "      <th>LSTAT</th>\n",
       "    </tr>\n",
       "  </thead>\n",
       "  <tbody>\n",
       "    <tr>\n",
       "      <th>weights</th>\n",
       "      <td>-0.000000</td>\n",
       "      <td>0.000000</td>\n",
       "      <td>-0.000000</td>\n",
       "      <td>0.000000</td>\n",
       "      <td>-0.000000</td>\n",
       "      <td>0.000000</td>\n",
       "      <td>-0.000000</td>\n",
       "      <td>0.000000</td>\n",
       "      <td>-0.000000</td>\n",
       "      <td>-0.023137</td>\n",
       "      <td>-0.000000</td>\n",
       "      <td>0.004687</td>\n",
       "      <td>-0.00000</td>\n",
       "    </tr>\n",
       "    <tr>\n",
       "      <th>variance</th>\n",
       "      <td>73.986578</td>\n",
       "      <td>543.936814</td>\n",
       "      <td>47.064442</td>\n",
       "      <td>0.064513</td>\n",
       "      <td>0.013428</td>\n",
       "      <td>0.493671</td>\n",
       "      <td>792.358399</td>\n",
       "      <td>4.434015</td>\n",
       "      <td>75.816366</td>\n",
       "      <td>28404.759488</td>\n",
       "      <td>4.686989</td>\n",
       "      <td>8334.752263</td>\n",
       "      <td>50.99476</td>\n",
       "    </tr>\n",
       "  </tbody>\n",
       "</table>\n",
       "</div>"
      ],
      "text/plain": [
       "               CRIM          ZN      INDUS      CHAS       NOX        RM  \\\n",
       "weights   -0.000000    0.000000  -0.000000  0.000000 -0.000000  0.000000   \n",
       "variance  73.986578  543.936814  47.064442  0.064513  0.013428  0.493671   \n",
       "\n",
       "                 AGE       DIS        RAD           TAX   PTRATIO  \\\n",
       "weights    -0.000000  0.000000  -0.000000     -0.023137 -0.000000   \n",
       "variance  792.358399  4.434015  75.816366  28404.759488  4.686989   \n",
       "\n",
       "                    B     LSTAT  \n",
       "weights      0.004687  -0.00000  \n",
       "variance  8334.752263  50.99476  "
      ]
     },
     "metadata": {},
     "output_type": "display_data"
    },
    {
     "data": {
      "text/plain": [
       "'Variance and weights with β = 1'"
      ]
     },
     "metadata": {},
     "output_type": "display_data"
    },
    {
     "data": {
      "text/html": [
       "<div>\n",
       "<style scoped>\n",
       "    .dataframe tbody tr th:only-of-type {\n",
       "        vertical-align: middle;\n",
       "    }\n",
       "\n",
       "    .dataframe tbody tr th {\n",
       "        vertical-align: top;\n",
       "    }\n",
       "\n",
       "    .dataframe thead th {\n",
       "        text-align: right;\n",
       "    }\n",
       "</style>\n",
       "<table border=\"1\" class=\"dataframe\">\n",
       "  <thead>\n",
       "    <tr style=\"text-align: right;\">\n",
       "      <th></th>\n",
       "      <th>CRIM</th>\n",
       "      <th>ZN</th>\n",
       "      <th>INDUS</th>\n",
       "      <th>CHAS</th>\n",
       "      <th>NOX</th>\n",
       "      <th>RM</th>\n",
       "      <th>AGE</th>\n",
       "      <th>DIS</th>\n",
       "      <th>RAD</th>\n",
       "      <th>TAX</th>\n",
       "      <th>PTRATIO</th>\n",
       "      <th>B</th>\n",
       "      <th>LSTAT</th>\n",
       "    </tr>\n",
       "  </thead>\n",
       "  <tbody>\n",
       "    <tr>\n",
       "      <th>weights</th>\n",
       "      <td>-0.058890</td>\n",
       "      <td>0.053177</td>\n",
       "      <td>-0.000000</td>\n",
       "      <td>0.000000</td>\n",
       "      <td>-0.000000</td>\n",
       "      <td>0.679550</td>\n",
       "      <td>0.016841</td>\n",
       "      <td>-0.648766</td>\n",
       "      <td>0.198738</td>\n",
       "      <td>-0.013994</td>\n",
       "      <td>-0.864220</td>\n",
       "      <td>0.006603</td>\n",
       "      <td>-0.73121</td>\n",
       "    </tr>\n",
       "    <tr>\n",
       "      <th>variance</th>\n",
       "      <td>73.986578</td>\n",
       "      <td>543.936814</td>\n",
       "      <td>47.064442</td>\n",
       "      <td>0.064513</td>\n",
       "      <td>0.013428</td>\n",
       "      <td>0.493671</td>\n",
       "      <td>792.358399</td>\n",
       "      <td>4.434015</td>\n",
       "      <td>75.816366</td>\n",
       "      <td>28404.759488</td>\n",
       "      <td>4.686989</td>\n",
       "      <td>8334.752263</td>\n",
       "      <td>50.99476</td>\n",
       "    </tr>\n",
       "  </tbody>\n",
       "</table>\n",
       "</div>"
      ],
      "text/plain": [
       "               CRIM          ZN      INDUS      CHAS       NOX        RM  \\\n",
       "weights   -0.058890    0.053177  -0.000000  0.000000 -0.000000  0.679550   \n",
       "variance  73.986578  543.936814  47.064442  0.064513  0.013428  0.493671   \n",
       "\n",
       "                 AGE       DIS        RAD           TAX   PTRATIO  \\\n",
       "weights     0.016841 -0.648766   0.198738     -0.013994 -0.864220   \n",
       "variance  792.358399  4.434015  75.816366  28404.759488  4.686989   \n",
       "\n",
       "                    B     LSTAT  \n",
       "weights      0.006603  -0.73121  \n",
       "variance  8334.752263  50.99476  "
      ]
     },
     "metadata": {},
     "output_type": "display_data"
    },
    {
     "data": {
      "application/vnd.jupyter.widget-view+json": {
       "model_id": "776315e30e5e4fc5b5d587e0cc66d0a5",
       "version_major": 2,
       "version_minor": 0
      },
      "text/plain": [
       "Canvas(toolbar=Toolbar(toolitems=[('Home', 'Reset original view', 'home', 'home'), ('Back', 'Back to previous …"
      ]
     },
     "metadata": {},
     "output_type": "display_data"
    },
    {
     "data": {
      "application/vnd.jupyter.widget-view+json": {
       "model_id": "30ada250e3d54885b632c245cab7139d",
       "version_major": 2,
       "version_minor": 0
      },
      "text/plain": [
       "Output()"
      ]
     },
     "metadata": {},
     "output_type": "display_data"
    },
    {
     "data": {
      "application/vnd.jupyter.widget-view+json": {
       "model_id": "baa89079f5f84b6b8c6b1f840a91922d",
       "version_major": 2,
       "version_minor": 0
      },
      "text/plain": [
       "HBox(children=(FloatSlider(value=1.0, description='β', min=1.0, step=1.0),))"
      ]
     },
     "metadata": {},
     "output_type": "display_data"
    }
   ],
   "source": [
    "#prepare the data\n",
    "X_train, X_test, y_train, y_test = train_test_split(df.drop('MEDV', axis = 1).values, df.MEDV.values, \n",
    "                                                    random_state=0, test_size = 0.2)\n",
    "\n",
    "#define a first regressor\n",
    "lasso = Lasso(alpha = 100)\n",
    "lasso.fit(X_train, y_train)\n",
    "\n",
    "\n",
    "#display dataframe\n",
    "df_model.loc['weights'] = lasso.coef_.tolist()\n",
    "display(\"Variance and weights with \\u03B2 = 100\")\n",
    "display(df_model)\n",
    "\n",
    "#model with alpha =1\n",
    "lasso = Lasso(alpha = 1)\n",
    "lasso.fit(X_train, y_train)\n",
    "df_model.loc['weights'] = lasso.coef_.tolist()\n",
    "#display dataframe\n",
    "display(\"Variance and weights with \\u03B2 = 1\")\n",
    "display(df_model)\n",
    "\n",
    "#plot setting\n",
    "fig, ax = plt.subplots(figsize = (10,6))\n",
    "#first subplot\n",
    "bar = ax.barh(ypos, lasso.coef_, align = 'center', color = 'red')\n",
    "ax.set_yticks(ypos)\n",
    "ax.set_yticklabels(names)\n",
    "ax.set_xlabel('Weight value')\n",
    "ax.set_title('Weights of every feature')\n",
    "\n",
    "#define what happens when slider value change\n",
    "def update(alpha):\n",
    "    lasso = Lasso(alpha = alpha)\n",
    "    lasso.fit(X_train, y_train)\n",
    "    for i in range(len(lasso.coef_)):\n",
    "        bar[i].set_width(lasso.coef_[i])\n",
    "    df_model.loc['weights'] = lasso.coef_.tolist()\n",
    "    fig.canvas.draw()\n",
    "\n",
    "\n",
    "#define slider\n",
    "alpha = widgets.FloatSlider(\n",
    "        value=1,\n",
    "        min = 1, # min value \n",
    "        max= 100, # max value\n",
    "        step= 1, # step \n",
    "        description = \"\\u03B2\") # unicode character fro alpha\n",
    "# An HBox lays out its children horizontally\n",
    "ui = widgets.HBox([alpha])\n",
    "#define interactive output\n",
    "plot = interactive_output(update, {'alpha':alpha})\n",
    "#show slider and plot\n",
    "display(plot,ui)"
   ]
  },
  {
   "cell_type": "markdown",
   "id": "4cdb888c",
   "metadata": {},
   "source": [
    "## ElasticNet\n",
    "\n",
    "Ora che abbiamo visto come funzionano la Lasso e la Ridge regression, vediamo la __[ElasticNet Regression](https://core.ac.uk/reader/4406480)__ che è un intermezzo tra le due regressioni precedenti e assume la formula:\n",
    "\n",
    "\\begin{equation}\n",
    "\\Large \\min_{w} \\parallel wX - Y \\parallel^2 + \\alpha \\parallel w \\parallel^2 + \\beta \\parallel w \\parallel\n",
    "\\end{equation}\n",
    "\n",
    "dove quindi abbiamo un **termine di regolarizzazione sia su il modulo quadro di $w^2$ che il modulo $w$**.<br>\n",
    "La formula di scikit per l'elasticnet è leggermente diversa ed è del tipo:\n",
    "\n",
    "\\begin{equation}\n",
    "\\large \\min_{w} { \\frac{1}{2n_{\\text{samples}}} ||X w - y||_2 ^ 2 + \\alpha \\rho ||w||_1 +\n",
    "\\frac{\\alpha(1-\\rho)}{2} ||w||_2 ^ 2}\n",
    "\\end{equation}\n",
    "\n",
    "in questa formula il termine $\\rho$ deve essere un numero compreso tra 0 e 1 e ci dice in che misura contare i termini L1 e L2, metre $\\alpha$ è il solito termoine di penalizzazione.\n",
    "\n",
    "<div class=\"alert alert-block alert-success\">\n",
    "    Nel 2014 è stato scoperto che Elasticnet è come una Support Vector Machine lineare, vedremo in seguito cosa sono!\n",
    "</div>"
   ]
  },
  {
   "cell_type": "code",
   "execution_count": 7,
   "id": "354246eb",
   "metadata": {},
   "outputs": [
    {
     "data": {
      "application/vnd.jupyter.widget-view+json": {
       "model_id": "5c3a98bf5c9a4953865591ad56bb9c8d",
       "version_major": 2,
       "version_minor": 0
      },
      "text/plain": [
       "Canvas(toolbar=Toolbar(toolitems=[('Home', 'Reset original view', 'home', 'home'), ('Back', 'Back to previous …"
      ]
     },
     "metadata": {},
     "output_type": "display_data"
    },
    {
     "data": {
      "application/vnd.jupyter.widget-view+json": {
       "model_id": "64acaa2f10cf41869d1d9493afbe1c6b",
       "version_major": 2,
       "version_minor": 0
      },
      "text/plain": [
       "Output()"
      ]
     },
     "metadata": {},
     "output_type": "display_data"
    },
    {
     "data": {
      "application/vnd.jupyter.widget-view+json": {
       "model_id": "664754c387704c5892c56481ee0802b1",
       "version_major": 2,
       "version_minor": 0
      },
      "text/plain": [
       "HBox(children=(FloatSlider(value=1.0, description='α', max=1000.0, min=1.0, step=1.0), FloatSlider(value=0.5, …"
      ]
     },
     "metadata": {},
     "output_type": "display_data"
    }
   ],
   "source": [
    "from sklearn.linear_model import ElasticNet\n",
    "#prepare the data\n",
    "X_train, X_test, y_train, y_test = train_test_split(df.LSTAT.values, df.MEDV.values, \n",
    "                                                    random_state=0, test_size = 0.2)\n",
    "#define a first regressor\n",
    "elastic = ElasticNet(alpha = 1, l1_ratio = 0.5)\n",
    "elastic.fit(X_train.reshape(-1, 1), y_train)\n",
    "\n",
    "#setting plot\n",
    "fig, ax = plt.subplots(figsize=(8, 6))\n",
    "ax.scatter(X_train, y_train, label = \"train\", color = \"blue\")\n",
    "ax.scatter(X_test, y_test, label = \"test\", color = \"green\")\n",
    "line, = ax.plot(X_train, elastic.predict(X_train.reshape(-1, 1)), label = \"fit\", color = \"red\")\n",
    "plt.legend()\n",
    "\n",
    "alpha =  widgets.FloatSlider(value=1, min = 1, max= 1e3, step= 1, description = \"\\u03B1\")\n",
    "rho =  widgets.FloatSlider(value=0.5, min = 0.01, max= 1, step= 0.01, description = \"\\u03C1\")\n",
    "\n",
    "#define what happens when slider value change\n",
    "def update(alpha, rho):\n",
    "    elastic = ElasticNet(alpha = alpha, l1_ratio = rho)\n",
    "    elastic.fit(X_train.reshape(-1, 1), y_train)\n",
    "    line.set_ydata(elastic.predict(X_train.reshape(-1, 1)))\n",
    "    fig.canvas.draw()\n",
    "    \n",
    "# An HBox lays out its children horizontally\n",
    "ui = widgets.HBox([alpha, rho])\n",
    "#define interactive output\n",
    "plot = interactive_output(update, {'alpha':alpha, 'rho':rho})\n",
    "#show slider and plot\n",
    "display(plot,ui)"
   ]
  },
  {
   "cell_type": "markdown",
   "id": "414bfd6e",
   "metadata": {},
   "source": [
    "### Interpretazione geometrica dell'elasticnet\n",
    "\n",
    "L'elasticnet può essere visto come un'intermezzo tra la ridge e il lasso, dal punto di vista geometrico potete interpretarlo con questa immagine:\n",
    "\n",
    "![Elasticnet geometrical view](../img/elasticnet.png)\n",
    "\n",
    "il parametro $\\rho$ nella formula ci dice come vogliamo sia la formula di penalizzazione, con il parametro uguale a 1 abbiamo un lasso, mentre con zero abbiamo un comportamento ridge, con 0.5 abbiamo un comportamento intermedio tra i due."
   ]
  },
  {
   "cell_type": "code",
   "execution_count": 8,
   "id": "96770a42",
   "metadata": {},
   "outputs": [
    {
     "data": {
      "text/plain": [
       "'Variance and weights with β = 100, ρ = 0.5'"
      ]
     },
     "metadata": {},
     "output_type": "display_data"
    },
    {
     "data": {
      "text/html": [
       "<div>\n",
       "<style scoped>\n",
       "    .dataframe tbody tr th:only-of-type {\n",
       "        vertical-align: middle;\n",
       "    }\n",
       "\n",
       "    .dataframe tbody tr th {\n",
       "        vertical-align: top;\n",
       "    }\n",
       "\n",
       "    .dataframe thead th {\n",
       "        text-align: right;\n",
       "    }\n",
       "</style>\n",
       "<table border=\"1\" class=\"dataframe\">\n",
       "  <thead>\n",
       "    <tr style=\"text-align: right;\">\n",
       "      <th></th>\n",
       "      <th>CRIM</th>\n",
       "      <th>ZN</th>\n",
       "      <th>INDUS</th>\n",
       "      <th>CHAS</th>\n",
       "      <th>NOX</th>\n",
       "      <th>RM</th>\n",
       "      <th>AGE</th>\n",
       "      <th>DIS</th>\n",
       "      <th>RAD</th>\n",
       "      <th>TAX</th>\n",
       "      <th>PTRATIO</th>\n",
       "      <th>B</th>\n",
       "      <th>LSTAT</th>\n",
       "    </tr>\n",
       "  </thead>\n",
       "  <tbody>\n",
       "    <tr>\n",
       "      <th>weights</th>\n",
       "      <td>-0.000000</td>\n",
       "      <td>0.007871</td>\n",
       "      <td>-0.000000</td>\n",
       "      <td>0.000000</td>\n",
       "      <td>-0.000000</td>\n",
       "      <td>0.000000</td>\n",
       "      <td>-0.000000</td>\n",
       "      <td>0.000000</td>\n",
       "      <td>0.000000</td>\n",
       "      <td>-0.023099</td>\n",
       "      <td>-0.000000</td>\n",
       "      <td>0.010668</td>\n",
       "      <td>-0.00000</td>\n",
       "    </tr>\n",
       "    <tr>\n",
       "      <th>variance</th>\n",
       "      <td>73.986578</td>\n",
       "      <td>543.936814</td>\n",
       "      <td>47.064442</td>\n",
       "      <td>0.064513</td>\n",
       "      <td>0.013428</td>\n",
       "      <td>0.493671</td>\n",
       "      <td>792.358399</td>\n",
       "      <td>4.434015</td>\n",
       "      <td>75.816366</td>\n",
       "      <td>28404.759488</td>\n",
       "      <td>4.686989</td>\n",
       "      <td>8334.752263</td>\n",
       "      <td>50.99476</td>\n",
       "    </tr>\n",
       "  </tbody>\n",
       "</table>\n",
       "</div>"
      ],
      "text/plain": [
       "               CRIM          ZN      INDUS      CHAS       NOX        RM  \\\n",
       "weights   -0.000000    0.007871  -0.000000  0.000000 -0.000000  0.000000   \n",
       "variance  73.986578  543.936814  47.064442  0.064513  0.013428  0.493671   \n",
       "\n",
       "                 AGE       DIS        RAD           TAX   PTRATIO  \\\n",
       "weights    -0.000000  0.000000   0.000000     -0.023099 -0.000000   \n",
       "variance  792.358399  4.434015  75.816366  28404.759488  4.686989   \n",
       "\n",
       "                    B     LSTAT  \n",
       "weights      0.010668  -0.00000  \n",
       "variance  8334.752263  50.99476  "
      ]
     },
     "metadata": {},
     "output_type": "display_data"
    },
    {
     "data": {
      "text/plain": [
       "'Variance and weights with α = 1, ρ = 0.5'"
      ]
     },
     "metadata": {},
     "output_type": "display_data"
    },
    {
     "data": {
      "text/html": [
       "<div>\n",
       "<style scoped>\n",
       "    .dataframe tbody tr th:only-of-type {\n",
       "        vertical-align: middle;\n",
       "    }\n",
       "\n",
       "    .dataframe tbody tr th {\n",
       "        vertical-align: top;\n",
       "    }\n",
       "\n",
       "    .dataframe thead th {\n",
       "        text-align: right;\n",
       "    }\n",
       "</style>\n",
       "<table border=\"1\" class=\"dataframe\">\n",
       "  <thead>\n",
       "    <tr style=\"text-align: right;\">\n",
       "      <th></th>\n",
       "      <th>CRIM</th>\n",
       "      <th>ZN</th>\n",
       "      <th>INDUS</th>\n",
       "      <th>CHAS</th>\n",
       "      <th>NOX</th>\n",
       "      <th>RM</th>\n",
       "      <th>AGE</th>\n",
       "      <th>DIS</th>\n",
       "      <th>RAD</th>\n",
       "      <th>TAX</th>\n",
       "      <th>PTRATIO</th>\n",
       "      <th>B</th>\n",
       "      <th>LSTAT</th>\n",
       "    </tr>\n",
       "  </thead>\n",
       "  <tbody>\n",
       "    <tr>\n",
       "      <th>weights</th>\n",
       "      <td>-0.079223</td>\n",
       "      <td>0.056378</td>\n",
       "      <td>-0.024847</td>\n",
       "      <td>0.000000</td>\n",
       "      <td>-0.000000</td>\n",
       "      <td>0.842704</td>\n",
       "      <td>0.015518</td>\n",
       "      <td>-0.757884</td>\n",
       "      <td>0.228696</td>\n",
       "      <td>-0.014712</td>\n",
       "      <td>-0.856892</td>\n",
       "      <td>0.006905</td>\n",
       "      <td>-0.714712</td>\n",
       "    </tr>\n",
       "    <tr>\n",
       "      <th>variance</th>\n",
       "      <td>73.986578</td>\n",
       "      <td>543.936814</td>\n",
       "      <td>47.064442</td>\n",
       "      <td>0.064513</td>\n",
       "      <td>0.013428</td>\n",
       "      <td>0.493671</td>\n",
       "      <td>792.358399</td>\n",
       "      <td>4.434015</td>\n",
       "      <td>75.816366</td>\n",
       "      <td>28404.759488</td>\n",
       "      <td>4.686989</td>\n",
       "      <td>8334.752263</td>\n",
       "      <td>50.994760</td>\n",
       "    </tr>\n",
       "  </tbody>\n",
       "</table>\n",
       "</div>"
      ],
      "text/plain": [
       "               CRIM          ZN      INDUS      CHAS       NOX        RM  \\\n",
       "weights   -0.079223    0.056378  -0.024847  0.000000 -0.000000  0.842704   \n",
       "variance  73.986578  543.936814  47.064442  0.064513  0.013428  0.493671   \n",
       "\n",
       "                 AGE       DIS        RAD           TAX   PTRATIO  \\\n",
       "weights     0.015518 -0.757884   0.228696     -0.014712 -0.856892   \n",
       "variance  792.358399  4.434015  75.816366  28404.759488  4.686989   \n",
       "\n",
       "                    B      LSTAT  \n",
       "weights      0.006905  -0.714712  \n",
       "variance  8334.752263  50.994760  "
      ]
     },
     "metadata": {},
     "output_type": "display_data"
    },
    {
     "data": {
      "application/vnd.jupyter.widget-view+json": {
       "model_id": "cebe3b0b85474f6598e8a795cefe94a4",
       "version_major": 2,
       "version_minor": 0
      },
      "text/plain": [
       "Canvas(toolbar=Toolbar(toolitems=[('Home', 'Reset original view', 'home', 'home'), ('Back', 'Back to previous …"
      ]
     },
     "metadata": {},
     "output_type": "display_data"
    },
    {
     "data": {
      "application/vnd.jupyter.widget-view+json": {
       "model_id": "f623491ed0894d9aaadc5bf018161f0a",
       "version_major": 2,
       "version_minor": 0
      },
      "text/plain": [
       "Output()"
      ]
     },
     "metadata": {},
     "output_type": "display_data"
    },
    {
     "data": {
      "application/vnd.jupyter.widget-view+json": {
       "model_id": "2b0d41fcd3a24bbc9176c1ffb4c978cd",
       "version_major": 2,
       "version_minor": 0
      },
      "text/plain": [
       "HBox(children=(FloatSlider(value=1.0, description='α', min=1.0, step=1.0), FloatSlider(value=0.5, description=…"
      ]
     },
     "metadata": {},
     "output_type": "display_data"
    }
   ],
   "source": [
    "#prepare the data\n",
    "X_train, X_test, y_train, y_test = train_test_split(df.drop('MEDV', axis = 1).values, df.MEDV.values, \n",
    "                                                    random_state=0, test_size = 0.2)\n",
    "#model with alpha =100\n",
    "elastic = ElasticNet(alpha = 100, l1_ratio = 0.5)\n",
    "elastic.fit(X_train, y_train)\n",
    "df_model.loc['weights'] = elastic.coef_.tolist()\n",
    "\n",
    "#display dataframe\n",
    "display(\"Variance and weights with \\u03B2 = 100, \\u03C1 = 0.5\")\n",
    "display(df_model)\n",
    "\n",
    "#define a first regressor\n",
    "elastic = ElasticNet(alpha = 1, l1_ratio=0.5)\n",
    "elastic.fit(X_train, y_train)\n",
    "\n",
    "#display dataframe\n",
    "df_model.loc['weights'] = elastic.coef_.tolist()\n",
    "display(\"Variance and weights with \\u03B1 = 1, \\u03C1 = 0.5\")\n",
    "display(df_model)\n",
    "\n",
    "#plot setting\n",
    "fig, ax = plt.subplots(figsize = (10,6))\n",
    "#first subplot\n",
    "bar = ax.barh(ypos, elastic.coef_, align = 'center', color = 'red')\n",
    "ax.set_yticks(ypos)\n",
    "ax.set_yticklabels(names)\n",
    "ax.set_xlabel('Weight value')\n",
    "ax.set_title('Weights of every feature')\n",
    "\n",
    "#define sliders\n",
    "alpha =  widgets.FloatSlider(value=1, min = 1, max= 100, step= 1, description = \"\\u03B1\")\n",
    "rho =  widgets.FloatSlider(value=0.5, min = 0.01, max= 1, step= 0.01, description = \"\\u03C1\")\n",
    "\n",
    "#define what happens when slider value change\n",
    "def update(alpha, rho):\n",
    "    elastic = ElasticNet(alpha = alpha, l1_ratio = rho)\n",
    "    elastic.fit(X_train, y_train)\n",
    "    for i in range(len(elastic.coef_)):\n",
    "        bar[i].set_width(elastic.coef_[i])\n",
    "    df_model.loc['weights'] = elastic.coef_.tolist()\n",
    "    fig.canvas.draw()\n",
    "\n",
    "\n",
    "# An HBox lays out its children horizontally\n",
    "ui = widgets.HBox([alpha, rho])\n",
    "#define interactive output\n",
    "plot = interactive_output(update, {'alpha':alpha, 'rho':rho})\n",
    "#show slider and plot\n",
    "display(plot,ui)"
   ]
  },
  {
   "cell_type": "markdown",
   "id": "782a26be",
   "metadata": {},
   "source": [
    "# Come trovare i parametri migliori? \n",
    "\n",
    "Per trovare i **parametri migliori dei modelli, detto anche hyperparameter tuning(poichè chiamati anche iperparametri)** consiste nel trovare dei metodi attraverso cui possiamo stabilire quali siano i valori di $\\alpha$, $\\beta$ o di qualsiasi altro parametro che il nostro modello usa per allenarsi sui dati, per questa trattazione vedremo tre modi : criterio di informazione di Akaike, criterio di informazione Baesiano e Cross validation.\n",
    "\n",
    "## Akaike Information Criterion (AIC)\n",
    "\n",
    "L'__[AIC](https://en.wikipedia.org/wiki/Akaike_information_criterion)__ è un criterio che si basa sulla seguente formula:\n",
    "\n",
    "\\begin{equation}\n",
    "    \\Large AIC = 2k - 2\\ln{(\\hat{L})}\n",
    "\\end{equation}\n",
    "\n",
    "dove $k$ indica il numero di parametri del modello, $\\hat{L} = p(x | \\theta, M)$ è il massimo valore di verosomiglianza del modello con x i dati, $\\theta$ i parametri del modello e $M$ il modello stesso, dove il modello migliore è quello che minimizza l'AIC.\n",
    "\n",
    "## Bayesian information criterion(BIC)\n",
    "\n",
    "Il __[BIC](https://en.wikipedia.org/wiki/Bayesian_information_criterion)__ invece ha la seguente formula:\n",
    "\n",
    "\\begin{equation}\n",
    "    \\Large BIC = k\\ln(n) - 2\\ln{(\\hat{L})}\n",
    "\\end{equation}\n",
    "\n",
    "dove il parametro $n$ indica il numero di dati presenti.\n",
    "\n",
    "## Cross Validation\n",
    "\n",
    "Nel caso della __[Cross Validation](https://en.wikipedia.org/wiki/Cross-validation_%28statistics%29)__ queello che usiamo è la __[coordinate descent](https://en.wikipedia.org/wiki/Coordinate_descent)__ dove la formula su cui ci basiamo nel caso la funzione sia differenziabile può essere rappresentata come:\n",
    "\n",
    "\\begin{equation}\n",
    "    \\Large x_{i+1} = x_{i} - \\alpha \\frac{\\partial F}{\\partial x_{i}}(\\textbf{x})\n",
    "\\end{equation}\n",
    "\n",
    "in cui $\\alpha$ rappresenta il passo da effettuare nello spazio, la F è la nostra funzione da minimizzare e possiamo decidere di fissarci su una singola componente o su un intero blocco di esse. Usiamo in tal caso la Cross Validation per essere sicuri che i parametri trovati siano effettivamente generali e non specifici al nostro dataset di training.\n",
    "\n",
    "## Least Angle Regression (LARS)\n",
    "\n",
    "La libreria scikit(__[link alla libreria](https://scikit-learn.org/stable/modules/linear_model.html#least-angle-regression)__) permette di usare un particolare algoritmo molto utile chiamato __[LARS](https://en.wikipedia.org/wiki/Least-angle_regression)__, che permette di allenare modelli anche ad alta dimensionalità e che permette di estrapolare le varibili maggiormente correlate al target ed i loro coefficienti, vedremo che con questo algoritmo è possibile applicare i modelli appena visti."
   ]
  },
  {
   "cell_type": "code",
   "execution_count": 9,
   "id": "eb9eecc7",
   "metadata": {},
   "outputs": [
    {
     "name": "stdout",
     "output_type": "stream",
     "text": [
      "Preparing the data for training and testing\n",
      "Data prepared, the 80% will be used for training, and the remaining 20% will be for testing\n",
      "--------------------------------------------------------------------------------\n",
      "Ridge Model optimized using 10 folds croos validation and searching all integers alphas between 1 and 100\n",
      "Ridge best alpha: 0, R^2 score testing: 0.5892223849182503\n",
      " time taken : 2.002999782562256s\n",
      "--------------------------------------------------------------------------------\n",
      "Lasso Model optimized using 10 folds cross validation and searching all integers alphas between 1 and 100\n",
      "Lasso best alpha: 0.01, R^2 score testing: 0.58499838480617, numero iterazioni: 64\n",
      " time taken : 0.16098308563232422s\n",
      "--------------------------------------------------------------------------------\n",
      "Lasso Model using Lars algorithm optimized using 10 folds cross validation and searching all integers alphas between 1 and 100\n",
      "Lasso Lars best alpha: 0.0009600789694834831, R^2 score testing: 0.5858944312103755, numero iterazioni: 14\n",
      " time taken : 0.05199694633483887s\n",
      "--------------------------------------------------------------------------------\n",
      "Lasso Model using AIC criterion optimization\n",
      "Lasso Lars using AIC best alpha: 0.0001988059860358497, R^2 score testing: 0.5884444412846026, numero iterazioni : 15\n",
      " time taken : 0.007001399993896484s\n",
      "--------------------------------------------------------------------------------\n",
      "Lasso Model using BIC criterion optimization\n",
      "Lasso Lars using BIC best alpha: 0.06987936879637764, R^2 score testing: 0.5047826091816949, numero iterazioni : 15\n",
      " time taken : 0.006998538970947266s\n",
      "--------------------------------------------------------------------------------\n",
      "Elasticnet Model optimized using 10 folds cross validation and searching l1_ratio between 0 and 1\n",
      "Elasticnet best alpha: 0.812788907603632, best l1_ratio: 0.99, R^2 score testing: 0.508981141057887, numero iterazioni: 46\n",
      " time taken : 14.50524616241455s\n",
      "--------------------------------------------------------------------------------\n"
     ]
    }
   ],
   "source": [
    "import time #libreria per tenere conto del tempo impiegato\n",
    "from numpy import arange\n",
    "\n",
    "#importiamo i metodi per trovare gli iperparametri\n",
    "from sklearn.linear_model import RidgeCV, LassoCV, LassoLarsCV, LassoLarsIC, ElasticNetCV\n",
    "\n",
    "#definiamo i dati da usare\n",
    "X, Y = df.drop('MEDV', axis = 1).values, df.MEDV.values\n",
    "\n",
    "print('Preparing the data for training and testing')\n",
    "#prepare the data for the criterion optimization and testing \n",
    "X_train, X_test, Y_train, Y_test = train_test_split(X, Y, random_state=0, test_size = 0.2)\n",
    "print('Data prepared, the 80% will be used for training, and the remaining 20% will be for testing')\n",
    "#separator\n",
    "print('-'*80)\n",
    "\n",
    "#range of alphas to try on ridge\n",
    "alpha = range(0,100,1)\n",
    "betas = arange(0.01, 1, 0.01)\n",
    "\n",
    "#definiamo una Ridge cross validation con score r2 e 10 fold con il nostro insieme di parametri alpha\n",
    "print('Ridge Model optimized using 10 folds croos validation and searching all integers alphas between 1 and 100')\n",
    "ridge = RidgeCV(alphas = alpha, scoring = 'r2', cv = 10)\n",
    "ridge_start = time.time()\n",
    "ridge.fit(X_train, Y_train)\n",
    "ridge_end = time.time()\n",
    "print(f'Ridge best alpha: {ridge.alpha_}, R^2 score testing: {ridge.score(X_test, Y_test)}\\n'\n",
    "      f' time taken : {ridge_end - ridge_start}s')\n",
    "#separator\n",
    "print('-'*80)\n",
    "\n",
    "#Lasso model using cv\n",
    "print('Lasso Model optimized using 10 folds cross validation and searching all integers alphas between 1 and 100')\n",
    "#even in this case you need to pass the number of parameters\n",
    "lassocv = LassoCV(alphas = betas, cv = 10)\n",
    "lassocv_start = time.time()\n",
    "lassocv.fit(X_train, Y_train)\n",
    "lassocv_end = time.time()\n",
    "print(f'Lasso best alpha: {lassocv.alpha_}, R^2 score testing: {lassocv.score(X_test, Y_test)}, ' \n",
    "      f'numero iterazioni: {lassocv.n_iter_}\\n time taken : {lassocv_end - lassocv_start}s')\n",
    "#separator\n",
    "print('-'*80)\n",
    "\n",
    "#lasso using cv and lars\n",
    "print('Lasso Model using Lars algorithm optimized using 10 folds cross validation and searching all integers alphas between 1 and 100')\n",
    "#here i pass the maximum number of of alphas used on the path to compute the residual\n",
    "lassolarscv = LassoLarsCV(max_n_alphas=100, cv = 10)\n",
    "lassolarscv_start = time.time()\n",
    "lassolarscv.fit(X_train, Y_train)\n",
    "lassolarscv_end = time.time()\n",
    "print(f'Lasso Lars best alpha: {lassolarscv.alpha_}, R^2 score testing: {lassolarscv.score(X_test, Y_test)}, '\n",
    "      f'numero iterazioni: {lassolarscv.n_iter_}\\n time taken : {lassolarscv_end - lassolarscv_start}s')\n",
    "#separator\n",
    "print('-'*80)\n",
    "\n",
    "#lasso model using aic\n",
    "print('Lasso Model using AIC criterion optimization')\n",
    "#here i pass the maximum number of of alphas used on the path to compute the residual\n",
    "lassolarsaic = LassoLarsIC(criterion='aic')\n",
    "lassolarsaic_start = time.time()\n",
    "lassolarsaic.fit(X_train,Y_train)\n",
    "lassolarsaic_end = time.time()\n",
    "print(f'Lasso Lars using AIC best alpha: {lassolarsaic.alpha_}, R^2 score testing: {lassolarsaic.score(X_test, Y_test)}, ' \n",
    "      f'numero iterazioni : {lassolarsaic.n_iter_}\\n time taken : {lassolarsaic_end - lassolarsaic_start}s')\n",
    "#separator\n",
    "print('-'*80)\n",
    "\n",
    "\n",
    "#lasso model using bic\n",
    "print('Lasso Model using BIC criterion optimization')\n",
    "#here i pass the maximum number of of alphas used on the path to compute the residual\n",
    "lassolarsbic = LassoLarsIC(criterion='bic')\n",
    "lassolarsbic_start = time.time()\n",
    "lassolarsbic.fit(X_train,Y_train)\n",
    "lassolarsbic_end = time.time()\n",
    "print(f'Lasso Lars using BIC best alpha: {lassolarsbic.alpha_}, R^2 score testing: {lassolarsbic.score(X_test, Y_test)}, ' \n",
    "      f'numero iterazioni : {lassolarsbic.n_iter_}\\n time taken : {lassolarsbic_end - lassolarsbic_start}s')\n",
    "#separator\n",
    "print('-'*80)\n",
    "\n",
    "#Lasso model using cv\n",
    "print('Elasticnet Model optimized using 10 folds cross validation and searching l1_ratio between 0 and 1')\n",
    "#even in this case you need to pass the number of parameters\n",
    "elasticv = ElasticNetCV(l1_ratio=betas, n_alphas=100, cv = 10)\n",
    "elasticv_start = time.time()\n",
    "elasticv.fit(X_train, Y_train)\n",
    "elasticv_end = time.time()\n",
    "print(f'Elasticnet best alpha: {elasticv.alpha_}, best l1_ratio: {elasticv.l1_ratio_}, R^2 score testing: {elasticv.score(X_test, Y_test)}, ' \n",
    "      f'numero iterazioni: {elasticv.n_iter_}\\n time taken : {elasticv_end-  elasticv_start}s')\n",
    "#separator\n",
    "print('-'*80)"
   ]
  },
  {
   "cell_type": "markdown",
   "id": "f446892b",
   "metadata": {},
   "source": [
    "Testando tutti i modelli abbiamo capito che il modello migliore tra quelli visti è **il Lasso, il migliore score nel miglior tempo lo otteniamo usando il criterio AIC**, in genere *se siete decisi tra questi due modelli iniziate con testare il modello Elasticnet, se il termine l1_ratio tende a uno dei due estremi allora crecate i migliori valori per tale modello controllando sempre che il modello abbia **uno score sul testing** più alto del modello iniziale*, __[per maggiori info](https://scikit-learn.org/stable/auto_examples/linear_model/plot_lasso_model_selection.html?highlight=aic)__.\n",
    "Qualora incontraste lunge attese nell'esecuzione in alcuni di questi algortimi è presente l'opzione ***n_jobs*** ponete questo valore uguale a -1 per fare in modo che l'algoritmo usi tutti i core del pc per eseguire le operazioni o un numero compreso tra 1 e il numero di core del vostro pc, ma state attenti che userete molto più risorse!\n",
    "\n",
    "---\n",
    "\n",
    "AVETE FINITO LA LEZIONE SULLA REGRESSIONE LINEARE E LA SUA REGORALIZZAZIONE, A PRESTO!"
   ]
  }
 ],
 "metadata": {
  "kernelspec": {
   "display_name": "Python 3",
   "language": "python",
   "name": "python3"
  },
  "language_info": {
   "codemirror_mode": {
    "name": "ipython",
    "version": 3
   },
   "file_extension": ".py",
   "mimetype": "text/x-python",
   "name": "python",
   "nbconvert_exporter": "python",
   "pygments_lexer": "ipython3",
   "version": "3.8.8"
  }
 },
 "nbformat": 4,
 "nbformat_minor": 5
}
