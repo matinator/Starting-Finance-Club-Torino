{
 "cells": [
  {
   "cell_type": "markdown",
   "metadata": {},
   "source": [
    "# Numpy #\n",
    "\n",
    "Numpy è una libreria creata per permettere la creazione di ***array n-dimensionali in python***, le caratteristiche principali di numpy è che questa libreria è **estremamente veloce, versatile e usata in molte altre librerie**, come infatti vedremo in seguito altre librerie sono basate su di essa per permettere di fare operazioni più veloci e avere controllo sulla memoria.\n",
    "\n",
    "<div class=\"alert alert-block alert-success\">\n",
    "    Il motivo per cui numpy è così veloce è dovuto al fatto che è basata su linguaggi a più basso livello che sono C e Fortran, come vedremo in seguito questo è possibile notarlo dalla presenza di tipi di variabili con numeri di bit definiti. \n",
    "</div>\n",
    "\n",
    "<div class=\"alert alert-block alert-warning\">\n",
    "    Numpy dovrebbe essere già installato con anaconda, qualora però non lo fosse installatelo seguendo la lezione 1-Module. \n",
    "</div>\n",
    "\n",
    "## Cosa sono gli array ? ##\n",
    "\n",
    "Gli array sono un concetto informatica ispirato dalla nozione di vettori, matrici o più in generale tensori usati in geometria e matematica.\n",
    "Il concetto di array è già stato introdotto indirettamente nel capitolo 1 con la definzione di strutture di dati in particolare con la definizione di liste e dizionari, per avere una visione su cosa siano questi array usiamo un immagine di numpy.\n",
    "\n",
    "![numpy array](../img/numpy_array.png)\n",
    "\n",
    "Come possiamo notare dall'immagine un array 1d è equivalemente a una lista in python, il problema sorge qualora ci spostiamo in array 2d o superiori per cui non abbiamo un'istruzione diretta per la creazione di tali elementi, in tal caso facciamo ricorso alla libreria notando che numpy creerà una lista di liste legata al numero di dimensioni considerata.\n",
    "Vediamo però il suo utilizzo attraverso la libreria.ù\n",
    "\n",
    "## Creazione di array e operazioni ##\n",
    "\n",
    "### Creazione di array ###\n",
    "Per creare un array in numpy in primo passo è necessario importare la libreria dopodiché è possibile inizializzare un array decidendo se dovrà contenere zeri o uni, attenzione i valori che potreste vedere potrebbero essere valori approssimata seconda la macchina essere vicini a quelli."
   ]
  },
  {
   "cell_type": "code",
   "execution_count": 1,
   "metadata": {},
   "outputs": [
    {
     "name": "stdout",
     "output_type": "stream",
     "text": [
      "Array 1dimensionale contenenti uni [1. 1. 1. 1.]\n",
      "Array 1dimensionale contenenti zeri [0. 0. 0. 0.]\n"
     ]
    }
   ],
   "source": [
    "import numpy as np\n",
    "#notare bene le doppie paretesi\n",
    "ones_1d = np.ones((4,)) #contiene solo 4 elementi \n",
    "zeros_1d = np.zeros((4,))\n",
    "print('Array 1dimensionale contenenti uni', ones_1d)\n",
    "print('Array 1dimensionale contenenti zeri', zeros_1d)"
   ]
  },
  {
   "cell_type": "markdown",
   "metadata": {},
   "source": [
    "Qualora volessi creare array 2D l'unica modifica che è necessaria è aggiungere il numero della seconda dimensione all'interno della doppia parentesi."
   ]
  },
  {
   "cell_type": "code",
   "execution_count": 2,
   "metadata": {},
   "outputs": [
    {
     "name": "stdout",
     "output_type": "stream",
     "text": [
      "Array 2dimensioni contenenti uni:\n",
      " [[1. 1. 1.]\n",
      " [1. 1. 1.]]\n",
      "Array 2dimensioni contenenti zeri:\n",
      " [[0. 0. 0.]\n",
      " [0. 0. 0.]]\n"
     ]
    }
   ],
   "source": [
    "ones_2d = np.ones((2,3))\n",
    "zeros_2d = np.zeros((2,3))\n",
    "print('Array 2dimensioni contenenti uni:\\n', ones_2d)\n",
    "print('Array 2dimensioni contenenti zeri:\\n', zeros_2d)"
   ]
  },
  {
   "cell_type": "markdown",
   "metadata": {},
   "source": [
    "Come è possibile notare l'array 1d è l'analogo della lista, mentre quello 2d è una lista di liste questo poiché in python come abbiamo detto non esistono altre strutture oltre a questa per la memorizzazione di dati in maniera ordinata. \n",
    "Per quanto riguarda gli array 3d ripetiamo i procedimenti precedenti."
   ]
  },
  {
   "cell_type": "code",
   "execution_count": 3,
   "metadata": {},
   "outputs": [
    {
     "name": "stdout",
     "output_type": "stream",
     "text": [
      "Array 3dimensioni contenenti uni:\n",
      " [[[1. 1.]\n",
      "  [1. 1.]\n",
      "  [1. 1.]]\n",
      "\n",
      " [[1. 1.]\n",
      "  [1. 1.]\n",
      "  [1. 1.]]\n",
      "\n",
      " [[1. 1.]\n",
      "  [1. 1.]\n",
      "  [1. 1.]]\n",
      "\n",
      " [[1. 1.]\n",
      "  [1. 1.]\n",
      "  [1. 1.]]]\n",
      "Array 3dimensioni contenenti zeri:\n",
      " [[[0. 0.]\n",
      "  [0. 0.]\n",
      "  [0. 0.]]\n",
      "\n",
      " [[0. 0.]\n",
      "  [0. 0.]\n",
      "  [0. 0.]]\n",
      "\n",
      " [[0. 0.]\n",
      "  [0. 0.]\n",
      "  [0. 0.]]\n",
      "\n",
      " [[0. 0.]\n",
      "  [0. 0.]\n",
      "  [0. 0.]]]\n"
     ]
    }
   ],
   "source": [
    "ones_3d = np.ones((4,3,2))\n",
    "zeros_3d = np.zeros((4,3,2))\n",
    "print('Array 3dimensioni contenenti uni:\\n', ones_3d)\n",
    "print('Array 3dimensioni contenenti zeri:\\n', zeros_3d)"
   ]
  },
  {
   "cell_type": "markdown",
   "metadata": {},
   "source": [
    "### Operazioni su array ###\n",
    "Su questi array è possibile effettuare delle operazioni come se fossero delle variabili e molte altre.\n",
    "#### Addizione ####\n",
    "Per l'operazione di somma tra due array a noi basta usare `+` oppure `np.add`."
   ]
  },
  {
   "cell_type": "code",
   "execution_count": 4,
   "metadata": {},
   "outputs": [
    {
     "name": "stdout",
     "output_type": "stream",
     "text": [
      "[2. 2. 2. 2.]\n"
     ]
    }
   ],
   "source": [
    "print(ones_1d+ones_1d)"
   ]
  },
  {
   "cell_type": "code",
   "execution_count": 5,
   "metadata": {},
   "outputs": [
    {
     "name": "stdout",
     "output_type": "stream",
     "text": [
      "[2. 2. 2. 2.]\n"
     ]
    }
   ],
   "source": [
    "print(np.add(ones_1d, ones_1d))"
   ]
  },
  {
   "cell_type": "markdown",
   "metadata": {},
   "source": [
    "#### Sottrazione ####\n",
    "Per l'operazione di differenza tra due array a noi basta usare `-` oppure `np.substract`."
   ]
  },
  {
   "cell_type": "code",
   "execution_count": 6,
   "metadata": {},
   "outputs": [
    {
     "name": "stdout",
     "output_type": "stream",
     "text": [
      "[[0. 0. 0.]\n",
      " [0. 0. 0.]]\n"
     ]
    }
   ],
   "source": [
    "print(ones_2d - ones_2d)"
   ]
  },
  {
   "cell_type": "markdown",
   "metadata": {},
   "source": [
    "#### Moltiplicazione ####\n",
    "Per l'operazione di moltiplicazione tra due array a noi basta usare `*` oppure `np.multiply`."
   ]
  },
  {
   "cell_type": "code",
   "execution_count": 7,
   "metadata": {},
   "outputs": [
    {
     "name": "stdout",
     "output_type": "stream",
     "text": [
      "[[0. 0. 0.]\n",
      " [0. 0. 0.]]\n"
     ]
    }
   ],
   "source": [
    "print(ones_2d * zeros_2d)"
   ]
  },
  {
   "cell_type": "markdown",
   "metadata": {},
   "source": [
    "#### Divisione ####\n",
    "Per l'operazione di divisione tra due array a noi basta usare `/` oppure `np.divide`."
   ]
  },
  {
   "cell_type": "code",
   "execution_count": 8,
   "metadata": {},
   "outputs": [
    {
     "name": "stdout",
     "output_type": "stream",
     "text": [
      "[[0.5 0.5 0.5]\n",
      " [0.5 0.5 0.5]]\n"
     ]
    }
   ],
   "source": [
    "print(ones_2d / 2)"
   ]
  },
  {
   "cell_type": "markdown",
   "metadata": {},
   "source": [
    "<div class=\"alert alert-block alert-success\">\n",
    "    Notare bene che l'ultima operazione che ho fatto non è tra due array, il motivo per cui funziona è dovuto al broadcasting che manipola gli array in maniera tale da avere la stessa dimensione, ciò non avviene per tutte le operazioni, per chiarimenti fare riferimento a questo <a href=\"https://www.tutorialspoint.com/numpy/numpy_broadcast.htm\">link</a>.\n",
    "</div>\n",
    "\n",
    "Ci sono molte altre operazioni nella librerie che sarebbero troppo lunghe da elencare qui, per avere un quadro generale di tutto ciò potete consultare questo __[cheatsheet](https://s3.amazonaws.com/assets.datacamp.com/blog_assets/Numpy_Python_Cheat_Sheet.pdf)__, mentre se aveste dubbi potete consultare la __[documentazione](https://numpy.org/doc/stable/index.html)__."
   ]
  },
  {
   "cell_type": "markdown",
   "metadata": {},
   "source": [
    "## Accesso ad elementi negli array ##\n",
    "Per accedere agli elementi degli si applicano le stesse regole della lista, è necessario quindi ricordare che gli indici partono da 0, per quanto riguardo l'accesso dei singoli elementi in array multidimensionali è necessario usare un numero di indici uguale alla dimensione dell'array, mentre nel caso volessimo accedere a elementi multipli basta definire un intervallo come nelle liste, vediamo degli esempi per chiarire ciò."
   ]
  },
  {
   "cell_type": "code",
   "execution_count": 9,
   "metadata": {},
   "outputs": [
    {
     "name": "stdout",
     "output_type": "stream",
     "text": [
      "Array 1d\n",
      "Elemento al 2 indice 1.0\n",
      "Elementi dal primo al penultimo [1. 1.]\n",
      "Tutti gli elementi [1. 1. 1. 1.]\n",
      "Array 2d\n",
      "elemento in posizione (1,2) 1.0\n",
      "Prima riga [1. 1. 1.]\n",
      "Prima colonna [1. 1.]\n"
     ]
    }
   ],
   "source": [
    "#selezionare uno o più elementi in array 1d\n",
    "print('Array 1d')\n",
    "print('Elemento al 2 indice', ones_1d[2])\n",
    "print('Elementi dal primo al penultimo', ones_1d[:-2])\n",
    "print('Tutti gli elementi', ones_1d[:])\n",
    "#selezionare uno o più elementi in 2d\n",
    "print('Array 2d')\n",
    "print('elemento in posizione (1,2)', ones_2d[1,2])\n",
    "print('Prima riga', ones_2d[0,:])\n",
    "print('Prima colonna', ones_2d[:,0])"
   ]
  },
  {
   "cell_type": "markdown",
   "metadata": {},
   "source": [
    "## Tipi di dati in numpy ##\n",
    "Numpy essendo basato su linguaggi a più basso livello fornisce maggiore informazioni su come sono costruiti i dati, vediamolo guardando le informazioni su un array."
   ]
  },
  {
   "cell_type": "code",
   "execution_count": 10,
   "metadata": {},
   "outputs": [
    {
     "name": "stdout",
     "output_type": "stream",
     "text": [
      "class:  ndarray\n",
      "shape:  (2, 3)\n",
      "strides:  (24, 8)\n",
      "itemsize:  8\n",
      "aligned:  True\n",
      "contiguous:  True\n",
      "fortran:  False\n",
      "data pointer: 0x2c7924e8180\n",
      "byteorder:  little\n",
      "byteswap:  False\n",
      "type: float64\n"
     ]
    }
   ],
   "source": [
    "np.info(ones_2d)"
   ]
  },
  {
   "cell_type": "markdown",
   "metadata": {},
   "source": [
    "Come possiamo vedere abbiamo informazioni sull'array:\n",
    "- la classe\n",
    "- shape: la forma dell'array \n",
    "- strides: quanti bytes sono distanti da una cella di memoria all'altra\n",
    "- itemsize: la sua lunghezza in byte,\n",
    "- aligend: se è allineata in memoria \n",
    "- contiguous: ci dice se l'array è costruito usando la notazione in C\n",
    "- fortran è l'analogo di contiguous con la condizione posta sul linguaggio Fortran\n",
    "- il data pointer definisce l'indirizzo di memoria dove sono contenuti i dati\n",
    "- byteorder definisce quale sia l'ordine di questo tipo di dato-\n",
    "- byteswap invece ci dice se vogliamo scambiare il byteorder.\n",
    "- type: il tipo di dato con il numero di bit\n",
    "\n",
    "Il punto centrale risulta però essere il type che ci dice che è di tipo float64 ovvero di tipo float come già visto in python, con l'aggiunta del fatto che ogni numero viene memorizzato in 64bit.<br>\n",
    "Il 64bit viene considerato il formato standard poiché buon compresso tra velocità e precisione, qualora però sia necessaria più velocità e minore precisione potete convertire l'array in un formato con un numero di bit minore usando il comando `.astype('nuovo_tipo')`dove il nuovo tipo deve essere tra quelli ammessi, guardare questa __[link](https://www.delftstack.com/tutorial/python-numpy/numpy-datatype-and-conversion/)__ per maggiori info."
   ]
  },
  {
   "cell_type": "code",
   "execution_count": 11,
   "metadata": {},
   "outputs": [
    {
     "name": "stdout",
     "output_type": "stream",
     "text": [
      "class:  ndarray\n",
      "shape:  (2, 3)\n",
      "strides:  (12, 4)\n",
      "itemsize:  4\n",
      "aligned:  True\n",
      "contiguous:  True\n",
      "fortran:  False\n",
      "data pointer: 0x2c79280ea50\n",
      "byteorder:  little\n",
      "byteswap:  False\n",
      "type: float32\n"
     ]
    }
   ],
   "source": [
    "#creo un nuovo array basandomi sul precedente con il tipo float32\n",
    "ones_2d_32bit = ones_2d.astype('float32')\n",
    "np.info(ones_2d_32bit)"
   ]
  },
  {
   "cell_type": "markdown",
   "metadata": {},
   "source": [
    "<div class=\"alert alert-block alert-danger\">\n",
    "    State attenti ad usare un numero di bit basso per numeri particolarmente grandi, poiché potreste andare incontro ad errori di approssimazioni dovuti al numero di bit insufficienti facendo delle operazione, e state inoltre attenti a convertire interi in floating point e altri tipi di dati.\n",
    "</div>\n",
    "\n",
    "***\n",
    "COMPLIMENTI AVETE COMPLETATO LA LEZIONE DI NUMPY!"
   ]
  }
 ],
 "metadata": {
  "kernelspec": {
   "display_name": "Python 3",
   "language": "python",
   "name": "python3"
  },
  "language_info": {
   "codemirror_mode": {
    "name": "ipython",
    "version": 3
   },
   "file_extension": ".py",
   "mimetype": "text/x-python",
   "name": "python",
   "nbconvert_exporter": "python",
   "pygments_lexer": "ipython3",
   "version": "3.8.5"
  }
 },
 "nbformat": 4,
 "nbformat_minor": 4
}
