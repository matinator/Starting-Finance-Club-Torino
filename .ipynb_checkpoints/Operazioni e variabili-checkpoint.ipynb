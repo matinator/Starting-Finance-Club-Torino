{
 "cells": [
  {
   "cell_type": "markdown",
   "metadata": {},
   "source": [
    "# Operazioni numeriche e variabili in python #\n",
    "Benvenuti alla seconda lezione di sfclub torino sull'introduzione di python e dell'applicazione di esso su Jupytero JupyterLab suo successore, partiamo dalle operazioni che sono possibile effettuare con esso e definiamo cosa sono le variabili. Iniziamo!\n",
    "\n",
    "## Operazioni numeriche ##\n",
    "Python grazie alla possibilità di essere interpretato permette di eseguire anche singole righe di codice e operazioni come somma, prodotto, divisione, differenza e molto altro.\n",
    "\n",
    "**NOTA** : il codice scritto dopo il carattere `#` non verrà interpretato poiché verrà classificato come commento e ha solo funzione esplicativa per il programmatore o colui che sta leggendo il codice per comprendere il codice"
   ]
  },
  {
   "cell_type": "code",
   "execution_count": 1,
   "metadata": {},
   "outputs": [],
   "source": [
    "# Io sono un commento e non produco nessun output"
   ]
  },
  {
   "cell_type": "code",
   "execution_count": 2,
   "metadata": {},
   "outputs": [
    {
     "data": {
      "text/plain": [
       "2"
      ]
     },
     "execution_count": 2,
     "metadata": {},
     "output_type": "execute_result"
    }
   ],
   "source": [
    "1 + 1 #somma"
   ]
  },
  {
   "cell_type": "code",
   "execution_count": 3,
   "metadata": {},
   "outputs": [
    {
     "data": {
      "text/plain": [
       "-4"
      ]
     },
     "execution_count": 3,
     "metadata": {},
     "output_type": "execute_result"
    }
   ],
   "source": [
    "1 - 5 #differenza "
   ]
  },
  {
   "cell_type": "code",
   "execution_count": 4,
   "metadata": {},
   "outputs": [
    {
     "data": {
      "text/plain": [
       "15"
      ]
     },
     "execution_count": 4,
     "metadata": {},
     "output_type": "execute_result"
    }
   ],
   "source": [
    "3 * 5 # prodotto"
   ]
  },
  {
   "cell_type": "code",
   "execution_count": 5,
   "metadata": {},
   "outputs": [
    {
     "data": {
      "text/plain": [
       "0.8333333333333334"
      ]
     },
     "execution_count": 5,
     "metadata": {},
     "output_type": "execute_result"
    }
   ],
   "source": [
    "5 / 6 #divisione"
   ]
  },
  {
   "cell_type": "code",
   "execution_count": 6,
   "metadata": {},
   "outputs": [
    {
     "data": {
      "text/plain": [
       "1"
      ]
     },
     "execution_count": 6,
     "metadata": {},
     "output_type": "execute_result"
    }
   ],
   "source": [
    "6 % 5 #questo è il modulo ovvero il resto della divisione tra due numeri"
   ]
  },
  {
   "cell_type": "code",
   "execution_count": 7,
   "metadata": {},
   "outputs": [
    {
     "data": {
      "text/plain": [
       "8"
      ]
     },
     "execution_count": 7,
     "metadata": {},
     "output_type": "execute_result"
    }
   ],
   "source": [
    "2 ** 3 #elevazione a potenza"
   ]
  },
  {
   "cell_type": "code",
   "execution_count": 8,
   "metadata": {},
   "outputs": [
    {
     "data": {
      "text/plain": [
       "3"
      ]
     },
     "execution_count": 8,
     "metadata": {},
     "output_type": "execute_result"
    }
   ],
   "source": [
    "7 // 2 # questo è il floor division ovvero la divisione tra i due numeri considerando solo il valore intero"
   ]
  },
  {
   "cell_type": "code",
   "execution_count": 9,
   "metadata": {},
   "outputs": [
    {
     "data": {
      "text/plain": [
       "10.08"
      ]
     },
     "execution_count": 9,
     "metadata": {},
     "output_type": "execute_result"
    }
   ],
   "source": [
    "3.6 * 2.8 #python accetta anche numeri non interi"
   ]
  },
  {
   "cell_type": "markdown",
   "metadata": {},
   "source": [
    "Python ovviamente supporta molte altre tipi di operazioni che sarebbe troppo lungo da elencare, qualora foste interessati è possibile consultare questo __[link](https://www.w3schools.com/python/python_operators.asp)__.\n",
    "Inoltre è possibile definire nella stessa cella o riga operazioni multiple ricordando però che ci sono precedenze come i prodotti e divisioni vengono prima delle somme e le parentesi vengono valutate precedentemente, inoltre qualore ci fossero operzioni con la stessa precedenza l'ordine è da sinistra verso destra:"
   ]
  },
  {
   "cell_type": "code",
   "execution_count": 10,
   "metadata": {},
   "outputs": [
    {
     "data": {
      "text/plain": [
       "26"
      ]
     },
     "execution_count": 10,
     "metadata": {},
     "output_type": "execute_result"
    }
   ],
   "source": [
    "1 + 5 * 5"
   ]
  },
  {
   "cell_type": "code",
   "execution_count": 11,
   "metadata": {},
   "outputs": [
    {
     "data": {
      "text/plain": [
       "60"
      ]
     },
     "execution_count": 11,
     "metadata": {},
     "output_type": "execute_result"
    }
   ],
   "source": [
    "(5 + 5) * 6"
   ]
  },
  {
   "cell_type": "code",
   "execution_count": 12,
   "metadata": {},
   "outputs": [
    {
     "data": {
      "text/plain": [
       "8.0"
      ]
     },
     "execution_count": 12,
     "metadata": {},
     "output_type": "execute_result"
    }
   ],
   "source": [
    "(6 + 6) * 4 / 6"
   ]
  },
  {
   "cell_type": "markdown",
   "metadata": {},
   "source": [
    "### Note utili ###\n",
    "\n",
    "<div class = \"alert alert-block alert-info\">   \n",
    "Ovviamente è sempre meglio scrivere un codice pulito e semplice con l'utilizzo di parentesi o altre convezioni per i seguenti motivi:\n",
    "    <ul>\n",
    "        <li> Facilità di lettura </li> \n",
    "        <li> Facilità di modifica </li>\n",
    "        <li> Riduzione della difficoltà di risoluzioni di problemi </li>\n",
    "    </ul>\n",
    "    \n",
    "Quindi cercate di scrivere il codice nella maniera quanto più chiara possibile per evitare ad altri e a voi grossi problemi nella risoluzione di problemi futuri.\n",
    "</div>"
   ]
  },
  {
   "cell_type": "markdown",
   "metadata": {},
   "source": [
    "## Variabili ##\n",
    "Le variabili in informatica sono un riferimento logico che permettono di accedere a una parte della memoria destinata alla lettura o scrittura di un dato e in molti casi vengono usate per far eseguire delle operazioni da parte del computer, in python questa operazioni è molto semplice, vediamo ora come ripetere le operazioni fatte in precedenza con le variabili.\n",
    "Definiamo quindi due variabili, per semplicità `A` e  `B`, associamole a dei valori e facciamo delle operazioni:"
   ]
  },
  {
   "cell_type": "code",
   "execution_count": 13,
   "metadata": {},
   "outputs": [],
   "source": [
    "A = 3 #la variabile A ora avrà come valore 3\n",
    "B = 5 #la variabile B ora avrà come valore 5"
   ]
  },
  {
   "cell_type": "code",
   "execution_count": 14,
   "metadata": {},
   "outputs": [
    {
     "data": {
      "text/plain": [
       "8"
      ]
     },
     "execution_count": 14,
     "metadata": {},
     "output_type": "execute_result"
    }
   ],
   "source": [
    "A + B #somma di A e B "
   ]
  },
  {
   "cell_type": "code",
   "execution_count": 15,
   "metadata": {},
   "outputs": [
    {
     "data": {
      "text/plain": [
       "-2"
      ]
     },
     "execution_count": 15,
     "metadata": {},
     "output_type": "execute_result"
    }
   ],
   "source": [
    "A - B #differeneza di A e B"
   ]
  },
  {
   "cell_type": "code",
   "execution_count": 16,
   "metadata": {},
   "outputs": [
    {
     "data": {
      "text/plain": [
       "0.6"
      ]
     },
     "execution_count": 16,
     "metadata": {},
     "output_type": "execute_result"
    }
   ],
   "source": [
    "A / B #divisione di A e B"
   ]
  },
  {
   "cell_type": "code",
   "execution_count": 17,
   "metadata": {},
   "outputs": [
    {
     "data": {
      "text/plain": [
       "15"
      ]
     },
     "execution_count": 17,
     "metadata": {},
     "output_type": "execute_result"
    }
   ],
   "source": [
    "A * B #prodotto tra A e B"
   ]
  },
  {
   "cell_type": "markdown",
   "metadata": {},
   "source": [
    "Nel caso in cui volessimo memorizzare i risultati ottenuti facendo le operazioni sulle variabile è possibile scrivere la seguente riga:"
   ]
  },
  {
   "cell_type": "code",
   "execution_count": 18,
   "metadata": {},
   "outputs": [
    {
     "name": "stdout",
     "output_type": "stream",
     "text": [
      "15\n"
     ]
    }
   ],
   "source": [
    "somma = A * B # la nuova variabile somma conterrà il valore somma delle due variabili\n",
    "print(somma)"
   ]
  },
  {
   "cell_type": "markdown",
   "metadata": {},
   "source": [
    "### Regole sulle variabili ###\n",
    "\n",
    "<div class=\"alert alert-block alert-warning\">\n",
    "Ci sono delle precise regole su come chiamare una variabile in python, esse sono:\n",
    "    <ul>\n",
    "        <li> Il nome di una variabile deve iniziare con una lettera o il carattere _ </li>\n",
    "        <li> Il nome di una variabile non può iniziare con un numero </li>\n",
    "        <li> Il nome di una variabile può solo contenere carartteri alfa-numerici(A-z, 0-9) e _ </li>\n",
    "        <li> Il nome di una variabile è case sensitive ovvero io, Io, iO, IO sono variabili diverse </li>\n",
    "    </ul>\n",
    "\n",
    "</div>\n",
    "\n",
    "<div class=\"alert alert-block alert-danger\">\n",
    "Ricordate anche di non chiamare due variabili con lo stesso nome, poiche questo potrebbe portare ad errori!\n",
    "    Inoltre alcuni nomi sono riservati a delle operazioni e quindi <b>non</b> possono essere usati come sum, add, del ecc..\n",
    "</div>\n",
    "\n",
    "<div class=\"alert alert-block alert-success\">\n",
    "E' buona norma usare nomi di variabili significativi ai valori associati o alle operazioni che verranno eseguite su di esso, questa facilita ulteriormente la comprensione della logica del codice.\n",
    "</div>\n",
    "\n",
    "### Eliminare una variabile ###\n",
    "In alcuni casi potrebbe essere necessario eliminare una variabile per vari motivi, python contiene già in sè un meccaniso automatico attraverso cui libera la memoria dalle variabili non più usate, in alcuni casi però potrebbe essere necessario non rendere la variabile non più accessibile, è in questo caso che entra in gioco il comando **del**:"
   ]
  },
  {
   "cell_type": "code",
   "execution_count": 19,
   "metadata": {},
   "outputs": [
    {
     "ename": "NameError",
     "evalue": "name 'somma' is not defined",
     "output_type": "error",
     "traceback": [
      "\u001b[1;31m---------------------------------------------------------------------------\u001b[0m",
      "\u001b[1;31mNameError\u001b[0m                                 Traceback (most recent call last)",
      "\u001b[1;32m<ipython-input-19-1ceb8c4380b2>\u001b[0m in \u001b[0;36m<module>\u001b[1;34m\u001b[0m\n\u001b[0;32m      1\u001b[0m \u001b[1;32mdel\u001b[0m \u001b[0msomma\u001b[0m\u001b[1;33m\u001b[0m\u001b[1;33m\u001b[0m\u001b[0m\n\u001b[1;32m----> 2\u001b[1;33m \u001b[0mprint\u001b[0m\u001b[1;33m(\u001b[0m\u001b[0msomma\u001b[0m\u001b[1;33m)\u001b[0m\u001b[1;33m\u001b[0m\u001b[1;33m\u001b[0m\u001b[0m\n\u001b[0m",
      "\u001b[1;31mNameError\u001b[0m: name 'somma' is not defined"
     ]
    }
   ],
   "source": [
    "del somma\n",
    "print(somma)"
   ]
  },
  {
   "cell_type": "markdown",
   "metadata": {},
   "source": [
    "Come possiamo vedere ora la variabile \"somma\" ha creato un errore che ci dice che la variabile non è più disponibile e questo significa che non possiamo piuù utilizzarla, ma attenzione la memoria allocata per \"somma\" potrebbe ancora essere occupata quindi fate molta attenzione a usare questo comando poiché **non libera la memoria**."
   ]
  },
  {
   "cell_type": "markdown",
   "metadata": {},
   "source": [
    "### Tipi di variabili ###\n",
    "Le variabili possono contenere anche valori non numerici come in questo esempio:"
   ]
  },
  {
   "cell_type": "code",
   "execution_count": 20,
   "metadata": {},
   "outputs": [],
   "source": [
    "x = \"anche io sono una variabile\""
   ]
  },
  {
   "cell_type": "markdown",
   "metadata": {},
   "source": [
    "Questa variabile contiene una stringa, ovvero una sequenza di caratteri, che python riesce a riconoscere attraverso il carattere `\"` o `'` **all'inizio e alla fine**. "
   ]
  },
  {
   "cell_type": "code",
   "execution_count": 21,
   "metadata": {},
   "outputs": [],
   "source": [
    "stringa1 = \"Questa è una stringa\"\n",
    "stringa2 = 'Anche questa è una stringa'"
   ]
  },
  {
   "cell_type": "markdown",
   "metadata": {},
   "source": [
    "Python per fare ciò associa un particolare **tipo** ad ogni variabile e questo ci fornisce informazioni su come sia il valore associato a questa variabile, per sapere di quale tipo sia la nostra variabile python permette l'uso del comando `type()`"
   ]
  },
  {
   "cell_type": "code",
   "execution_count": 22,
   "metadata": {},
   "outputs": [
    {
     "name": "stdout",
     "output_type": "stream",
     "text": [
      "Tipo della variabile x: <class 'str'>\n",
      "Tipo della variabile A: <class 'int'>\n",
      "Tipo del valore 3.5: <class 'float'>\n"
     ]
    }
   ],
   "source": [
    "print(\"Tipo della variabile x:\", type(x))\n",
    "print(\"Tipo della variabile A:\", type(A))\n",
    "print(\"Tipo del valore 3.5:\", type(3.5))"
   ]
  },
  {
   "cell_type": "markdown",
   "metadata": {},
   "source": [
    "Come possiamo vedere le variabile `x` è della classe 'str' che sta per stringa, `A` è della classe intero, mentre il valore `3.5` è della classe floating che indica i numeri con la virgola."
   ]
  },
  {
   "cell_type": "markdown",
   "metadata": {},
   "source": [
    "Esiste anche un tipo di variabili **booleane** ovvero variabili che contengono solo **vero** o **falso**:"
   ]
  },
  {
   "cell_type": "code",
   "execution_count": 23,
   "metadata": {},
   "outputs": [
    {
     "name": "stdout",
     "output_type": "stream",
     "text": [
      "Tipo di vero:  <class 'bool'>\n",
      "Tipo di falso:  <class 'bool'>\n"
     ]
    }
   ],
   "source": [
    "vero = True\n",
    "falso = False\n",
    "print('Tipo di vero: ', type(vero))\n",
    "print('Tipo di falso: ', type(falso))"
   ]
  },
  {
   "cell_type": "markdown",
   "metadata": {},
   "source": [
    "#### Operazioni sulle stringhe ####\n",
    "Sulle variabili stringa è possibile definire delle operazioni come:"
   ]
  },
  {
   "cell_type": "code",
   "execution_count": 24,
   "metadata": {},
   "outputs": [
    {
     "name": "stdout",
     "output_type": "stream",
     "text": [
      "Questa è una stringa,Anche questa è una stringa\n"
     ]
    }
   ],
   "source": [
    "print(stringa1 + ',' +stringa2) # unione delle stringhe"
   ]
  },
  {
   "cell_type": "code",
   "execution_count": 25,
   "metadata": {},
   "outputs": [
    {
     "name": "stdout",
     "output_type": "stream",
     "text": [
      "anche io sono una variabileanche io sono una variabileanche io sono una variabile\n"
     ]
    }
   ],
   "source": [
    "print(x * 3) #ripetizione della stringa 3 volte"
   ]
  },
  {
   "cell_type": "code",
   "execution_count": 26,
   "metadata": {},
   "outputs": [
    {
     "name": "stdout",
     "output_type": "stream",
     "text": [
      "['anche', 'io', 'sono', 'una', 'variabile']\n"
     ]
    }
   ],
   "source": [
    "print(x.split()) #divisione da un carattere, di default spazio"
   ]
  },
  {
   "cell_type": "markdown",
   "metadata": {},
   "source": [
    "Ovviamente ce ne sono molte altre, fate pure riferimento a questo __[link](https://docs.python.org/3.8/library/string.html)__ per ulteriori informazioni."
   ]
  },
  {
   "cell_type": "markdown",
   "metadata": {},
   "source": [
    "<div class=\"alert alert-block alert-danger\">\n",
    "Attenzione però che le alcuni operazioni con diversi tipi non sono concesse, come ad esempio:\n",
    "</div>"
   ]
  },
  {
   "cell_type": "code",
   "execution_count": 27,
   "metadata": {},
   "outputs": [
    {
     "ename": "TypeError",
     "evalue": "can only concatenate str (not \"int\") to str",
     "output_type": "error",
     "traceback": [
      "\u001b[1;31m---------------------------------------------------------------------------\u001b[0m",
      "\u001b[1;31mTypeError\u001b[0m                                 Traceback (most recent call last)",
      "\u001b[1;32m<ipython-input-27-ece236a18fcf>\u001b[0m in \u001b[0;36m<module>\u001b[1;34m\u001b[0m\n\u001b[1;32m----> 1\u001b[1;33m \u001b[0mstringa1\u001b[0m \u001b[1;33m+\u001b[0m \u001b[1;36m3\u001b[0m\u001b[1;33m\u001b[0m\u001b[1;33m\u001b[0m\u001b[0m\n\u001b[0m",
      "\u001b[1;31mTypeError\u001b[0m: can only concatenate str (not \"int\") to str"
     ]
    }
   ],
   "source": [
    "stringa1 + 3"
   ]
  },
  {
   "cell_type": "markdown",
   "metadata": {},
   "source": [
    "<div class=\"alert alert-block alert-danger\">\n",
    "Il motivo è abbastanza semplice quanto fa un carattere più un numer, questo non è facile nemmeno per noi da rispondere e questo è segnalato  \n",
    "da python con <b>TypeError</b> e un messaggio che ci dice cosa non funziona.\n",
    "</div>"
   ]
  },
  {
   "cell_type": "markdown",
   "metadata": {},
   "source": [
    "### Variabili globali e locali ###\n",
    "Le variabil, siccome sono racchiuse all'interno di blocchi di codice posoono essere di due tipi in python **globali** o **locali**,\n",
    "globali vuol dire che possono essere accessibili dappertutto all'interno del codice, mentre locali vuol dire che sono accessibili solo all'interno di un blocco, per essere più chiari facciamo un esempio:"
   ]
  },
  {
   "cell_type": "code",
   "execution_count": 28,
   "metadata": {},
   "outputs": [
    {
     "name": "stdout",
     "output_type": "stream",
     "text": [
      "variabile k dentro myfunc è:  grande\n",
      "La variabile k è:  bravo\n"
     ]
    }
   ],
   "source": [
    "k = \"bravo\" # global k\n",
    "\n",
    "#nuovo blocco\n",
    "#questa è una funzione, la vedremo in dettaglio dopo \n",
    "def myfunc():\n",
    "    #definisco la stessa variabile con un diverso valore\n",
    "    k = \"grande\" #local k\n",
    "    print(\"variabile k dentro myfunc è: \", k)\n",
    "    return None\n",
    "\n",
    "myfunc()\n",
    "print(\"La variabile k è: \", k)"
   ]
  },
  {
   "cell_type": "markdown",
   "metadata": {},
   "source": [
    "Cosa è successo? La variabile `k` nella prima riga era globale con un certo valore, ma non viene ridefinita dentro la funzione perché quella variabile non è globale, ma locale e pertanto non riscriverà la k definita prima, ma ne creerà una diversa che sarà accessibile solo dentro la funzione. \n",
    "Nel caso in cui noi volessimo rendere una variabile globale, possiamo usare la parola chiave **global**, come nel seguente modo:"
   ]
  },
  {
   "cell_type": "code",
   "execution_count": 29,
   "metadata": {},
   "outputs": [
    {
     "name": "stdout",
     "output_type": "stream",
     "text": [
      "variabile k dentro myfunc è:  grande\n",
      "La variabile k è:  grande\n"
     ]
    }
   ],
   "source": [
    "k = \"bravo\" # global k\n",
    "\n",
    "#nuovo blocco\n",
    "#questa è una funzione, la vedremo in dettaglio dopo \n",
    "def myfunc():\n",
    "    #definisco la stessa variabile con un diverso valore\n",
    "    global k #ora k è globale\n",
    "    k = \"grande\" #k viene riscritta\n",
    "    print(\"variabile k dentro myfunc è: \", k)\n",
    "    return None\n",
    "\n",
    "myfunc()\n",
    "print(\"La variabile k è: \", k)"
   ]
  },
  {
   "cell_type": "markdown",
   "metadata": {},
   "source": [
    "Un'altra possibile applicazione è la seguente:"
   ]
  },
  {
   "cell_type": "code",
   "execution_count": 30,
   "metadata": {},
   "outputs": [
    {
     "name": "stdout",
     "output_type": "stream",
     "text": [
      "La variabile k è:  grande\n"
     ]
    }
   ],
   "source": [
    "#nuovo blocco\n",
    "#questa è una funzione, la vedremo in dettaglio dopo \n",
    "def myfunc():\n",
    "    #definisco una nuova variabile\n",
    "    global k #nuova variabile k globale\n",
    "    k = \"grande\" #k viene definita\n",
    "    return None\n",
    "\n",
    "myfunc()\n",
    "print(\"La variabile k è: \", k)"
   ]
  },
  {
   "cell_type": "markdown",
   "metadata": {},
   "source": [
    "Questo nuovo modo di usare global permette di definire una nuova variabile che sarà utilizzabile anche al di fuori della funzione e questo può essere molto utile in certi contesti.\n",
    "\n",
    "***\n",
    "\n",
    "COMPLIMENTI AVETE ORA COMPRESO COMPRESO COME FARE OPERAZIONI NUMERICHE E USARE LE VARIABILI!"
   ]
  }
 ],
 "metadata": {
  "kernelspec": {
   "display_name": "Python 3",
   "language": "python",
   "name": "python3"
  },
  "language_info": {
   "codemirror_mode": {
    "name": "ipython",
    "version": 3
   },
   "file_extension": ".py",
   "mimetype": "text/x-python",
   "name": "python",
   "nbconvert_exporter": "python",
   "pygments_lexer": "ipython3",
   "version": "3.8.5"
  }
 },
 "nbformat": 4,
 "nbformat_minor": 4
}
