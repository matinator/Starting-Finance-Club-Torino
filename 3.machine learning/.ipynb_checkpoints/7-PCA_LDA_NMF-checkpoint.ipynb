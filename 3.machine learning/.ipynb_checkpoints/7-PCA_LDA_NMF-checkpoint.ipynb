{
 "cells": [
  {
   "cell_type": "markdown",
   "id": "58323ad1-b849-48ef-a736-6306216796fc",
   "metadata": {},
   "source": [
    "# Riduzione della dimensionalità\n",
    "\n",
    "Fino ad ora abbiamo visto come le feature siano importanti per poter definire un algoritmo in grado di eseguire il proprio compito imparando dai dati, ora il problema è che ci potremmo trovare in condizioni in cui sfortunatamente abbiamo troppe feature e troppi pochi dati(troppe colonne e troppe poche righe) o che ci dicano che vogliono un njumero massimo di feature da usare per predire il nostro algoritmo in tal caso possiamo utilizzare **algoritmi che ci aiutino a ridurre le dimensioni del nostro dataset considerando solo quelle rilevanti anche senza sapere il modello che useremo, inoltre i dataset possono essere utilizzati in diversi contesti come tesi, immagini e molto altro**.\n",
    "\n",
    "## decomposizione ai valori singolari (SVD)\n",
    "\n",
    "La __[decomposizione ai valori singolari](https://it.wikipedia.org/wiki/Decomposizione_ai_valori_singolari)__ si basa su nozioni geometriche al fine di fattorizzare la matrice di partenza in matrici più semplici e che mi fornisca informazioni sulle proprietà di ogni componente che stiamo considerando.Dal punto di vista matematico si ha:\n",
    "\n",
    "\\begin{equation}\n",
    "    \\Large M_{n \\times m} = U_{n \\times n} D_{n \\times m} V^{\\dagger}_{m \\times m}\n",
    "\\end{equation}\n",
    "\n",
    "dove $ M_{n \\times m}$ è la nostra matrice di partenza con n righe e m colonne, $U_{n \\times n}$ è una matrice unitaria ortogonale, $D_{n \\times m}$ è una matrice singolare diagonale $n\\times m$, e $V^{\\dagger}_{m \\times m}$ è la trasposta coniugata di una matrice unitaria ortogonale.<br>\n",
    "Dal punto di vista pratico quello che ci interessa è la matrice $D$ poiché i suoi valori sulla diagonali rappresentano la varianza di ogni singola componente, a cosa ci serve questo? Per capirlo facciamo un esempio"
   ]
  },
  {
   "cell_type": "code",
   "execution_count": 1,
   "id": "10fa3f39-4571-4a34-b3b7-7204d0a7d9fc",
   "metadata": {},
   "outputs": [
    {
     "name": "stdout",
     "output_type": "stream",
     "text": [
      "Matrix U:\n",
      " [[-0.22097491 -0.91114121  0.34783874]\n",
      " [-0.60034273  0.4081545   0.68774887]\n",
      " [-0.76860828 -0.05684721 -0.63718891]]\n",
      " Matrix D :\n",
      " [[32.61541883  0.          0.        ]\n",
      " [ 0.          3.45287401  0.        ]\n",
      " [ 0.          0.          1.14547607]]\n",
      " Matrix V :\n",
      " [[-0.1091269  -0.27246326 -0.95595768]\n",
      " [ 0.05781499 -0.96181284  0.26753223]\n",
      " [ 0.99234507  0.02607372 -0.12071212]]\n"
     ]
    }
   ],
   "source": [
    "import numpy as np\n",
    "\n",
    "#la nostra matrice di partenza\n",
    "M = np.matrix([[1, 5, 6 ], [3, 4, 19], [2,7,24]])\n",
    "\n",
    "U, D, V = np.linalg.svd(M)\n",
    "\n",
    "#Trasformo solo D poiché essendo diagonale numpy per risparmiare memoria\n",
    "#vi ritorna un array 1D poiché per le operazioni hanno lo stesso comportamento\n",
    "print(f'Matrix U:\\n {U}\\n Matrix D :\\n {np.diag(D)}\\n Matrix V :\\n {V}')"
   ]
  },
  {
   "cell_type": "markdown",
   "id": "061e6546-252a-4d0f-9f7d-4c7a97626393",
   "metadata": {},
   "source": [
    "Ora mettiamo ipotesi che i voglia considerare solo le due componenti più importanti per ricostruire il dataset, per farlo vediamo se togliendo un valore alla diagonale che succede, ricordate noi vogliamo che $M \\approx UDV^{\\dagger}$, per fare in modo che non ci siano problemi di dimensionalità nel prodotto scalare successivo alla matrice $U$ si toglie la relativa colonna, mentre alla matrice $V^{\\dagger}$ si toglie la riga relativa ad essa."
   ]
  },
  {
   "cell_type": "code",
   "execution_count": 2,
   "id": "4f891a14-1b4c-4f51-81df-43c9bc7b1422",
   "metadata": {},
   "outputs": [
    {
     "name": "stdout",
     "output_type": "stream",
     "text": [
      "original matrix obtained with all features:\n",
      " [[ 1.  5.  6.]\n",
      " [ 3.  4. 19.]\n",
      " [ 2.  7. 24.]]\n",
      "matrix obtained eliminating the first element in diagonal 32.6154188335189:\n",
      "[[ 0.36635519  0.47395901  3.114092  ]\n",
      " [-0.10824657 -1.14170015 -1.13647509]\n",
      " [-0.02077816  0.75549322 -0.00762631]]\n",
      "matrix obtained eliminating the second element in diagonal 3.4528740055280096:\n",
      "[[ 1.18188917  1.97408316  6.84167133]\n",
      " [ 2.91852099  5.35548866 18.6229652 ]\n",
      " [ 2.01134829  6.81120935 24.0525129 ]]\n",
      "matrix obtained eliminating the second element in diagonal 1.1454760652624991:\n",
      "[[ 0.60460909  4.98961116  6.04809665]\n",
      " [ 2.21823068  3.97945913 19.09509699]\n",
      " [ 2.72429743  7.0190308  23.91189408]]\n"
     ]
    }
   ],
   "source": [
    "#eliminate the first value of D, U and V lose the column\n",
    "#@ means dot product in numpy\n",
    "\n",
    "#original calculus gives me the original M\n",
    "print(f'original matrix obtained with all features:\\n {U @ np.diag(D) @ V}')\n",
    "\n",
    "#i remove the first colmn of U and last row of V\n",
    "print(f'matrix obtained eliminating the first element in diagonal {D[0]}:\\n'\n",
    "      f'{U[: ,1:] @ np.diag(D[1:]) @ V[:2, :]}')\n",
    "\n",
    "#i remove the middle column of U and middle row of V\n",
    "print(f'matrix obtained eliminating the second element in diagonal {D[1]}:\\n'\n",
    "      f'{U[: ,[0,2]] @ np.diag(D[[0,2]]) @ V[[0,2], :]}')\n",
    "\n",
    "##i remove the last column of U and first row of V\n",
    "print(f'matrix obtained eliminating the second element in diagonal {D[2]}:\\n'\n",
    "      f'{U[: ,[0,1]] @ np.diag(D[:2]) @ V[[0,1], :]}')"
   ]
  },
  {
   "cell_type": "markdown",
   "id": "9d8fd550-33c1-4db6-b7f6-3f2b3678f832",
   "metadata": {},
   "source": [
    "Da come possiamo vedere che se noi togliamo il valore  più piccolo dalla matrice diagonale, la nuova matrice ricostruita sarà molto vicina alla matrice ottenuta, in tal caso la decomposizione viene chiamata __[TruncatedSVD](https://langvillea.people.cofc.edu/DISSECTION-LAB/Emmie%27sLSI-SVDModule/p5module.html)__.<br>\n",
    "Da qui possiamo capire che qualora volessimo le componenti sono più rilevanti è sufficiente selezionare i valori delle diagonali più alti fino ad averne il numero desiderato.<br>\n",
    "\n",
    "## PCA\n",
    "\n",
    "La PCA (Principal Component Analysis) sfrutta prorio questo algoritmo di SVD permettendo di mappare il nostro problema proiettandolo su uno spazio più piccolo con la condizione di conserva quanto più possibile la norma dei nostri vettori sfruttando proprio la varianza di ogni singola feature associata ottenuta attraverso la matrice diagonale attenzione che ora le nostre nuove feature sono chiamate **principal component**, se avete dubbi consultate __[qui](https://medium.com/analytics-vidhya/what-is-principal-component-analysis-cf880cf95a0c)__.<br>\n",
    "Poiché __[scikit](https://scikit-learn.org/stable/modules/generated/sklearn.decomposition.PCA.html)__ ha già implementato la sua funzione useremo quella."
   ]
  },
  {
   "cell_type": "code",
   "execution_count": 3,
   "id": "413e659d-498a-40a4-b28e-993cceefacf6",
   "metadata": {},
   "outputs": [
    {
     "name": "stdout",
     "output_type": "stream",
     "text": [
      "Original data: 768 dati, 8 feature\n",
      "Reduced data: 768 dati, 5 feature\n",
      "Reduced data PCA output: \n",
      " [[-75.71465491 -35.95078264  -7.26078895  15.66926931  16.50654126]\n",
      " [-82.3582676   28.90821322  -5.49667139   9.00455376   3.481527  ]\n",
      " [-74.63064344 -67.90649647  19.46180812  -5.65305642 -10.30011346]\n",
      " ...\n",
      " [ 32.11319827   3.3766648   -1.58786446  -0.87844546  -2.97928772]\n",
      " [-80.21449431 -14.18601977  12.3512639  -14.29425948   8.53295029]\n",
      " [-81.30814972  21.62149606  -8.15276833  13.82170554  -4.91320746]]\n",
      "PCA : \n",
      "- components: \n",
      "[[-2.02176587e-03  9.78115765e-02  1.60930503e-02  6.07566861e-02\n",
      "   9.93110844e-01  1.40108085e-02  5.37167919e-04 -3.56474430e-03]\n",
      " [-2.26488861e-02 -9.72210040e-01 -1.41909330e-01  5.78614699e-02\n",
      "   9.46266913e-02 -4.69729766e-02 -8.16804621e-04 -1.40168181e-01]\n",
      " [-2.24649003e-02  1.43428710e-01 -9.22467192e-01 -3.07013055e-01\n",
      "   2.09773019e-02 -1.32444542e-01 -6.39983017e-04 -1.25454310e-01]\n",
      " [-4.90459604e-02  1.19830016e-01 -2.62742788e-01  8.84369380e-01\n",
      "  -6.55503615e-02  1.92801728e-01  2.69908637e-03 -3.01024330e-01]\n",
      " [ 1.51612874e-01 -8.79407680e-02 -2.32165009e-01  2.59973487e-01\n",
      "  -1.72312241e-04  2.14744823e-02  1.64080684e-03  9.20504903e-01]] \n",
      "- explained variance: \n",
      " [13456.57298102   932.76013231   390.57783115   198.18269105\n",
      "   112.68911496] \n",
      "- explained variance ratio: \n",
      " [0.88854663 0.06159078 0.02579012 0.01308614 0.00744094] \n",
      "- singular values: \n",
      " [3212.6611207   845.82919167  547.33280231  389.87962763  293.9941346 ]\n",
      "- noise variance values:  17.89767435801635\n",
      "--------------------------------------------------------------------------------\n",
      "The  reduced data ha been divided to train and test in 80% traing, 20% testing\n",
      "Allenaimo un Gradient Boosting Classifier sui dati ridotti:\n",
      "Time taken to train Gradient Boosting Classifier on reduced data: 0.13204050064086914s \n"
     ]
    },
    {
     "data": {
      "image/png": "[encoded data removed]",
      "text/plain": [
       "<Figure size 432x288 with 2 Axes>"
      ]
     },
     "metadata": {
      "needs_background": "light"
     },
     "output_type": "display_data"
    },
    {
     "name": "stdout",
     "output_type": "stream",
     "text": [
      "              precision    recall  f1-score   support\n",
      "\n",
      "Not Diabetes       0.87      0.79      0.83       107\n",
      "    Diabetes       0.61      0.72      0.66        47\n",
      "\n",
      "    accuracy                           0.77       154\n",
      "   macro avg       0.74      0.76      0.74       154\n",
      "weighted avg       0.79      0.77      0.78       154\n",
      "\n"
     ]
    }
   ],
   "source": [
    "import time\n",
    "import pandas as pd\n",
    "import matplotlib.pyplot as plt\n",
    "from sklearn.decomposition import PCA\n",
    "from sklearn.ensemble import GradientBoostingClassifier\n",
    "from sklearn.model_selection import train_test_split\n",
    "from sklearn.metrics import plot_confusion_matrix, classification_report\n",
    "\n",
    "\n",
    "#classification data\n",
    "diabetes = pd.read_csv('../data/diabetes2.csv')\n",
    "X_diabetes, y_diabetes = diabetes.drop('Outcome', axis = 1).values, diabetes.Outcome.values\n",
    "target_names = [\"Not Diabetes\", \"Diabetes\"]\n",
    "print(f'Original data: {X_diabetes.shape[0]} dati, {X_diabetes.shape[1]} feature')\n",
    "\n",
    "#let's find the 5 most valuable feature\n",
    "diabetes_pca = PCA(n_components=5)\n",
    "\n",
    "#fit the data\n",
    "diabetes_pca.fit(X_diabetes)\n",
    "\n",
    "#trasform the data\n",
    "X_pca = diabetes_pca.transform(X_diabetes)\n",
    "print(f'Reduced data: {X_pca.shape[0]} dati, {X_pca.shape[1]} feature')\n",
    "\n",
    "print(f'Reduced data PCA output: \\n {X_pca}')\n",
    "\n",
    "print(\"PCA : \")\n",
    "print(f'- components: \\n{diabetes_pca.components_} \\n'\n",
    "      f'- explained variance: \\n {diabetes_pca.explained_variance_} \\n'\n",
    "      f'- explained variance ratio: \\n {diabetes_pca.explained_variance_ratio_} \\n'\n",
    "      f'- singular values: \\n {diabetes_pca.singular_values_}\\n'\n",
    "      f'- noise variance values:  {diabetes_pca.noise_variance_}' )\n",
    "\n",
    "print('-'*80)\n",
    "#prepare the data, \n",
    "print(\"The  reduced data ha been divided to train and test in 80% traing, 20% testing\")\n",
    "X_pca_train, X_pca_test, y_diabetes_train, y_diabetes_test = train_test_split(\n",
    "    X_pca, y_diabetes, random_state=0, test_size = 0.2)\n",
    "\n",
    "\n",
    "print('Allenaimo un Gradient Boosting Classifier sui dati ridotti:')\n",
    "tree = GradientBoostingClassifier()\n",
    "\n",
    "start = time.time()\n",
    "tree.fit(X_pca_train, y_diabetes_train)\n",
    "end = time.time()\n",
    "\n",
    "print(f\"Time taken to train Gradient Boosting Classifier on reduced data: {end - start}s \")\n",
    "\n",
    "plot_confusion_matrix(tree, X_pca_test, y_diabetes_test, display_labels=target_names)  \n",
    "plt.title(\"Confusion matrix of classification\")\n",
    "plt.show()\n",
    "\n",
    "print(classification_report(y_diabetes_test, tree.predict(X_pca_test), target_names= target_names))"
   ]
  },
  {
   "cell_type": "markdown",
   "id": "1eb74ca2-45f2-4ae9-b0a9-b5b55cf83f9c",
   "metadata": {},
   "source": [
    "# Non-negative matrix factorization (NMF o NNMF)\n",
    "\n",
    "La PCA presenta un modo di ridurre la dimensionalità del dataset, ma è presente un problema: la possibilità che la ricostruzione della matrice dia dei valori negativi ed in genere i valori negativi sono difficili da interptretare ed analizzare, per questo l'obiettivo della __[NMF](https://scikit-learn.org/stable/modules/decomposition.html#non-negative-matrix-factorization-nmf-or-nnmf)__ è quello di fattorizzare la matrice imponendo che gli autovalori e i vettori delle matrici fattorizzati siano tutti positivi, poiché questo implica avere un maggiorn numero possibile di modi di fattorizzare, in genere la condizione che si pone è che la distanza matriciale tra la decomposizione e l'originale sia quanto **più vicina secondo la distanza di Frobenius definita anche come** __[norma matriciale](https://it.wikipedia.org/wiki/Norma_matriciale)__, **si introducono inoltre termini di regoralizzazione o si usano altre metriche per assicurare un risultato flessibile e quanto meno divergente, per saperne di più guardate** __[qui](https://scikit-learn.org/stable/modules/decomposition.html#nmf-with-a-beta-divergence)__.\n",
    "Usiamo ora il modello sul diabetes dataset."
   ]
  },
  {
   "cell_type": "code",
   "execution_count": 4,
   "id": "82605558-d43c-4fb6-b5ac-e6d674d14368",
   "metadata": {},
   "outputs": [
    {
     "name": "stdout",
     "output_type": "stream",
     "text": [
      "Reduced data: 768 dati, 5 feature\n",
      "NMF : \n",
      "- components: \n",
      "[[0.00000000e+00 2.89783767e+01 1.00748387e+01 6.12720434e+00\n",
      "  9.89592151e+01 5.69477201e+00 1.15058687e-01 0.00000000e+00]\n",
      " [2.58522324e-01 0.00000000e+00 3.40639250e+01 4.85447841e+01\n",
      "  0.00000000e+00 2.00676912e+01 2.41128942e-01 6.59052809e+00]\n",
      " [1.46708602e+00 7.74790821e+01 0.00000000e+00 6.08299232e-01\n",
      "  0.00000000e+00 9.96926946e+00 1.80613448e-01 1.23522457e+01]\n",
      " [1.64804461e+00 1.64152347e+01 9.09151052e+00 0.00000000e+00\n",
      "  1.43213003e+02 1.28305101e+00 6.90075777e-02 1.06020940e+01]\n",
      " [2.46282693e+00 5.62773176e+01 4.57265607e+01 0.00000000e+00\n",
      "  0.00000000e+00 1.44679168e+01 1.89713143e-01 1.99219926e+01]] \n",
      "- reguralization: both \n",
      "- reconstruction error:  359.33201809247294\n",
      "- iterations:  35\n",
      "--------------------------------------------------------------------------------\n",
      "The  reduced data ha been divided to train and test in 80% traing, 20% testing\n",
      "Allenaimo un Gradient Boosting Classifier sui dati ridotti:\n",
      "Time taken to train Gradient Boosting Classifier on reduced data: 0.12500262260437012s \n"
     ]
    },
    {
     "data": {
      "image/png": "[encoded data removed]",
      "text/plain": [
       "<Figure size 432x288 with 2 Axes>"
      ]
     },
     "metadata": {
      "needs_background": "light"
     },
     "output_type": "display_data"
    },
    {
     "name": "stdout",
     "output_type": "stream",
     "text": [
      "              precision    recall  f1-score   support\n",
      "\n",
      "Not Diabetes       0.82      0.88      0.85       107\n",
      "    Diabetes       0.68      0.57      0.62        47\n",
      "\n",
      "    accuracy                           0.79       154\n",
      "   macro avg       0.75      0.73      0.74       154\n",
      "weighted avg       0.78      0.79      0.78       154\n",
      "\n"
     ]
    }
   ],
   "source": [
    "from sklearn.decomposition import NMF\n",
    "\n",
    "nmf = NMF(n_components=5, verbose = 0, max_iter=500, init= 'nndsvda' )\n",
    "nmf.fit(X_diabetes)\n",
    "\n",
    "#trasform the data\n",
    "X_NMF = nmf.transform(X_diabetes)\n",
    "\n",
    "print(f'Reduced data: {X_NMF.shape[0]} dati, {X_NMF.shape[1]} feature')\n",
    "\n",
    "print(\"NMF : \")\n",
    "print(f'- components: \\n{nmf.components_} \\n'\n",
    "      f'- reguralization: {nmf.regularization} \\n'\n",
    "      f'- reconstruction error:  {nmf.reconstruction_err_}\\n'\n",
    "      f'- iterations:  {nmf.n_iter_}')\n",
    "\n",
    "print('-'*80)\n",
    "#prepare the data, \n",
    "print(\"The  reduced data ha been divided to train and test in 80% traing, 20% testing\")\n",
    "X_NMF_train, X_NMF_test, y_diabetes_train, y_diabetes_test = train_test_split(\n",
    "    X_NMF, y_diabetes, random_state=0, test_size = 0.2)\n",
    "\n",
    "\n",
    "print('Allenaimo un Gradient Boosting Classifier sui dati ridotti:')\n",
    "tree = GradientBoostingClassifier()\n",
    "\n",
    "start = time.time()\n",
    "tree.fit(X_NMF_train, y_diabetes_train)\n",
    "end = time.time()\n",
    "\n",
    "print(f\"Time taken to train Gradient Boosting Classifier on reduced data: {end - start}s \")\n",
    "\n",
    "plot_confusion_matrix(tree, X_NMF_test, y_diabetes_test, display_labels=target_names)  \n",
    "plt.title(\"Confusion matrix of classification\")\n",
    "plt.show()\n",
    "\n",
    "print(classification_report(y_diabetes_test, tree.predict(X_NMF_test), target_names= target_names))"
   ]
  },
  {
   "cell_type": "markdown",
   "id": "d1607dd7-4be7-4e60-b6d1-b44f411b98fa",
   "metadata": {},
   "source": [
    "## Latent Dirichlet Annotation(LDA)\n",
    "\n",
    "L' __[LDA](https://scikit-learn.org/stable/modules/decomposition.html#latent-dirichlet-allocation-lda)__ è un algoritmo di riduzione dimensionale che è __[generativo](https://ichi.pro/it/modelli-grafici-probabilistici-generativi-vs-discriminativi-40857457895478)__, la differenza da quelli discriminativi è che in questo caso noi cerchiamo di determinare una distribuzione di probabilità attraverso cui possiamo determinare quale sia la probabilità associata a quell'evento. Tradotto in matematica i modelli discriminativi determinano $P(Y|X)$, mentre quelli generativi $P(Y,X)$, questo permette in futuro anche di generare anche valori con una certa probabilità associata e in genere non sono limitati alla mera classificazione, per dettagli guardate qui un __[video sulle GAN](https://www.youtube.com/watch?v=8L11aMN5KY8)__, che sono modelli generativi.<br>\n",
    "***Attenti però che questi modelli sono meno precisi poichè assumono che idati siano i.i.d. condizione che nei discriminativi può anche non essere vera!.***<br>\n",
    "Tornando alla LDA quello che succede è che questo algoritmo cervca di capire dai dati quale sia la struttura sottostante leggendone solo una parte, facendo ciò quello che succede è che divide per categorie la struttura e in base a ciò considera solo le categorie più rilevanti al fine di poterne ricreare la struttura completa, **questo algoritmo permette l'apprendimento \"online\" ovvero ogni singolo nuovo dato può essere usato per allenare il modello e adattarlo in maniera istantanea ai possibili cambiamenti, se invece volete riallenare il modello solo quanto un certo numero di dati è raggiunto potete usare \"batch\"**."
   ]
  },
  {
   "cell_type": "code",
   "execution_count": 5,
   "id": "0618cce2-58ee-4482-9435-b54f5715b2bc",
   "metadata": {},
   "outputs": [
    {
     "name": "stdout",
     "output_type": "stream",
     "text": [
      "Reduced data: 768 dati, 5 feature\n",
      "LDA : \n",
      "- components: \n",
      "[[3.61650039e+02 6.85609329e+03 1.90364787e+03 1.22726696e+03\n",
      "  2.96267344e+04 1.04713823e+03 2.14561020e+01 2.31121408e+03]\n",
      " [2.18948455e+03 6.62673522e+04 3.17920493e+04 1.36697517e+02\n",
      "  8.42039260e-01 1.43081114e+04 2.09803183e+02 1.79600532e+04]\n",
      " [1.98412787e+01 9.96022154e+03 4.11571311e+03 4.42803762e+03\n",
      "  1.01348245e+04 2.97889166e+03 4.76442014e+01 1.43148896e+03]\n",
      " [3.74608540e+02 4.44520365e+02 9.02600587e+03 8.61934511e+03\n",
      "  6.58300495e-01 3.89423518e+03 4.03455546e+01 3.03597895e+03]\n",
      " [8.41558911e+00 9.31981258e+03 6.23658383e+03 1.36165279e+03\n",
      "  2.15239407e+04 2.34292350e+03 4.41519586e+01 7.91264788e+02]] \n",
      "- bound_: 4.613606937572235 \n",
      "- exp dirichlet components:\n",
      "  [[8.33012675e-03 1.58128026e-01 4.38971518e-02 2.82960548e-02\n",
      "  6.83345376e-01 2.41412867e-02 4.83409852e-04 5.32978902e-02]\n",
      " [1.64753908e-02 4.98757416e-01 2.39279073e-01 1.02509282e-03\n",
      "  3.14670564e-06 1.07686227e-01 1.57532176e-03 1.35172565e-01]\n",
      " [5.84108496e-04 3.00751074e-01 1.24266001e-01 1.33697181e-01\n",
      "  3.06023514e-01 8.99377044e-02 1.42362765e-03 4.32111955e-02]\n",
      " [1.47083051e-02 1.74569296e-02 3.54843156e-01 3.38855045e-01\n",
      "  1.02522015e-05 1.53084525e-01 1.56659289e-03 1.19341669e-01]\n",
      " [1.90275617e-04 2.23869933e-01 1.49804147e-01 3.26978184e-02\n",
      "  5.17039340e-01 5.62700511e-02 1.04863687e-03 1.89958723e-02]]\n",
      "- iterations:  10\n",
      "--------------------------------------------------------------------------------\n",
      "The  reduced data ha been divided to train and test in 80% traing, 20% testing\n",
      "Allenaimo un Gradient Boosting Classifier sui dati ridotti:\n",
      "Time taken to train Gradient Boosting Classifier on reduced data: 0.1150045394897461s \n"
     ]
    },
    {
     "data": {
      "image/png": "[encoded data removed]",
      "text/plain": [
       "<Figure size 432x288 with 2 Axes>"
      ]
     },
     "metadata": {
      "needs_background": "light"
     },
     "output_type": "display_data"
    },
    {
     "name": "stdout",
     "output_type": "stream",
     "text": [
      "              precision    recall  f1-score   support\n",
      "\n",
      "Not Diabetes       0.76      0.87      0.81       107\n",
      "    Diabetes       0.55      0.36      0.44        47\n",
      "\n",
      "    accuracy                           0.71       154\n",
      "   macro avg       0.65      0.62      0.62       154\n",
      "weighted avg       0.69      0.71      0.69       154\n",
      "\n"
     ]
    }
   ],
   "source": [
    "from sklearn.decomposition import LatentDirichletAllocation\n",
    "\n",
    "lda = LatentDirichletAllocation(n_components=5, n_jobs=-1)\n",
    "lda.fit(X_diabetes)\n",
    "\n",
    "#trasform the data\n",
    "X_lda = lda.transform(X_diabetes)\n",
    "\n",
    "print(f'Reduced data: {X_lda.shape[0]} dati, {X_lda.shape[1]} feature')\n",
    "\n",
    "print(\"LDA : \")\n",
    "print(f'- components: \\n{lda.components_} \\n'\n",
    "      f'- bound_: {lda.bound_} \\n'\n",
    "      f'- exp dirichlet components:\\n  {lda.exp_dirichlet_component_}\\n'\n",
    "      f'- iterations:  {lda.n_iter_}')\n",
    "\n",
    "print('-'*80)\n",
    "#prepare the data, \n",
    "print(\"The  reduced data ha been divided to train and test in 80% traing, 20% testing\")\n",
    "X_lda_train, X_lda_test, y_diabetes_train, y_diabetes_test = train_test_split(\n",
    "    X_lda, y_diabetes, random_state=0, test_size = 0.2)\n",
    "\n",
    "\n",
    "print('Allenaimo un Gradient Boosting Classifier sui dati ridotti:')\n",
    "tree = GradientBoostingClassifier()\n",
    "\n",
    "start = time.time()\n",
    "tree.fit(X_lda_train, y_diabetes_train)\n",
    "end = time.time()\n",
    "\n",
    "print(f\"Time taken to train Gradient Boosting Classifier on reduced data: {end - start}s \")\n",
    "\n",
    "plot_confusion_matrix(tree, X_lda_test, y_diabetes_test, display_labels=target_names)  \n",
    "plt.title(\"Confusion matrix of classification\")\n",
    "plt.show()\n",
    "\n",
    "print(classification_report(y_diabetes_test, tree.predict(X_lda_test), target_names= target_names))"
   ]
  },
  {
   "cell_type": "markdown",
   "id": "05d43ad1-e96f-4f6f-98c4-80b56e0c2a55",
   "metadata": {},
   "source": [
    "In questo notebook abbiamo quindi visto come possiamo utilizzare alcune tecniche per ridurre la dimensione del nostro dataset con lacondizione di riuscire a usare modelli che riescano a preformare quanto meglio possibile, sono presenti molte altre tecniche, per saprenedi più consultate la __[guida di scikit sulla dimensionality reduction](https://scikit-learn.org/stable/modules/decomposition.html#decompositions)__.\n",
    "\n",
    "***\n",
    "\n",
    "COMPLIMENTI AVETE FINITO LA LEZIONE SU PCA LDA E NMF, A PRESTO!"
   ]
  }
 ],
 "metadata": {
  "kernelspec": {
   "display_name": "Python 3",
   "language": "python",
   "name": "python3"
  },
  "language_info": {
   "codemirror_mode": {
    "name": "ipython",
    "version": 3
   },
   "file_extension": ".py",
   "mimetype": "text/x-python",
   "name": "python",
   "nbconvert_exporter": "python",
   "pygments_lexer": "ipython3",
   "version": "3.8.8"
  }
 },
 "nbformat": 4,
 "nbformat_minor": 5
}
