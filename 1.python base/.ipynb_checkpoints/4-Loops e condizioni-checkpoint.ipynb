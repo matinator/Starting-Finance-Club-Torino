{
 "cells": [
  {
   "cell_type": "markdown",
   "metadata": {},
   "source": [
    "# Loops e condizioni #\n",
    "Nel corso del nostro programma potrebbe essere richiesto di porre delle condizioni a certe variabili o istruzioni o istruzioni che dovranno essere ripetuti e quindi necessitano di loops, python fornisce i seguenti strumenti a tal caso:\n",
    "- Condizioni\n",
    "    - if\n",
    "    - elif\n",
    "    - else\n",
    "- Loops\n",
    "    - while\n",
    "    - for\n",
    "    - list comprehesion"
   ]
  },
  {
   "cell_type": "markdown",
   "metadata": {},
   "source": [
    "## Condizioni ##\n",
    "Le istruzioni **if, else, elif** servono per eseguire blocchi di codici qualora delle specifiche condizioni fossero incontrare.\n",
    "### if ###"
   ]
  },
  {
   "cell_type": "code",
   "execution_count": 1,
   "metadata": {},
   "outputs": [
    {
     "name": "stdout",
     "output_type": "stream",
     "text": [
      "5 è positivo\n"
     ]
    }
   ],
   "source": [
    "#definiamo una variabile x\n",
    "x = 5\n",
    "#creiamo delle condizioni da applicare\n",
    "if x > 0:\n",
    "    #il blocco di if deve essere indentato\n",
    "    #tutto il codice indentato verrà interpretato\n",
    "    print(x,'è positivo')"
   ]
  },
  {
   "cell_type": "markdown",
   "metadata": {},
   "source": [
    "Vediamo di capire come viene interpretato il codice, il comando `if` viene seguito da una condizione che verrà valutata e convertita in **booleano**(vero o falso) qualora la condizione sia vera, verrà eseguito il blocco di codice contenuto indentato."
   ]
  },
  {
   "cell_type": "code",
   "execution_count": 2,
   "metadata": {},
   "outputs": [
    {
     "data": {
      "text/plain": [
       "True"
      ]
     },
     "execution_count": 2,
     "metadata": {},
     "output_type": "execute_result"
    }
   ],
   "source": [
    "#la condizione viene convertita in booleano\n",
    "x > 0"
   ]
  },
  {
   "cell_type": "markdown",
   "metadata": {},
   "source": [
    "### else, elif ###\n",
    "Ora qualora noi vorremmo valutare ulteriori condizioni è possibile usare `else` o `elif`(else if), `elif` viene usato per aggiungere ulteriori condizioni ulteriori a `if` e viene valutata subito dopo di essa, `else` invece viene valutata qualora le condizioni precedenti siano risultati false."
   ]
  },
  {
   "cell_type": "code",
   "execution_count": 3,
   "metadata": {},
   "outputs": [
    {
     "name": "stdout",
     "output_type": "stream",
     "text": [
      "5 è positivo\n",
      "0 è nullo\n"
     ]
    }
   ],
   "source": [
    "if x < 0:\n",
    "    #if viene valtutato per primo\n",
    "    print(x,'è negativo')\n",
    "elif x > 0:\n",
    "    #il secondo che viene valutato è if else\n",
    "    print(x,'è positivo')\n",
    "else:\n",
    "    #else viene valutato per ultimo\n",
    "    print(x,'è nullo')\n",
    "\n",
    "x = 0\n",
    "if x < 0: #falso\n",
    "    print(x,'è negativo')\n",
    "elif x > 0: #falso\n",
    "    print(x,'è positivo')\n",
    "else: #vero, poichè le altre condizioni sono false\n",
    "    print(x,'è nullo')"
   ]
  },
  {
   "cell_type": "markdown",
   "metadata": {},
   "source": [
    "<div class=\"alert alert-block alert-warning\">\n",
    "    Le condizioni <b>else</b> e <b>elif</b> non sono obbligatorie, ma è buona norma usarle per capire in quali contesto ci troviamo.\n",
    "</div>\n",
    "Infatti qualora noi non usassimo else e le condizioni precedenti fossero false ecco quello che succederebbe:"
   ]
  },
  {
   "cell_type": "code",
   "execution_count": 4,
   "metadata": {},
   "outputs": [],
   "source": [
    "if x < 0: #falso\n",
    "    print(x,'è negativo')\n",
    "elif x > 0: #falso\n",
    "    print(x,'è positivo')"
   ]
  },
  {
   "cell_type": "markdown",
   "metadata": {},
   "source": [
    "Non è presente alcun risultato ed il motivo è semplice, le condizioni precedenti sono false e pertanto non viene eseguito il blocco di codice contenuto al loro interno."
   ]
  },
  {
   "cell_type": "markdown",
   "metadata": {},
   "source": [
    "### Abbreviazione di un semplice if else ###\n",
    "In molti casi dovremmo utilizzare una semplice condizione if seguita solo da un else, in tal caso è possibile usare un **operatore ternario** che permette di definire la condizione precedente in una singola riga, vediamolo:"
   ]
  },
  {
   "cell_type": "code",
   "execution_count": 5,
   "metadata": {},
   "outputs": [
    {
     "name": "stdout",
     "output_type": "stream",
     "text": [
      "positivo\n",
      "negativo o nullo\n"
     ]
    }
   ],
   "source": [
    "x = 1\n",
    "#la forma della condizione è la seguente\n",
    "#in questo caso la condizione è vera poiché x > 0\n",
    "print('positivo') if (x > 0) else print('negativo o nullo')\n",
    "#cambiando il valore di x e facendo diventare la condizione falsa\n",
    "x = -1 \n",
    "print('positivo') if (x > 0) else print('negativo o nullo')"
   ]
  },
  {
   "cell_type": "markdown",
   "metadata": {},
   "source": [
    "Analizziamo come è composta la condizione precedente:\n",
    "`condizione è vera if condizione else condizione è falsa`\n",
    "quindi se la condizione sarà vera verrà eseguito il codice prima di `if` altrimenti verrà eseguito il codice dopo `else`, la condizione è posta tra di essi."
   ]
  },
  {
   "cell_type": "markdown",
   "metadata": {},
   "source": [
    "### Condizioni multiple ###\n",
    "In python è possibile valutare condizione multiple con queste istruzioni utilizzando gli **operatori bitwise** `and`, `or`, `xor`, ce ne sono altri come `compliment`,`left shift` e `right shift`, ma non li tratteremo poiché non le useremo se siete comunque curiosi potete consultare questo __[link](https://www.pyblog.in/programming/bitwise-operators-in-python/)__.\n",
    "\n",
    "#### and ####\n",
    "\n",
    "L'operatore bitwise `and` o `&` è il classico **operatore logico AND** tale per cui il risultato è vero solo se entrambe le condizioni sono vere, questa tabella mostra la logica:"
   ]
  },
  {
   "cell_type": "markdown",
   "metadata": {},
   "source": [
    "| Condizione1 | Condizione2 | Risultato |\n",
    "| :---: | :---: | :---: |\n",
    "| True  | True  | True  | \n",
    "| True  | False | False |\n",
    "| False | True  | False |\n",
    "| False | False | False |"
   ]
  },
  {
   "cell_type": "code",
   "execution_count": 6,
   "metadata": {},
   "outputs": [
    {
     "name": "stdout",
     "output_type": "stream",
     "text": [
      "10 è compreso tra 0 e 20\n",
      "& e and hanno lo stesso comportamento\n"
     ]
    }
   ],
   "source": [
    "#proviamo ad applicare questo ad un if\n",
    "#stesso modo è possibile applicarlo ad elif\n",
    "x = 10\n",
    "if (x > 0) and (x < 20): #entrembi vere\n",
    "    print(x,'è compreso tra 0 e 20')\n",
    "#sempre and, ma con carattere &\n",
    "if (x > 0) & (x < 20): #entrambi vere, sempre and\n",
    "    print('& e and hanno lo stesso comportamento')\n",
    "\n",
    "if (x > 0) and (x < 10): #una delle due è false\n",
    "    #questo blocco non verrà interpretato\n",
    "    print(x,'è compreso tra 0 e 10')"
   ]
  },
  {
   "cell_type": "markdown",
   "metadata": {},
   "source": [
    "#### or ####\n",
    "\n",
    "L'operatore bitwise `or` o `|` è il classico **operatore logico OR** tale per cui il risultato è sempre vero, tranne nel caso in cui entrambi siano falsi, questa tabella mostra la logica:"
   ]
  },
  {
   "cell_type": "markdown",
   "metadata": {},
   "source": [
    "| Condizione1 | Condizione2 | Risultato |\n",
    "| :---: | :---: | :---: |\n",
    "| True  | True  | True  | \n",
    "| True  | False | True |\n",
    "| False | True  | True |\n",
    "| False | False | False |"
   ]
  },
  {
   "cell_type": "code",
   "execution_count": 7,
   "metadata": {},
   "outputs": [
    {
     "name": "stdout",
     "output_type": "stream",
     "text": [
      "10 è positivo o negativo\n",
      "or e | sono equivalenti\n"
     ]
    }
   ],
   "source": [
    "#proviamo ad applicare questo ad un if\n",
    "#stesso modo è possibile applicarlo ad elif\n",
    "x = 10\n",
    "if (x > 0) or (x < 0) : #una delle due è vera\n",
    "    print(x,'è positivo o negativo')\n",
    "#sempre or, ma con carattere |\n",
    "#potrebbe dover richiedere parentesi \n",
    "if (x > 0) | (x < 0) :\n",
    "    print('or e | sono equivalenti')\n",
    "\n",
    "#solo se entrambe sono false, non verrà valutato\n",
    "if (x < 10) or (x < 0): #entrambe sono false\n",
    "    #questo blocco non verrà interpretato\n",
    "    print(x,'è negativo o minero di 10')"
   ]
  },
  {
   "cell_type": "markdown",
   "metadata": {},
   "source": [
    "#### xor ####\n",
    "\n",
    "L'operatore bitwise xor è definito con `^` ed il risultato è vero solo se una delle due condizioni è falsa, altrimenti il risulato sarà falso:"
   ]
  },
  {
   "cell_type": "markdown",
   "metadata": {},
   "source": [
    "| Condizione1 | Condizione2 | Risultato |\n",
    "| :---: | :---: | :---: |\n",
    "| True  | True  | False  | \n",
    "| True  | False | True |\n",
    "| False | True  | True |\n",
    "| False | False | False |"
   ]
  },
  {
   "cell_type": "code",
   "execution_count": 8,
   "metadata": {},
   "outputs": [
    {
     "name": "stdout",
     "output_type": "stream",
     "text": [
      "10 è maggiore uguale a 10 o minore di 0\n"
     ]
    }
   ],
   "source": [
    "#proviamo ad applicare questo ad un if\n",
    "#stesso modo è possibile applicarlo ad elif\n",
    "x = 10\n",
    "if (x >= 10) ^ (x < 0): #una delle due è falsa\n",
    "    print(x,'è maggiore uguale a 10 o minore di 0')\n",
    "if (x < 0) ^ (x < 10): #entrambe sono false\n",
    "    #questo blocco, non verrà interpretato\n",
    "    print(x,'è negativo o minore di 10')\n",
    "if (x > 0) ^ (x > -10): #entrambe sono vere\n",
    "    #questo blocco, non verrà interpretato\n",
    "    print(x,'è positivo o compreso tra -9 e 0')"
   ]
  },
  {
   "cell_type": "markdown",
   "metadata": {},
   "source": [
    "<div class=\"alert alert-block alert-danger\">\n",
    "    Ricordate che in alcuni casi potrebbe non essere valutata l'operatore poiché la condizione <b> non è contenuta tra parentesi</b>.\n",
    "</div>\n",
    "<div class=\"alert alert-block alert-success\">\n",
    "    E' inoltre possibile uniore più di due condizioni usando sempre gli operatori bitwise.\n",
    "</div>"
   ]
  },
  {
   "cell_type": "markdown",
   "metadata": {},
   "source": [
    "## Loops ##\n",
    "I loops sono usati per eseguire un numero di istruzioni N volte dove N è un valore specificato da noi, vediamo le loro appicazioni\n",
    "\n",
    "### while ###\n",
    "\n",
    "Il comando `while` viene usato per ripetere un blocco di codice fino a che la condizione imposta non risulta più vera."
   ]
  },
  {
   "cell_type": "code",
   "execution_count": 9,
   "metadata": {},
   "outputs": [
    {
     "name": "stdout",
     "output_type": "stream",
     "text": [
      "Il valore i è: 0\n",
      "Il valore i è: 1\n",
      "Il valore i è: 2\n",
      "Il valore i è: 3\n",
      "Il valore i è: 4\n"
     ]
    }
   ],
   "source": [
    "i = 0 #definiamo una variabile globale\n",
    "while (i < 5): \n",
    "    #fino a che la condizione precedente\n",
    "    #risulta vera, esegui questo blocco\n",
    "    print('Il valore i è:',i)\n",
    "    #ricordate di aggiornare la variabile\n",
    "    #usata per la condizione altrimenti\n",
    "    #non uscirete dal loop!\n",
    "    i += 1 # i = i + 1 incrementa di 1    "
   ]
  },
  {
   "cell_type": "markdown",
   "metadata": {},
   "source": [
    "<div class=\"alert alert-block alert-warning\">\n",
    "    Notate bene che quando `i = 5` il loop esce <b>senza eseguire il blocco contenuto</b>.\n",
    "</div>\n",
    "\n",
    "#### break ####\n",
    "Qualora la condizione sia **sembre vera** è possibile usare il comando `break` per uscire dal loop."
   ]
  },
  {
   "cell_type": "code",
   "execution_count": 10,
   "metadata": {},
   "outputs": [
    {
     "name": "stdout",
     "output_type": "stream",
     "text": [
      "Il valore i è: 0\n",
      "Il valore i è: 1\n",
      "Il valore i è: 2\n",
      "Il valore i è: 3\n",
      "Il valore i è: 4\n"
     ]
    }
   ],
   "source": [
    "i = 0 #definiamo una variabile\n",
    "while True: #in questo caso la condizione è sempre vera\n",
    "    if i >= 5: #la condizione se vera, ci farà uscire dal loop\n",
    "        break  #questo comando ci fa uscire dal loop\n",
    "    print('Il valore i è:',i)\n",
    "    #ricordate di aggiornare i altrimenti l'if \n",
    "    #non sarà mai vero!\n",
    "    i += 1 # i = i +1 "
   ]
  },
  {
   "cell_type": "markdown",
   "metadata": {},
   "source": [
    "#### continue ####\n",
    "Qualora invece volessimo che il loop **continui senza però interpretare il codice nel blocco**, in tal caso il comando `continue` applica questo. "
   ]
  },
  {
   "cell_type": "code",
   "execution_count": 11,
   "metadata": {},
   "outputs": [
    {
     "name": "stdout",
     "output_type": "stream",
     "text": [
      "Il valore i è: 1\n",
      "Il valore i è: 3\n",
      "Il valore i è: 5\n",
      "Il valore i è: 7\n",
      "Il valore i è: 9\n"
     ]
    }
   ],
   "source": [
    "i = 0\n",
    "while i <= 10:\n",
    "    if i % 2 == 0: #se il numero è pari\n",
    "        i += 1 #ticordate di incrementare i\n",
    "        #questo comando dirà di non intepretare\n",
    "        #il codice di blocco successivo contenuto\n",
    "        # nel while\n",
    "        continue \n",
    "    #eseguito solo se non viene intepretato\n",
    "    #il comando continue\n",
    "    print('Il valore i è:',i)\n",
    "    i += 1        "
   ]
  },
  {
   "cell_type": "markdown",
   "metadata": {},
   "source": [
    "### For ###\n",
    "Il comando `for` è leggermente diverso dal `while` in python, poiché in questo caso noi definiamo su quali elementi sia necessario loopare, senza specificare la condizione da applicare, per essere più chiari introduciamo prima il comando `range`.\n",
    "#### range ####\n",
    "Il comando `range` crea una sequenza di valori partendo da un valore iniziale `start` a un valore finale `end`, poiché range appartiene alla classe 'range' in genere è solito convertirlo in lista per mostrare la sua intera sequenza."
   ]
  },
  {
   "cell_type": "code",
   "execution_count": 12,
   "metadata": {},
   "outputs": [
    {
     "name": "stdout",
     "output_type": "stream",
     "text": [
      "range(0, 10)\n"
     ]
    }
   ],
   "source": [
    "print(range(10)) #questo ci darà solo valore finale e iniziale"
   ]
  },
  {
   "cell_type": "code",
   "execution_count": 13,
   "metadata": {},
   "outputs": [
    {
     "name": "stdout",
     "output_type": "stream",
     "text": [
      "[0, 1, 2, 3, 4, 5, 6, 7, 8, 9]\n",
      "[2, 3, 4, 5, 6, 7, 8, 9]\n"
     ]
    }
   ],
   "source": [
    "print(list(range(10))) #questo ci darà tutti gli elementi contenuti\n",
    "print(list(range(2,10))) #lista da 2 a 9, non 10!"
   ]
  },
  {
   "cell_type": "markdown",
   "metadata": {},
   "source": [
    "<div class=\"alert alert-block alert-warning\">\n",
    "Notare bene che qualora non sia specificato lo `start` il valore di default è 0 e la sequenza contiene tutti gli elementi fino al <b>valore precedente di `end`</b>.\n",
    "</div>"
   ]
  },
  {
   "cell_type": "markdown",
   "metadata": {},
   "source": [
    "#### Utilizzo di for e range ####\n",
    "Il comando `range` è molto utilizzato insieme ad `for`, vediamo alcuni esempi."
   ]
  },
  {
   "cell_type": "code",
   "execution_count": 14,
   "metadata": {},
   "outputs": [
    {
     "name": "stdout",
     "output_type": "stream",
     "text": [
      "il valore j è 0\n",
      "il valore j è 1\n",
      "il valore j è 2\n",
      "il valore j è 3\n",
      "il valore j è 4\n",
      "il valore j è 5\n",
      "il valore j è 6\n",
      "il valore j è 7\n",
      "il valore j è 8\n",
      "il valore j è 9\n"
     ]
    }
   ],
   "source": [
    "for j in range(10): \n",
    "    #ricordate che j è una variabile locale\n",
    "    #e non accessibile al di fuori del for se \n",
    "    #prima non convertita a global\n",
    "    print('il valore j è',j)"
   ]
  },
  {
   "cell_type": "markdown",
   "metadata": {},
   "source": [
    "Notate molto attentamente che qui **non è stata usata una condizione, ma il comando `in` per specificare dove loopare il nostro indice**, in questo caso una sequenza di numeri da 0 a 9."
   ]
  },
  {
   "cell_type": "markdown",
   "metadata": {},
   "source": [
    "#### Utilizzo for in liste e dizionari ####"
   ]
  },
  {
   "cell_type": "code",
   "execution_count": 15,
   "metadata": {},
   "outputs": [
    {
     "name": "stdout",
     "output_type": "stream",
     "text": [
      "lista contiene: ciao\n",
      "lista contiene: 4\n",
      "lista contiene: 17\n",
      "lista contiene: tredici\n"
     ]
    }
   ],
   "source": [
    "#il ciclo for e il comando in è molto utilizzato sulle liste, dizionari, set e molto altro\n",
    "lista = ['ciao', 4, 17, 'tredici']\n",
    "for j in lista:\n",
    "    #ora j diventerà ad ogni loop\n",
    "    #un singolo elemento della lista\n",
    "    print('lista contiene:',j)"
   ]
  },
  {
   "cell_type": "code",
   "execution_count": 16,
   "metadata": {},
   "outputs": [
    {
     "name": "stdout",
     "output_type": "stream",
     "text": [
      "lista in posizione 0 contiene ciao\n",
      "lista in posizione 1 contiene 4\n",
      "lista in posizione 2 contiene 17\n",
      "lista in posizione 3 contiene tredici\n"
     ]
    }
   ],
   "source": [
    "#può essere anche usato per accedere le liste attraverso l'indice\n",
    "#len(lista) fornisce il numero di elementi dentro lista\n",
    "for j in range(len(lista)):\n",
    "    #in questo caso useremo j per accedere attraverso l'indice la lista\n",
    "    print('lista in posizione',j,'contiene',lista[j])"
   ]
  },
  {
   "cell_type": "markdown",
   "metadata": {},
   "source": [
    "L'esempio precedente può essere anche definito usando `enumerate` che associa ad ogni elemento della lista un iterabile."
   ]
  },
  {
   "cell_type": "code",
   "execution_count": 17,
   "metadata": {},
   "outputs": [
    {
     "name": "stdout",
     "output_type": "stream",
     "text": [
      "lista: ['ciao', 4, 17, 'tredici']\n",
      "lista enumerata:\n",
      "(0, 'ciao')\n",
      "(1, 4)\n",
      "(2, 17)\n",
      "(3, 'tredici')\n"
     ]
    }
   ],
   "source": [
    "print('lista:',lista)\n",
    "#enumerate associerà un iterabile\n",
    "enum_lista = enumerate(lista)\n",
    "print('lista enumerata:')\n",
    "for enum_elem in enum_lista:\n",
    "    #ricordate di usarlo in un for altrimenti\n",
    "    #verrà restituito un indirizzo\n",
    "    print(enum_elem)"
   ]
  },
  {
   "cell_type": "code",
   "execution_count": 18,
   "metadata": {},
   "outputs": [
    {
     "name": "stdout",
     "output_type": "stream",
     "text": [
      "la lista in posizione 0 contiene ciao\n",
      "la lista in posizione 1 contiene 4\n",
      "la lista in posizione 2 contiene 17\n",
      "la lista in posizione 3 contiene tredici\n"
     ]
    }
   ],
   "source": [
    "for count, elem in enumerate(lista): \n",
    "    #count verrà associato a 0,1,2,3\n",
    "    #elem verrà associato a ciao,4,7,tredici\n",
    "    print('la lista in posizione',count,'contiene',elem)"
   ]
  },
  {
   "cell_type": "code",
   "execution_count": 19,
   "metadata": {},
   "outputs": [
    {
     "name": "stdout",
     "output_type": "stream",
     "text": [
      "la regione Piemonte ha capitale Torino\n",
      "la regione Lombardia ha capitale Milano\n",
      "la regione Lazio ha capitale Roma\n"
     ]
    }
   ],
   "source": [
    "capitali = {'Piemonte':'Torino', 'Lombardia':'Milano', 'Lazio':'Roma'}\n",
    "for regione, capitale in capitali.items():\n",
    "    #il comando items permette di accedere sia alle key che alle values\n",
    "    print('la regione',regione,'ha capitale',capitale)"
   ]
  },
  {
   "cell_type": "code",
   "execution_count": 20,
   "metadata": {},
   "outputs": [
    {
     "name": "stdout",
     "output_type": "stream",
     "text": [
      "Piemonte\n",
      "Lombardia\n",
      "Lazio\n"
     ]
    }
   ],
   "source": [
    "for regione in capitali: #considererà solo le keys\n",
    "    print(regione)"
   ]
  },
  {
   "cell_type": "code",
   "execution_count": 21,
   "metadata": {},
   "outputs": [
    {
     "name": "stdout",
     "output_type": "stream",
     "text": [
      "Torino\n",
      "Milano\n",
      "Roma\n"
     ]
    }
   ],
   "source": [
    "for capitale in capitali.values(): #considererà solo le values\n",
    "    print(capitale)"
   ]
  },
  {
   "cell_type": "code",
   "execution_count": 22,
   "metadata": {},
   "outputs": [
    {
     "name": "stdout",
     "output_type": "stream",
     "text": [
      "Torino\n",
      "Milano\n",
      "Roma\n"
     ]
    }
   ],
   "source": [
    "for regione in capitali:\n",
    "    #altro modo per accedere alle values\n",
    "    print(capitali[regione])"
   ]
  },
  {
   "cell_type": "markdown",
   "metadata": {},
   "source": [
    "### Comprensioni di liste ###\n",
    "In genere se si vogliono utilizzare dei loop per applicare delle operazioni su una lista è possibile usare la **comprehension list** che permette di loopare dentro la lista attraverso una singola riga."
   ]
  },
  {
   "cell_type": "code",
   "execution_count": 23,
   "metadata": {},
   "outputs": [
    {
     "name": "stdout",
     "output_type": "stream",
     "text": [
      "numbers prima della conversione in booleana: [0, 1, 2, 3, 4, 5, 6, 7, 8, 9]\n",
      "numbers convertita in zeri con la compresione di liste: [True, False, False, False, False, False, False, False, False, False]\n"
     ]
    }
   ],
   "source": [
    "numbers = list(range(10)) #lista da 0 a 9\n",
    "print('numbers prima della conversione in booleana:',numbers)\n",
    "#faccio diventare numbers in una lista di true false con una condizione\n",
    "bools = [x == 0 for x in numbers] #true solo se l'elemento è 0\n",
    "print('numbers convertita in zeri con la compresione di liste:',bools)"
   ]
  },
  {
   "cell_type": "markdown",
   "metadata": {},
   "source": [
    "La compresione di lista è quindi nella seguente forma `[espressione for iterabile in lista]` l'iterabile diventa quindi un elemento della lista e nella espressione è possibile porre una qualsiasi condizione."
   ]
  },
  {
   "cell_type": "code",
   "execution_count": 24,
   "metadata": {},
   "outputs": [
    {
     "name": "stdout",
     "output_type": "stream",
     "text": [
      "['pari', 'dispari', 'pari', 'dispari', 'pari', 'dispari', 'pari', 'dispari', 'pari', 'dispari']\n"
     ]
    }
   ],
   "source": [
    "#altro esempio sulla lista di comprensione\n",
    "num_parity = ['pari' if (x % 2)== 0 else 'dispari' for x in numbers]\n",
    "print(num_parity)"
   ]
  },
  {
   "cell_type": "code",
   "execution_count": 25,
   "metadata": {},
   "outputs": [
    {
     "name": "stdout",
     "output_type": "stream",
     "text": [
      "['pari', 'dispari', 'pari', 'dispari', 'pari', 'dispari', 'pari', 'dispari', 'pari', 'dispari']\n"
     ]
    }
   ],
   "source": [
    "#l'esempio precedente con il classico loop e if sarebbe stato\n",
    "num_parity = numbers #copia della lista numbers originale\n",
    "for x in range(len(num_parity)):\n",
    "    #valuto l'elemento all'indice x\n",
    "    if (num_parity[x] % 2) == 0: #potevo mettere il blocco anche qui, se composto da una sola riga\n",
    "        #ridefinisco l'elemento in pari\n",
    "        num_parity[x] = 'pari' \n",
    "    else: \n",
    "        #altrimenti lo ridefinisco in dispari\n",
    "        num_parity[x] = 'dispari'\n",
    "print(num_parity)    "
   ]
  },
  {
   "cell_type": "markdown",
   "metadata": {},
   "source": [
    "***\n",
    "COMPLIMENTI AVETE RAGGIUNTO LA FINE DELLA LEZIONE SU LOOPS E CONDIZIONI!"
   ]
  }
 ],
 "metadata": {
  "kernelspec": {
   "display_name": "Python 3",
   "language": "python",
   "name": "python3"
  },
  "language_info": {
   "codemirror_mode": {
    "name": "ipython",
    "version": 3
   },
   "file_extension": ".py",
   "mimetype": "text/x-python",
   "name": "python",
   "nbconvert_exporter": "python",
   "pygments_lexer": "ipython3",
   "version": "3.8.8"
  }
 },
 "nbformat": 4,
 "nbformat_minor": 4
}
