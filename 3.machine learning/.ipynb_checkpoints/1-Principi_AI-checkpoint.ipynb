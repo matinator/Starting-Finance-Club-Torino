{
 "cells": [
  {
   "cell_type": "markdown",
   "id": "attempted-scratch",
   "metadata": {},
   "source": [
    "# Principi AI\n",
    "\n",
    "L'intelligenza artificiale dalla sua definizione significa avere la capacità di apprendere e di eseguire compiti in maniera simile a quella umana, è presente però la necessità di usare la programmazione per fare in modo che un calcolatore esibisca queste caratteristiche.\n",
    "\n",
    "## Differenze tra programmazione classica e machine learning\n",
    "\n",
    "Sorge quindi la necessità di capire quale sia la differenza tra la programmazione classica vista fino ad ora e il machine learning, la differenza principale tra le due è che nella prima la **macchina è esplicitamente programmata ad eseguire delle specifiche azioni, mente nel machine learning la macchina usa una serie di metodi programmati per capire quale sia l'azione migliore da eseguire**.\n",
    "Qualora questo possa sembrare complicato da capire pensate ad esempio alla necessità di classificare delle foglie in base alle dimensione, colore, ecc... .\n",
    "Ora voi potete programmare esplicitamente che qualora certi parametri siano più gradi di valori a voi assegnati esse siano un tipo di foglia o potete fare in modo  che quei valori siano determinata dalla macchina con un certo criterio, nel secondo caso avete vissto un'applicazione del machine learning.\n",
    "\n",
    "## Metodi di apprendimento\n",
    "\n",
    "I metodi di apprendimento dell'AI sono 3 e sono:\n",
    "\n",
    "- Apprendimento supervisionato\n",
    "- Apprendimento non supervisionato\n",
    "- Apprendimento per rinforzo\n",
    "\n",
    "Questi tipi di apprendimento hanno in comune il fattore che dovendo necessariamente girare su un calcolatore debbano essere convertiti in **linguaggio matematico** altrimenti essi non sarebbero in grado di applicarli.\n",
    "\n",
    "\n",
    "## Dati per l'AI\n",
    "\n",
    "L'AI necessita di dati, dati che però devono essere \"buoni\" ovvero devono contenere poco rumore, mancanza di presenza di errori quanto possibile e devono essere adattati alla capacità della macchina di apprendere, qualora i dati non siano \"pronti\" per l'apprendimento è necessario **preprocessarli** ovvero **modificare i dati in modo tale che possano essere processabili in seguito dal modello**. \n",
    "La decisione su quale metodo usare per processare i dati può essere **determinante sulle capacità del modello** infatti anche se sono presenti dei metodi generali per capire quale sia un modo universale di processare i dati, dalle **condizioni dei tipi di dati è possibile ipotizzare che alcuni siano più adatti di altri**.\n",
    "\n",
    "## Allenare l'AI in base ai dati\n",
    "\n",
    "I modelli di AI come prima condizione devono mettere in relazione **complessità e mole di dati** come vedremo in seguito un modello con pochi dati è ***molto probabile*** che performi in maniera peggiore rispetto ad uno più semplice, mentre una grande mole di dati permetterà ad un modello più complesso di essere più preciso. In genere il processo di allenamento è sempre quello più costoso a livello computazionale.\n",
    "\n",
    "## Valutare l'AI\n",
    "\n",
    "La valutazione dell'AI è difficile, in particolare poiché è difficile comprendere come l'AI abbia imparato ad eseguire una particolare azione e su quali principi o assiomi si stia basando(su questo è presente il campo dell' EX_AI ovvero explainable AI), in genere però sono presenti quasi sempre due aspetti in comune:\n",
    "\n",
    "- la presenza di un dataset per il testing dell'apprendimento\n",
    "- la presenza di una metrica per la valutazione quantitativa del testing\n",
    "\n",
    "La metrica è quella che in genere influisce maggiormente sulla definizione del modello a causa del fatto che penalizziamo certi comportamenti, mentre ne concediamo altri!\n",
    "\n",
    "## Uso dell'AI\n",
    "\n",
    "Al momento sono pochi i modelli in grado di compiere azioni anche al di fuori di quello per cui sono stati allenati e in genere sono sempre richiesti ulteriori allenamenti, qualora però il modello sia allenato in molti casi le performance risultano simili o maggiori rispetto a quelle umane in larga parte grazie alla velocità dei processori.\n",
    "\n",
    "Quindi ora che abbiamo capito erchiamo di usare le principali librerie python usate per il machine learning e la data science!\n",
    "\n",
    "![meme](../img/data_meme.jpg)\n",
    "\n",
    "***\n",
    "\n",
    "Principi AI finito!"
   ]
  }
 ],
 "metadata": {
  "kernelspec": {
   "display_name": "Python 3",
   "language": "python",
   "name": "python3"
  },
  "language_info": {
   "codemirror_mode": {
    "name": "ipython",
    "version": 3
   },
   "file_extension": ".py",
   "mimetype": "text/x-python",
   "name": "python",
   "nbconvert_exporter": "python",
   "pygments_lexer": "ipython3",
   "version": "3.8.8"
  }
 },
 "nbformat": 4,
 "nbformat_minor": 5
}
