{
 "cells": [
  {
   "cell_type": "markdown",
   "metadata": {},
   "source": [
    "# Introduzione alla programmazione Python   by Matteo Conterno #\n",
    "![python logo](..\\img\\Python_logo_large.png)\n",
    "\n",
    "Salve a tutti e benvenuti nella sezione di programmazione di **Starting Finance Club Torino**, in questa sezione vedremo come imparare a utilizzare python 3 per fare machine learning sia nella finanza che in altri aspetti, ma prima incominciamo con l'introdurre cosa sia python e quali sono le sue caratteristiche principali detto questo iniziamo subito!\n",
    "\n",
    "\n",
    "# Storia di Python # \n",
    "\n",
    "Python è un linguaggio di programmazione dinamico ad alto livello creato da __[Guido van Rosssum](https://en.wikipedia.org/wiki/Guido_van_Rossum\")__ nel 1991 con l'idea di avere le seguenti caratteristiche:\n",
    "- facile comprensione\n",
    "- programmazione ad oggetti\n",
    "- flessibile\n",
    "\n",
    "Nel corso del tempo alcune funzionalità sono state aggiunte e migliorate ed è ora uno dei linguaggi più utilizzati al mondo con applicazioni in diversi ambiti. In questa sezione noi ci focalizzeremo all'utilizzo di python 3, rilasciato dal 2008 e al momento la versione più diffusa di esso. \n",
    "Ora ci focalizzeremo sulla comprensione delle sue proprietà e quali sono i concetti dietro ad essi.\n",
    "\n",
    "# Python è un linguaggio dinamico e ad alto livello #\n",
    "Con questo ci si intende a riferire al fatto che python è un linguaggio che **non richiede l'uso di istruzioni programmate a livello macchina** come 0 e 1, infatti python si occupa di convertire lui stesso le informazioni fornite scritte nella sua lingua che è definita in maniera molto simile alle conversazioni che si farebbero in inglese dovendo specificare poco o nulla alla macchina! E' questo il motivo principale per cui questo linguaggio è facile da imparare scrivere e capire oltre che flessibile!\n",
    "\n",
    "# Python è un linguaggio programmato ad oggetti #\n",
    "Questo concetto verrà poi analizzato in maniera più profonda in seguito, per il momento basta pensare ad questo concetto come un paradigma di programmazione in cui sono presenti degli **oggetti in grado di contenere dati o codice** che possono interagire tra di loro e permettendo ad ognuno di essi di compiere funzionalità proprie di esso, ma specificate da noi.\n",
    "\n",
    "# Python è un linguaggio interpretato #\n",
    "A differenza di altri linguaggi che sono compilate ovvero viene prima letto per intero il file contente il codice e in seguito viene eseguito, **Python legge ed esegue riga per riga il codice**, questo rallenta la velocità della macchina nell'eseguire le istruzioni, ma permette di capire esattamente dove il codice sia andato storto.\n",
    "\n",
    "Ora che abbiamo saputo delle sue caratteristiche principali è il momento di capire come installare Python usando Anaconda.\n",
    "\n",
    "# Installazione Python usando Anaconda #\n",
    "Il primo passo è andare sul sito di __[Anaconda](https://www.anaconda.com/products/individual)__ scorrere verso il basso fino a che non trovare gli Anaconda Installers:\n",
    "\n",
    "![Anaconda Installer](..\\img\\Anacondainstaller.png)\n",
    "Dopodichè scaricate la versione secondo il sistema operativo che avete ed eseguite il file scaricato, usando le impostazioni di default aspettate che l'installazione sia completata(questo potrebbe richiedere diversi minuti) dopo avere finito l'installazione lanciate l'installazione, per i diversi sistemi operativi potete riferirvi a questa __[guida](https://docs.anaconda.com/anaconda/user-guide/getting-started/)__, qualora aveste problemi di installazione potete riferivi a questo __[link](https://docs.anaconda.com/anaconda/install/)__."
   ]
  },
  {
   "cell_type": "markdown",
   "metadata": {},
   "source": [
    "# Il nostro primo programma in Python con Jupyter e Spider #\n",
    "Ora che anaconda è stato installato è il momento di scrivere il nostro primo codice che sarà quello di far stampare alla macchina Ciao Mondo!, in primo passo avviamo anaconda navigator e dovrebbe uscire una schermata del genere:\n",
    "![navigator](..\\img\\navigator.png)\n",
    "Ora noi useremo principalmente __[Jupyter Notebook](https://jupyter.org/)__, ma potete anche usare un altro software per programmare come __[Spider](https://www.spyder-ide.org/)__ o __[Vscode](https://code.visualstudio.com/)__ a voi la scelta ora mostrerò come usarli.\n",
    "\n",
    "Partendo da **Jupyter** cliccate su **Launch** dell'icona Jupyter notebook, dovrebbe aprirvi una pagina del vostro browser di questo tipo:\n",
    "\n",
    "![jupyter](..\\img\\jupyter.png)\n",
    "\n",
    "Andate nella cartella in cui volete creare un notebook o create una facendo New $\\rightarrow$ folder e chiamate la cartella come volete, creiamo ora un nuovo notebook di python 3 facendo New $\\rightarrow$ python 3:\n",
    "\n",
    "![file guide](..\\img\\fileguide.png)\n",
    "\n",
    "Ora dovrebbe aprirsi una nuova pagina di questo tipo:\n",
    "\n",
    "![new notebook](..\\img\\newnotebook.png)\n",
    "\n",
    "Scrivete dentro la cella:"
   ]
  },
  {
   "cell_type": "code",
   "execution_count": 1,
   "metadata": {},
   "outputs": [
    {
     "name": "stdout",
     "output_type": "stream",
     "text": [
      "Ciao Mondo!\n"
     ]
    }
   ],
   "source": [
    "print(\"Ciao Mondo!\") \n",
    "#print dice alla macchina di stampare il contenuto all'interno delle parentesi \n",
    "#in questo caso il contenuto è una stringa e può essere denotato con \"messaggio\" o 'messaggio'\n",
    "#vedremo questo in maniera più profonda dopo"
   ]
  },
  {
   "cell_type": "markdown",
   "metadata": {},
   "source": [
    "Schiacciate Shift + Enter o cliccate Run per ottenere scritto sotto il messaggio racchiuso dentro print, nella stessa maniera potete avviare Spider, scrivere print(\"Ciao Mondo!\") e otterrete nella console di destra il risultato desiderato!\n",
    "\n",
    "![spider](..\\img\\spider.png)\n",
    "\n",
    "***\n",
    "COMPLIMENTI AVETE ORA SCRITTO ED ESEGUITO IL VOSTRO PRIMO CODICE IN PYTHON!\n",
    "Nelle lezioni successive vedremo cosa sono le variabili, i tipi di dati, le funzioni e molto altro!"
   ]
  }
 ],
 "metadata": {
  "kernelspec": {
   "display_name": "Python 3",
   "language": "python",
   "name": "python3"
  },
  "language_info": {
   "codemirror_mode": {
    "name": "ipython",
    "version": 3
   },
   "file_extension": ".py",
   "mimetype": "text/x-python",
   "name": "python",
   "nbconvert_exporter": "python",
   "pygments_lexer": "ipython3",
   "version": "3.8.5"
  }
 },
 "nbformat": 4,
 "nbformat_minor": 4
}
