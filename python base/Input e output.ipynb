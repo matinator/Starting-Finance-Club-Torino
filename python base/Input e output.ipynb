{
 "cells": [
  {
   "cell_type": "markdown",
   "metadata": {},
   "source": [
    "# Input e Output #\n",
    "\n",
    "In python e in molti altri linguaggi è possibile definire come verranno messi i valori in output e come possono essere immessi in input dall'utente al fine di poter definire come vengano gestiti i dati e i file su cui si voglia lavorare. \n",
    "\n",
    "## Input dall'utente ##\n",
    "\n",
    "Qualora per esempio volessimo definire dei valori che sono passati dall'utente attraverso la console python fornisce il comando `input`."
   ]
  },
  {
   "cell_type": "code",
   "execution_count": 1,
   "metadata": {},
   "outputs": [
    {
     "name": "stdin",
     "output_type": "stream",
     "text": [
      "Inserire un numero: 5\n"
     ]
    },
    {
     "name": "stdout",
     "output_type": "stream",
     "text": [
      "il numero che  è stato inserito è: 5\n"
     ]
    }
   ],
   "source": [
    "v = input('Inserire un numero:')\n",
    "print('il numero che  è stato inserito è:',v)"
   ]
  },
  {
   "cell_type": "markdown",
   "metadata": {},
   "source": [
    "Qualora volessimo inserire più numeri possiamo usare `split` per dividerli usando come separatore uno spazio o raggrupparli in una lista con una lista comprehension.\n",
    "\n",
    "### Split ###"
   ]
  },
  {
   "cell_type": "code",
   "execution_count": 2,
   "metadata": {},
   "outputs": [
    {
     "name": "stdin",
     "output_type": "stream",
     "text": [
      "Inserire due numeri separati da uno spazio: 23 56\n"
     ]
    },
    {
     "name": "stdout",
     "output_type": "stream",
     "text": [
      "Il primo numero è: 23\n",
      "Il secondo numero è: 56\n"
     ]
    }
   ],
   "source": [
    "a, b = input('Inserire due numeri separati da uno spazio:').split()\n",
    "print('Il primo numero è:', a)\n",
    "print('Il secondo numero è:', b)"
   ]
  },
  {
   "cell_type": "markdown",
   "metadata": {},
   "source": [
    "Nel caso in cui volessimo usare un diverso separatore come ad esempio un altro carattere diverso da ` `, basterà inserire dentro le parentesi di split `split('carattere')`."
   ]
  },
  {
   "cell_type": "code",
   "execution_count": 3,
   "metadata": {},
   "outputs": [
    {
     "name": "stdin",
     "output_type": "stream",
     "text": [
      "Inserire due numeri separati da una virgola: 13,42\n"
     ]
    },
    {
     "name": "stdout",
     "output_type": "stream",
     "text": [
      "Il primo numero è: 13\n",
      "Il secondo numero è: 42\n"
     ]
    }
   ],
   "source": [
    "a, b = input('Inserire due numeri separati da una virgola:').split(',')\n",
    "print('Il primo numero è:', a)\n",
    "print('Il secondo numero è:', b)"
   ]
  },
  {
   "cell_type": "markdown",
   "metadata": {},
   "source": [
    "### Liste ###\n",
    "\n",
    "Nel caso in cui usassimo una lista per salvare i dati è necessario usare una comprensione di liste e convertire gli elementi in interi o altri formati poiché essi verranno salvati in stringhe."
   ]
  },
  {
   "cell_type": "code",
   "execution_count": 4,
   "metadata": {},
   "outputs": [
    {
     "name": "stdin",
     "output_type": "stream",
     "text": [
      "Inserisci dei valori separati dallo spazio 54 76 91 43\n"
     ]
    },
    {
     "name": "stdout",
     "output_type": "stream",
     "text": [
      "I valori inseriti convertiti come elementi della lista sono: [54, 76, 91, 43]\n"
     ]
    }
   ],
   "source": [
    "#int(x) converte i numeri immessi in numeri interi\n",
    "l = [int(x) for x in input('Inserisci dei valori separati dallo spazio').split()]\n",
    "print('I valori inseriti convertiti come elementi della lista sono:',l)"
   ]
  },
  {
   "cell_type": "markdown",
   "metadata": {},
   "source": [
    "## Output ##\n",
    "\n",
    "Qualora volessimo formattare il nostro output in un particolare modo è possibile utilizzare diversi tipi di formattazione delle stringhe oltre a quello visto fino ad adesso.\n",
    "\n",
    "### Valori letterali stringa formattati ###\n",
    "\n",
    "I valori letterali in stringa permettono di formattare le stringhe contenenti valori precedendo la stringa con una `f` o `F` e racchiudendo le variabili all'interno di `{}` permettendo anche la loro conversione."
   ]
  },
  {
   "cell_type": "code",
   "execution_count": 5,
   "metadata": {},
   "outputs": [
    {
     "name": "stdout",
     "output_type": "stream",
     "text": [
      "Il valore di v è 3\n",
      "Il valore di v in numero decimale è 3.00\n"
     ]
    }
   ],
   "source": [
    "v = 3 #valore intero\n",
    "print(f'Il valore di v è {v}')\n",
    "print(f'Il valore di v in numero decimale è {v:.2f}')"
   ]
  },
  {
   "cell_type": "markdown",
   "metadata": {},
   "source": [
    "Come possiamo vedere sono riuscito a formattare v in un valore decimale e scrivedo :.2f sono riuscito a farmi considerare solo i primi due valori decimali dopo la virgola, esistono altri formati che potete trovare __[qui](https://www.geeksforgeeks.org/python-format-function/)__."
   ]
  },
  {
   "cell_type": "markdown",
   "metadata": {},
   "source": [
    "### Metodo format ###\n",
    "\n",
    "Il metodo format è analogo a quello abbena visto con la differenza che in questo caso nelle parentesi `{}` è possibile specificare nulla o un ordine con cui appaiono le variabili o le stringhe dopo la frase che si vuole printare seguita da `.format(valori)`."
   ]
  },
  {
   "cell_type": "code",
   "execution_count": 6,
   "metadata": {},
   "outputs": [
    {
     "name": "stdout",
     "output_type": "stream",
     "text": [
      "Il valore di v è 5, v2 è 3.00\n"
     ]
    }
   ],
   "source": [
    "v1 = 5\n",
    "v2 = 3\n",
    "print('Il valore di v è {}, v2 è {:.2f}'.format(v1, v2))"
   ]
  },
  {
   "cell_type": "markdown",
   "metadata": {},
   "source": [
    "Come possiamo vedere il risultato è uguale alla formattazione precedente, solo con una diversa sintassi, per quanto riguarda l'ordine con cui sono stampati è possibile usare delle indici che partano da zero in modo da definire un diverso ordine."
   ]
  },
  {
   "cell_type": "code",
   "execution_count": 7,
   "metadata": {},
   "outputs": [
    {
     "name": "stdout",
     "output_type": "stream",
     "text": [
      "Il valore di v è 5, v2 è 3.00\n",
      "Il valore di v2 è 3.00, v è 5\n"
     ]
    }
   ],
   "source": [
    "print('Il valore di v è {0}, v2 è {1:.2f}'.format(v1, v2)) #riproduce il precedente\n",
    "#definisco l'ordine con 0 e 1 definendo in che ordine venga stampato\n",
    "print('Il valore di v2 è {1:.2f}, v è {0}'.format(v1, v2)) "
   ]
  },
  {
   "cell_type": "markdown",
   "metadata": {},
   "source": [
    "Per cambiare l'ordine definito in format è possibile usare degli indici come in analogia a una lista, notare che la formattazione in float è definito dentro `{}`. Possiamo definire anche un etichetta per variabile e associarli un valore qualora ci servisse."
   ]
  },
  {
   "cell_type": "code",
   "execution_count": 8,
   "metadata": {},
   "outputs": [
    {
     "name": "stdout",
     "output_type": "stream",
     "text": [
      "Il primo numero è 3, il secondo 3, il nome è Matteo\n"
     ]
    }
   ],
   "source": [
    "#possibile definire anche un identificativo per alcuni elementi\n",
    "print('Il primo numero è {0}, il secondo {1}, il nome è {name}'.format(v, v2, name='Matteo'))"
   ]
  },
  {
   "cell_type": "markdown",
   "metadata": {},
   "source": [
    "### Vecchio metodo di formattazione ###\n",
    "\n",
    "Python 2 aveva un diverso modo di formattare le stringhe, per completezza vedremo anche questo che è ancora un metodo valido, ma datato.<br> La differenza principale è la presena dell'operatore modulo `%` sia dentro la stringa che fuori."
   ]
  },
  {
   "cell_type": "code",
   "execution_count": 9,
   "metadata": {},
   "outputs": [
    {
     "name": "stdout",
     "output_type": "stream",
     "text": [
      "Il valore di v è 3.00\n"
     ]
    }
   ],
   "source": [
    "#il valore di v e la sua formattazione vengono preceduti da %\n",
    "print('Il valore di v è %.2f' %v) "
   ]
  },
  {
   "cell_type": "markdown",
   "metadata": {},
   "source": [
    "## Lettura e scrittura file ##\n",
    "\n",
    "In python sono presenti funzionalità anche di lettura e scrittura dei file, se per esempio volessimo creare, leggere e modificare dei file python ha delle funzioni apposite.\n",
    "\n",
    "### Creazione e scrittura file ###\n",
    "\n",
    "Partiamo dalla creazione di un file e la sua scrittura, se ad esempio vogliamo creare un file dobbiamo prima aprirlo usando il conda `open` con al suo interno un nome racchiuso tra `'` e la modalità in cui lo si vuole aprire che nel caso di lettura è `'w'` che significa write."
   ]
  },
  {
   "cell_type": "code",
   "execution_count": 10,
   "metadata": {},
   "outputs": [],
   "source": [
    "#questo creerà un file qualora non ce ne sia già uno di nome esempio.txt\n",
    "#notare che è stato aperto in modalità write\n",
    "f = open('esempio.txt', 'w') "
   ]
  },
  {
   "cell_type": "markdown",
   "metadata": {},
   "source": [
    "Per scrivere una frase basterà usare la funzione `write` e scrivere all'interno in formato stringa la frase."
   ]
  },
  {
   "cell_type": "code",
   "execution_count": 11,
   "metadata": {},
   "outputs": [
    {
     "data": {
      "text/plain": [
       "19"
      ]
     },
     "execution_count": 11,
     "metadata": {},
     "output_type": "execute_result"
    }
   ],
   "source": [
    "f.write('questa è una frase\\n')"
   ]
  },
  {
   "cell_type": "markdown",
   "metadata": {},
   "source": [
    "Qualora voi provaste ad aprire il file noterete che esso sarà vuoto e questo è dovuto al fatto che non abbiamo salvato le modifiche e chiuso il file, questo è possibile farlo usando il comando `close`."
   ]
  },
  {
   "cell_type": "code",
   "execution_count": 12,
   "metadata": {},
   "outputs": [],
   "source": [
    "f.close()"
   ]
  },
  {
   "cell_type": "markdown",
   "metadata": {},
   "source": [
    "Come potete vedere ora aprendo il file avrete la vostra frase!\n",
    "\n",
    "### Lettura file ###\n",
    "\n",
    "Qualora sia necessario invece leggere il file è possibile aprire il file in modalità `r` o read usando in contemporanea il comando `with` che permetterà di associare al file uno pseudonimo e scorrere su tutto il file."
   ]
  },
  {
   "cell_type": "code",
   "execution_count": 13,
   "metadata": {},
   "outputs": [],
   "source": [
    "f = open('esempio.txt', 'r')"
   ]
  },
  {
   "cell_type": "code",
   "execution_count": 14,
   "metadata": {},
   "outputs": [
    {
     "data": {
      "text/plain": [
       "'questa è una frase\\n'"
      ]
     },
     "execution_count": 14,
     "metadata": {},
     "output_type": "execute_result"
    }
   ],
   "source": [
    "f.read()"
   ]
  },
  {
   "cell_type": "code",
   "execution_count": 15,
   "metadata": {},
   "outputs": [],
   "source": [
    "f.close()"
   ]
  },
  {
   "cell_type": "markdown",
   "metadata": {},
   "source": [
    "Aggiungiamo una nuova riga usando la modalità `a` per impedire la modifica dei dati originali, ma l'aggiunta di nuovi elementi attraverso l'appensione."
   ]
  },
  {
   "cell_type": "code",
   "execution_count": 16,
   "metadata": {},
   "outputs": [
    {
     "data": {
      "text/plain": [
       "26"
      ]
     },
     "execution_count": 16,
     "metadata": {},
     "output_type": "execute_result"
    }
   ],
   "source": [
    "# questo appenderà le modifiche dopo il contenuto originale\n",
    "f = open('esempio.txt', 'a') \n",
    "f.write('questa è la seconda frase\\n')"
   ]
  },
  {
   "cell_type": "code",
   "execution_count": 17,
   "metadata": {},
   "outputs": [],
   "source": [
    "f.close()"
   ]
  },
  {
   "cell_type": "markdown",
   "metadata": {},
   "source": [
    "Possiamo usare una formula ricorsiva per leggere il file."
   ]
  },
  {
   "cell_type": "code",
   "execution_count": 19,
   "metadata": {},
   "outputs": [
    {
     "name": "stdout",
     "output_type": "stream",
     "text": [
      "questa è una frase\n",
      "questa è la seconda frase\n"
     ]
    }
   ],
   "source": [
    "f = open('esempio.txt', 'r')\n",
    "for line in f: # considera tutte le linee\n",
    "    print(line, end = '') #legge fino alla fine della frase"
   ]
  },
  {
   "cell_type": "code",
   "execution_count": 21,
   "metadata": {},
   "outputs": [],
   "source": [
    "f.close()"
   ]
  },
  {
   "cell_type": "markdown",
   "metadata": {},
   "source": [
    "Oppure usare il comando `readlines`."
   ]
  },
  {
   "cell_type": "code",
   "execution_count": 22,
   "metadata": {},
   "outputs": [
    {
     "data": {
      "text/plain": [
       "['questa è una frase\\n', 'questa è la seconda frase\\n']"
      ]
     },
     "execution_count": 22,
     "metadata": {},
     "output_type": "execute_result"
    }
   ],
   "source": [
    "f = open('esempio.txt', 'r')\n",
    "f.readlines()"
   ]
  },
  {
   "cell_type": "code",
   "execution_count": 23,
   "metadata": {},
   "outputs": [],
   "source": [
    "f.close()"
   ]
  },
  {
   "cell_type": "markdown",
   "metadata": {},
   "source": [
    "O ancora in maniera ripetitiva `readline` che dopo aver letto la linea andrà alla successiva."
   ]
  },
  {
   "cell_type": "code",
   "execution_count": 24,
   "metadata": {},
   "outputs": [
    {
     "data": {
      "text/plain": [
       "'questa è una frase\\n'"
      ]
     },
     "execution_count": 24,
     "metadata": {},
     "output_type": "execute_result"
    }
   ],
   "source": [
    "f = open('esempio.txt', 'r')\n",
    "f.readline()"
   ]
  },
  {
   "cell_type": "code",
   "execution_count": 25,
   "metadata": {},
   "outputs": [
    {
     "data": {
      "text/plain": [
       "'questa è la seconda frase\\n'"
      ]
     },
     "execution_count": 25,
     "metadata": {},
     "output_type": "execute_result"
    }
   ],
   "source": [
    "f.readline()"
   ]
  },
  {
   "cell_type": "code",
   "execution_count": 26,
   "metadata": {},
   "outputs": [],
   "source": [
    "f.close()"
   ]
  },
  {
   "cell_type": "markdown",
   "metadata": {},
   "source": [
    "<div class=\"alert alert-block alert-success\">\n",
    "Esiste anche la modalità <b>r+</b> che permette la lettura e scrittura del file e la modalità <b>b</b> per aprire il file in modalità binaria a posto della modalità di testo.\n",
    "</div>\n",
    "\n",
    "***\n",
    "\n",
    "COMPLIMENTI AVETE COMPLETATO LA LEZIONE DI INPUT E OUTPUT!"
   ]
  }
 ],
 "metadata": {
  "kernelspec": {
   "display_name": "Python 3",
   "language": "python",
   "name": "python3"
  },
  "language_info": {
   "codemirror_mode": {
    "name": "ipython",
    "version": 3
   },
   "file_extension": ".py",
   "mimetype": "text/x-python",
   "name": "python",
   "nbconvert_exporter": "python",
   "pygments_lexer": "ipython3",
   "version": "3.8.5"
  }
 },
 "nbformat": 4,
 "nbformat_minor": 4
}
