{
 "cells": [
  {
   "cell_type": "markdown",
   "metadata": {},
   "source": [
    "# Strutture dati #\n",
    "Benvenuti alla nuove lezione sulle strutture dati di Python, partiamo dalla definizione di strutture di dati, per strutture dati si intende un modo di organizzare, gestire e immagazzinare dati in maniera efficiente e, anche se non sempre, modificabile.\n",
    "In python esistono diversi tipi di strutture dati che sono:\n",
    "- Liste\n",
    "- Tuple\n",
    "- Sets\n",
    "- Dictionaries"
   ]
  },
  {
   "cell_type": "markdown",
   "metadata": {},
   "source": [
    "## Liste ##\n",
    "Una lista è una collezione di valori **modificabile** definita secondo la classe liste ed in grado di contenere una qualsiasi collezzione di dati il cui ordine è definito da un **indice** che parte da **0**, per chi avesse già esperienza sono gli analoghi degli array 1D in altri linguaggi, in python le parentesi `[]` definiscono una lista o la parola chiave `list(elementi)`,  vediamo alcuni esempi:"
   ]
  },
  {
   "cell_type": "code",
   "execution_count": 1,
   "metadata": {},
   "outputs": [
    {
     "name": "stdout",
     "output_type": "stream",
     "text": [
      "la lista numbers contiene:  [1, 2, 3]\n",
      "la lista letters contiene:  ['a', 'b', 'c']\n",
      "la lista mix contiene:  [1, 'ciao', 4]\n",
      "Il tipo lista è definito come:  <class 'list'>\n"
     ]
    }
   ],
   "source": [
    "numbers = [1, 2, 3] #questa è una lista che contiene solo numeri\n",
    "letters = ['a', 'b', 'c'] #questa è una lista di lettere\n",
    "mix = [1, 'ciao', 4] #questa è una lista con diversi tipi di valori, sia numeri, che stringhe\n",
    "#stampiamo i valori delle liste\n",
    "print('la lista numbers contiene: ', numbers)\n",
    "print('la lista letters contiene: ', letters)\n",
    "print('la lista mix contiene: ', mix)\n",
    "#per sapere il tipo della lista\n",
    "print('Il tipo lista è definito come: ', type(numbers))"
   ]
  },
  {
   "cell_type": "markdown",
   "metadata": {},
   "source": [
    "Niente impedisce la creazione di liste contenenti altre liste, questo è un concetto che verrà utilizzato in futuro per alcune trattazioni, queste liste sono dette **nested** ed è possibile definirle nel seguente modo:"
   ]
  },
  {
   "cell_type": "code",
   "execution_count": 2,
   "metadata": {},
   "outputs": [
    {
     "name": "stdout",
     "output_type": "stream",
     "text": [
      "list_of_list contiene:  [1, 2, ['a', 'b', 45], 'fine']\n",
      "Il tipo di list_of_list è:  <class 'list'>\n"
     ]
    }
   ],
   "source": [
    "list_of_list = [1, 2 , ['a', 'b', 45], 'fine']  #lista di liste\n",
    "#stampiamo il valore e il tipo\n",
    "print('list_of_list contiene: ', list_of_list)\n",
    "print('Il tipo di list_of_list è: ', type(list_of_list))"
   ]
  },
  {
   "cell_type": "markdown",
   "metadata": {},
   "source": [
    "Per sapere quanti elementi sono presenti all'interno della lista è possibile usare il comando `len`."
   ]
  },
  {
   "cell_type": "code",
   "execution_count": 3,
   "metadata": {},
   "outputs": [
    {
     "name": "stdout",
     "output_type": "stream",
     "text": [
      "la lista numbers ha 3 elementi\n"
     ]
    }
   ],
   "source": [
    "print('la lista numbers ha',len(numbers),'elementi')"
   ]
  },
  {
   "cell_type": "markdown",
   "metadata": {},
   "source": [
    "Per sapere se un elemento è contenuto nella lista possiamo usare `in`."
   ]
  },
  {
   "cell_type": "code",
   "execution_count": 4,
   "metadata": {},
   "outputs": [
    {
     "data": {
      "text/plain": [
       "True"
      ]
     },
     "execution_count": 4,
     "metadata": {},
     "output_type": "execute_result"
    }
   ],
   "source": [
    "3 in numbers"
   ]
  },
  {
   "cell_type": "markdown",
   "metadata": {},
   "source": [
    "### Operazioni sulle liste ###\n",
    "Le liste posseggono una serie di funzioni proprie attraverso cui sono possibili modificare o accedere agli elementi contenuti in essa, vediamone alcuni\n",
    "#### Accedere a singoli o multipli elementi ###\n",
    "Usando l'indice è possibile selezionare singoli o multipli elementi all'interno della lista.\n",
    "\n",
    "Accedere al singolo elemento attraverso il comando `lista[indice]`:"
   ]
  },
  {
   "cell_type": "code",
   "execution_count": 5,
   "metadata": {},
   "outputs": [
    {
     "name": "stdout",
     "output_type": "stream",
     "text": [
      "Il primo elemento della lista numbers è:  1\n",
      "Il secondo elemento della lista numbers è:  2\n",
      "Il terzo elemento della lista numbers è:  3\n"
     ]
    }
   ],
   "source": [
    "#ricorda che l'indice della lista parte da 0!\n",
    "print('Il primo elemento della lista numbers è: ', numbers[0]) \n",
    "print('Il secondo elemento della lista numbers è: ', numbers[1])\n",
    "print('Il terzo elemento della lista numbers è: ', numbers[2])"
   ]
  },
  {
   "cell_type": "code",
   "execution_count": 3,
   "metadata": {},
   "outputs": [
    {
     "name": "stdout",
     "output_type": "stream",
     "text": [
      "Ultimo elemento nella lista numbers:  3\n"
     ]
    }
   ],
   "source": [
    "print('Ultimo elemento nella lista numbers: ', numbers[-1])"
   ]
  },
  {
   "cell_type": "markdown",
   "metadata": {},
   "source": [
    "Accedere a molteplici elementi attraverso il comando `lista[inizio:fine]`:"
   ]
  },
  {
   "cell_type": "code",
   "execution_count": 6,
   "metadata": {},
   "outputs": [
    {
     "name": "stdout",
     "output_type": "stream",
     "text": [
      "dal primo al secondo elemento della lista numbers:  [1, 2]\n",
      "sempre dal primo al secondo elemento di numbers:  [1, 2]\n",
      "dal secondo al terzo elemento della lista numbers:  [2, 3]\n",
      "Tutti gli elementi della lista numbers:  [1, 2, 3]\n"
     ]
    }
   ],
   "source": [
    "print('dal primo al secondo elemento della lista numbers: ', numbers[0:2])\n",
    "#ALtro modo sarebbe potuto essere\n",
    "print('sempre dal primo al secondo elemento di numbers: ', numbers[:2])\n",
    "print('dal secondo al terzo elemento della lista numbers: ', numbers[1:3])\n",
    "print('Tutti gli elementi della lista numbers: ', numbers[:])"
   ]
  },
  {
   "cell_type": "markdown",
   "metadata": {},
   "source": [
    "<div class=\"alert alert-block alert-warning\">\n",
    "Notate bene che l'indice finale non accede all'elemento dell'indice usato, ma a quello precedente, questa è una convenzione usata in alcuni linguaggi, tra cui python.\n",
    "</div>"
   ]
  },
  {
   "cell_type": "markdown",
   "metadata": {},
   "source": [
    "#### Funzioni delle liste ####\n",
    "Le liste contengono delle funzioni a cui è possibile accedere attraverso `.funzione()` questo concetto appartiene alla programmazione ad oggetti che verrà spiegato in seguito, per ora a noi è sufficiente capire cosa fanno e come usarle.\n",
    "##### Appendere un nuovo elemento alla fine #####"
   ]
  },
  {
   "cell_type": "code",
   "execution_count": 7,
   "metadata": {},
   "outputs": [
    {
     "name": "stdout",
     "output_type": "stream",
     "text": [
      "Lista numbers con un nuovo elemento:  [1, 2, 3, 4]\n"
     ]
    }
   ],
   "source": [
    "numbers.append(4)\n",
    "print('Lista numbers con un nuovo elemento: ', numbers)"
   ]
  },
  {
   "cell_type": "markdown",
   "metadata": {},
   "source": [
    "##### Estendere una lista ####"
   ]
  },
  {
   "cell_type": "code",
   "execution_count": 8,
   "metadata": {},
   "outputs": [
    {
     "name": "stdout",
     "output_type": "stream",
     "text": [
      "Lista numbers estesa:  [1, 2, 3, 4, 5, 6, 7]\n"
     ]
    }
   ],
   "source": [
    "numbers.extend([5, 6, 7])\n",
    "print('Lista numbers estesa: ', numbers)"
   ]
  },
  {
   "cell_type": "markdown",
   "metadata": {},
   "source": [
    "##### Rimuovere un valore #####"
   ]
  },
  {
   "cell_type": "code",
   "execution_count": 9,
   "metadata": {},
   "outputs": [
    {
     "name": "stdout",
     "output_type": "stream",
     "text": [
      "Lista numbers con il valore 5 rimosso:  [1, 2, 3, 4, 6, 7]\n"
     ]
    }
   ],
   "source": [
    "numbers.remove(5) #dobbiamo passare il valore, non l'indice!\n",
    "print('Lista numbers con il valore 5 rimosso: ', numbers)"
   ]
  },
  {
   "cell_type": "markdown",
   "metadata": {},
   "source": [
    "##### Ordinare una lista #####\n"
   ]
  },
  {
   "cell_type": "code",
   "execution_count": 10,
   "metadata": {},
   "outputs": [
    {
     "name": "stdout",
     "output_type": "stream",
     "text": [
      "Lista numbers in ordine decrescente:  [7, 6, 4, 3, 2, 1]\n",
      "Lista numbers in ordine crescente:  [1, 2, 3, 4, 6, 7]\n"
     ]
    }
   ],
   "source": [
    "#ordinare in ordine decresente la lista\n",
    "numbers.reverse() #oppure .sort(reverse = True)\n",
    "print('Lista numbers in ordine decrescente: ', numbers)\n",
    "#ordinare una lista in ordine crescente\n",
    "numbers.sort()\n",
    "print('Lista numbers in ordine crescente: ', numbers)"
   ]
  },
  {
   "cell_type": "markdown",
   "metadata": {},
   "source": [
    "##### Svuotare una lista #####"
   ]
  },
  {
   "cell_type": "code",
   "execution_count": 11,
   "metadata": {},
   "outputs": [
    {
     "name": "stdout",
     "output_type": "stream",
     "text": [
      "Lista numbers svuotata:  []\n"
     ]
    }
   ],
   "source": [
    "numbers.clear() #analogo a del numbers[:]\n",
    "print('Lista numbers svuotata: ', numbers)"
   ]
  },
  {
   "cell_type": "markdown",
   "metadata": {},
   "source": [
    "Sono presenti altre funzionalità in liste, per conoscerle, consultate la __[documentazione](https://docs.python.org/3/tutorial/datastructures.html)__."
   ]
  },
  {
   "cell_type": "markdown",
   "metadata": {},
   "source": [
    "## Tuple ##\n",
    "Una tupla è simile a una lista con delle differenze, **una tupla non può essere modificata nei suoi elementi** , inoltre le tuple sono caratterizzate da parentesi `()` e di un separatore `,` a differenze delle liste, possibile definirla anche con `tuple()`."
   ]
  },
  {
   "cell_type": "code",
   "execution_count": 12,
   "metadata": {},
   "outputs": [
    {
     "name": "stdout",
     "output_type": "stream",
     "text": [
      "la tupla t contiene:  (123, 'ciao', 47)\n",
      "la tupla t è del tipo:  <class 'tuple'>\n"
     ]
    }
   ],
   "source": [
    "t = (123, 'ciao', 47) #tupla\n",
    "print('la tupla t contiene: ', t)\n",
    "print('la tupla t è del tipo: ', type(t))"
   ]
  },
  {
   "cell_type": "code",
   "execution_count": 13,
   "metadata": {},
   "outputs": [
    {
     "ename": "TypeError",
     "evalue": "'tuple' object does not support item assignment",
     "output_type": "error",
     "traceback": [
      "\u001b[1;31m---------------------------------------------------------------------------\u001b[0m",
      "\u001b[1;31mTypeError\u001b[0m                                 Traceback (most recent call last)",
      "\u001b[1;32m<ipython-input-13-418e8d116b23>\u001b[0m in \u001b[0;36m<module>\u001b[1;34m\u001b[0m\n\u001b[0;32m      1\u001b[0m \u001b[1;31m#non può essere modificata\u001b[0m\u001b[1;33m\u001b[0m\u001b[1;33m\u001b[0m\u001b[1;33m\u001b[0m\u001b[0m\n\u001b[1;32m----> 2\u001b[1;33m \u001b[0mt\u001b[0m\u001b[1;33m[\u001b[0m\u001b[1;36m0\u001b[0m\u001b[1;33m]\u001b[0m \u001b[1;33m=\u001b[0m \u001b[1;36m5\u001b[0m\u001b[1;33m\u001b[0m\u001b[1;33m\u001b[0m\u001b[0m\n\u001b[0m",
      "\u001b[1;31mTypeError\u001b[0m: 'tuple' object does not support item assignment"
     ]
    }
   ],
   "source": [
    "#non può essere modificata\n",
    "t[0] = 5"
   ]
  },
  {
   "cell_type": "code",
   "execution_count": 14,
   "metadata": {},
   "outputs": [
    {
     "name": "stdout",
     "output_type": "stream",
     "text": [
      "x è:  123\n",
      "u è:  ((123, 'ciao', 47), 65, 'paolo')  di tipo:  <class 'tuple'>\n"
     ]
    }
   ],
   "source": [
    "#ma può essere usata come estensione o per ottenere elementi\n",
    "x = t[0]\n",
    "u = (t, 65, 'paolo')\n",
    "print('x è: ', x)\n",
    "print('u è: ', u, ' di tipo: ', type(u))"
   ]
  },
  {
   "cell_type": "markdown",
   "metadata": {},
   "source": [
    "La __[documentazione](https://docs.python.org/3/tutorial/datastructures.html)__ fornisce maggiori dettagli."
   ]
  },
  {
   "cell_type": "markdown",
   "metadata": {},
   "source": [
    "## Set ##\n",
    "Un set è uguale alla tupla con la differenza che **non ci possono essere duplicati e non sono ordinati**, i set sono definiti con `{}` o `set()`."
   ]
  },
  {
   "cell_type": "code",
   "execution_count": 15,
   "metadata": {},
   "outputs": [
    {
     "name": "stdout",
     "output_type": "stream",
     "text": [
      "il set s contiene:  {1345, 'arco', 'fiume'}\n",
      "s è del tipo:  <class 'set'>\n"
     ]
    }
   ],
   "source": [
    "s = {1345, 'arco', 'fiume'}\n",
    "print('il set s contiene: ', s)\n",
    "print('s è del tipo: ', type(s))"
   ]
  },
  {
   "cell_type": "code",
   "execution_count": 16,
   "metadata": {},
   "outputs": [
    {
     "ename": "TypeError",
     "evalue": "'set' object does not support item assignment",
     "output_type": "error",
     "traceback": [
      "\u001b[1;31m---------------------------------------------------------------------------\u001b[0m",
      "\u001b[1;31mTypeError\u001b[0m                                 Traceback (most recent call last)",
      "\u001b[1;32m<ipython-input-16-03b2ccee89a0>\u001b[0m in \u001b[0;36m<module>\u001b[1;34m\u001b[0m\n\u001b[1;32m----> 1\u001b[1;33m \u001b[0ms\u001b[0m\u001b[1;33m[\u001b[0m\u001b[1;36m0\u001b[0m\u001b[1;33m]\u001b[0m \u001b[1;33m=\u001b[0m \u001b[1;36m5\u001b[0m \u001b[1;31m#immutabile\u001b[0m\u001b[1;33m\u001b[0m\u001b[1;33m\u001b[0m\u001b[0m\n\u001b[0m",
      "\u001b[1;31mTypeError\u001b[0m: 'set' object does not support item assignment"
     ]
    }
   ],
   "source": [
    "s[0] = 5 #immutabile"
   ]
  },
  {
   "cell_type": "markdown",
   "metadata": {},
   "source": [
    "Set supporta delle operazioni a differenza di tuple, consulate pure la __[documentazione](https://docs.python.org/3/tutorial/datastructures.html)__ per ulteriori info."
   ]
  },
  {
   "cell_type": "markdown",
   "metadata": {},
   "source": [
    "## Dictionaries ##\n",
    "I dictionaries sono un'altra struttura di dati simili alle liste, ma caratterizzate da una **key** associata ad una **value** nella forma **key:value** il cui **indice è definito dalla key**, sono inoltre caratterizzate dalle parentesi `{}` o definite con `dict()`."
   ]
  },
  {
   "cell_type": "code",
   "execution_count": 17,
   "metadata": {},
   "outputs": [
    {
     "name": "stdout",
     "output_type": "stream",
     "text": [
      "capitali contiene:  {'piemonte': 'Torino', 'lombardia': 'Milano', 'Liguria': 'Genova'}\n",
      "Tipo di capitali è:  <class 'dict'>\n"
     ]
    }
   ],
   "source": [
    "#dizionario\n",
    "capitali = {'piemonte' : 'Torino', 'lombardia' : 'Milano', 'Liguria':'Genova'}\n",
    "print('capitali contiene: ', capitali)\n",
    "print('Tipo di capitali è: ', type(capitali))"
   ]
  },
  {
   "cell_type": "code",
   "execution_count": 18,
   "metadata": {},
   "outputs": [
    {
     "name": "stdout",
     "output_type": "stream",
     "text": [
      "Torino\n",
      "Roma\n"
     ]
    }
   ],
   "source": [
    "print(capitali['piemonte'])\n",
    "capitali['piemonte'] = 'Roma'# mutabile\n",
    "print(capitali['piemonte'])"
   ]
  },
  {
   "cell_type": "code",
   "execution_count": 19,
   "metadata": {},
   "outputs": [
    {
     "name": "stdout",
     "output_type": "stream",
     "text": [
      "{'piemonte': 'Roma', 'lombardia': 'Milano', 'Liguria': 'Genova', 'Lazio': 'Roma'}\n"
     ]
    }
   ],
   "source": [
    "#estendibile con una chiave e un valore associato\n",
    "capitali['Lazio'] = 'Roma'\n",
    "print(capitali)"
   ]
  },
  {
   "cell_type": "code",
   "execution_count": 20,
   "metadata": {},
   "outputs": [
    {
     "name": "stdout",
     "output_type": "stream",
     "text": [
      "['Lazio', 'Liguria', 'lombardia', 'piemonte']\n"
     ]
    }
   ],
   "source": [
    "#ordinati secondo le CHIAVI \n",
    "print(sorted(capitali))"
   ]
  },
  {
   "cell_type": "markdown",
   "metadata": {},
   "source": [
    "Per avere maggiori informazioni potete consultare la __[documentazione](https://docs.python.org/3/tutorial/datastructures.html)__.\n",
    "\n",
    "***\n",
    "COMPLIMENTI AVETE FINITO LA LEZIONE SULLE STRUTTURE DI DATI IN PYTHON!"
   ]
  }
 ],
 "metadata": {
  "kernelspec": {
   "display_name": "Python 3",
   "language": "python",
   "name": "python3"
  },
  "language_info": {
   "codemirror_mode": {
    "name": "ipython",
    "version": 3
   },
   "file_extension": ".py",
   "mimetype": "text/x-python",
   "name": "python",
   "nbconvert_exporter": "python",
   "pygments_lexer": "ipython3",
   "version": "3.8.8"
  }
 },
 "nbformat": 4,
 "nbformat_minor": 4
}
