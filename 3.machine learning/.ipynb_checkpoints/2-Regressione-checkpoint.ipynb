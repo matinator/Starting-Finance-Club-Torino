{
 "cells": [
  {
   "cell_type": "markdown",
   "id": "handed-element",
   "metadata": {},
   "source": [
    "# Regressione\n",
    "\n",
    "La **regressione** è una tecnica attraverso cui data una variabile dipendente e una o più indipendenti si cerca di stabilire quale sia la relazione tra la variabile dipendenti e variabili indipendenti"
   ]
  }
 ],
 "metadata": {
  "kernelspec": {
   "display_name": "Python 3",
   "language": "python",
   "name": "python3"
  },
  "language_info": {
   "codemirror_mode": {
    "name": "ipython",
    "version": 3
   },
   "file_extension": ".py",
   "mimetype": "text/x-python",
   "name": "python",
   "nbconvert_exporter": "python",
   "pygments_lexer": "ipython3",
   "version": "3.8.5"
  }
 },
 "nbformat": 4,
 "nbformat_minor": 5
}
