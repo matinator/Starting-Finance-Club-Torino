{
 "cells": [
  {
   "cell_type": "markdown",
   "metadata": {},
   "source": [
    "# NUMPY #\n",
    "\n",
    "Numpy è una libreria creata per permettere la creazione di ***array n-dimensionali in python***, le caratteristiche principali di numpy è che questa libreria è **estremamente veloce, versatile e usata in molte altre librerie**, come infatti vedremo in seguito altre librerie sono basate su di essa per permettere di fare operazioni più veloci e avere controllo sulla memoria.\n",
    "\n",
    "<div class=\"alert alert-block alert-success\">\n",
    "    Il motivo per cui numpy è così veloce è dovuto al fatto che è basata su un linguaggio a più basso livello che è C, come vedremo in seguito questo è possibile notarlo dalla presenza di tipi di variabili con numeri di bit definiti. \n",
    "</div>\n",
    "\n",
    "<div class=\"alert alert-block alert-warning\">\n",
    "    Numpy dovrebbe essere già installato con anaconda, qualora però non lo fosse installatelo seguendo la lezione 1-Module. \n",
    "</div>\n",
    "\n",
    "## Cosa sono gli array ? ##\n",
    "\n",
    "Gli array sono un concetto informatica ispirato dalla nozione di vettori, matrici o più in generale tensori usati in geometria e matematica.\n",
    "Il concetto di array è già stato introdotto indirettamente nel capitolo 1 con la definzione di strutture di dati in particolare con la definizione di liste e dizionari, per avere una visione su cosa siano questi array usiamo un immagine di numpy.\n",
    "\n",
    "![](..\\img\\numpy_array.png)\n",
    "\n",
    "Come possiamo notare dall'immagine un array 1d è equivalemente a una lista in python, il problema sorge qualora ci spostiamo in array 2d o superiori per cui non abbiamo un'istruzione diretta per la creazione di tali elementi, in tal caso facciamo ricorso alla libreria notando che numpy creerà una lista di liste legata al numero di dimensioni considerata.\n",
    "Vediamo però il suo utilizzo attraverso la libreria.ù\n",
    "\n",
    "## Creazione di array e operazioni ##\n",
    "\n",
    "### Creazione di array ###\n",
    "Per creare un array in numpy in primo passo è necessario importare la libreria dopodiché è possibile inizializzare un array decidendo se dovrà contenere zeri o uni, attenzione i valori che potreste vedere potrebbero essere valori approssimata seconda la macchina essere vicini a quelli."
   ]
  },
  {
   "cell_type": "code",
   "execution_count": 2,
   "metadata": {},
   "outputs": [
    {
     "name": "stdout",
     "output_type": "stream",
     "text": [
      "Array 1dimensionale contenenti uni [1. 1. 1. 1.]\n",
      "Array 1dimensionale contenenti zeri [0. 0. 0. 0.]\n"
     ]
    }
   ],
   "source": [
    "import numpy as np\n",
    "#notare bene le doppie paretesi\n",
    "ones_1d = np.ones((4,)) #contiene solo 4 elementi \n",
    "zeros_1d = np.zeros((4,))\n",
    "print('Array 1dimensionale contenenti uni', ones_1d)\n",
    "print('Array 1dimensionale contenenti zeri', zeros_1d)"
   ]
  },
  {
   "cell_type": "markdown",
   "metadata": {},
   "source": [
    "Qualora volessi creare array 2D l'unica modifica che è necessaria è aggiungere il numero della seconda dimensione all'interno della doppia parentesi."
   ]
  },
  {
   "cell_type": "code",
   "execution_count": 8,
   "metadata": {},
   "outputs": [
    {
     "name": "stdout",
     "output_type": "stream",
     "text": [
      "Array 2dimensioni contenenti uni:\n",
      " [[1. 1. 1.]\n",
      " [1. 1. 1.]]\n",
      "Array 2dimensioni contenenti zeri:\n",
      " [[0. 0. 0.]\n",
      " [0. 0. 0.]]\n"
     ]
    }
   ],
   "source": [
    "ones_2d = np.ones((2,3))\n",
    "zeros_2d = np.zeros((2,3))\n",
    "print('Array 2dimensioni contenenti uni:\\n', ones_2d)\n",
    "print('Array 2dimensioni contenenti zeri:\\n', zeros_2d)"
   ]
  },
  {
   "cell_type": "markdown",
   "metadata": {},
   "source": [
    "Come è possibile notare l'array 1d è l'analogo della lista, mentre quello 2d è una lista di liste questo poiché in python come abbiamo detto non esistono altre strutture oltre a questa per la memorizzazione di dati in maniera ordinata. \n",
    "Per quanto riguarda gli array 3d ripetiamo i procedimenti precedenti."
   ]
  },
  {
   "cell_type": "code",
   "execution_count": 9,
   "metadata": {},
   "outputs": [
    {
     "name": "stdout",
     "output_type": "stream",
     "text": [
      "Array 3dimensioni contenenti uni:\n",
      " [[[1. 1.]\n",
      "  [1. 1.]\n",
      "  [1. 1.]]\n",
      "\n",
      " [[1. 1.]\n",
      "  [1. 1.]\n",
      "  [1. 1.]]\n",
      "\n",
      " [[1. 1.]\n",
      "  [1. 1.]\n",
      "  [1. 1.]]\n",
      "\n",
      " [[1. 1.]\n",
      "  [1. 1.]\n",
      "  [1. 1.]]]\n",
      "Array 3dimensioni contenenti zeri:\n",
      " [[[0. 0.]\n",
      "  [0. 0.]\n",
      "  [0. 0.]]\n",
      "\n",
      " [[0. 0.]\n",
      "  [0. 0.]\n",
      "  [0. 0.]]\n",
      "\n",
      " [[0. 0.]\n",
      "  [0. 0.]\n",
      "  [0. 0.]]\n",
      "\n",
      " [[0. 0.]\n",
      "  [0. 0.]\n",
      "  [0. 0.]]]\n"
     ]
    }
   ],
   "source": [
    "ones_3d = np.ones((4,3,2))\n",
    "zeros_3d = np.zeros((4,3,2))\n",
    "print('Array 3dimensioni contenenti uni:\\n', ones_3d)\n",
    "print('Array 3dimensioni contenenti zeri:\\n', zeros_3d)"
   ]
  },
  {
   "cell_type": "markdown",
   "metadata": {},
   "source": [
    "### Operazioni su array ###\n",
    "Su questi array è possibile effettuare delle operazioni come se fossero delle variabili e molte altre.\n",
    "#### Addizione ####\n",
    "Per l'operazione di somma tra due array a noi basta usare `+` oppure `np.add`."
   ]
  },
  {
   "cell_type": "code",
   "execution_count": 10,
   "metadata": {},
   "outputs": [
    {
     "name": "stdout",
     "output_type": "stream",
     "text": [
      "[2. 2. 2. 2.]\n"
     ]
    }
   ],
   "source": [
    "print(ones_1d+ones_1d)"
   ]
  },
  {
   "cell_type": "code",
   "execution_count": 11,
   "metadata": {},
   "outputs": [
    {
     "name": "stdout",
     "output_type": "stream",
     "text": [
      "[2. 2. 2. 2.]\n"
     ]
    }
   ],
   "source": [
    "print(np.add(ones_1d, ones_1d))"
   ]
  },
  {
   "cell_type": "markdown",
   "metadata": {},
   "source": [
    "#### Sottrazione ####\n",
    "Per l'operazione di differenza tra due array a noi basta usare `-` oppure `np.substract`."
   ]
  },
  {
   "cell_type": "code",
   "execution_count": 12,
   "metadata": {},
   "outputs": [
    {
     "name": "stdout",
     "output_type": "stream",
     "text": [
      "[[0. 0. 0.]\n",
      " [0. 0. 0.]]\n"
     ]
    }
   ],
   "source": [
    "print(ones_2d - ones_2d)"
   ]
  },
  {
   "cell_type": "markdown",
   "metadata": {},
   "source": [
    "#### Moltiplicazione ####\n",
    "Per l'operazione di moltiplicazione tra due array a noi basta usare `*` oppure `np.multiply`."
   ]
  },
  {
   "cell_type": "code",
   "execution_count": 13,
   "metadata": {},
   "outputs": [
    {
     "name": "stdout",
     "output_type": "stream",
     "text": [
      "[[0. 0. 0.]\n",
      " [0. 0. 0.]]\n"
     ]
    }
   ],
   "source": [
    "print(ones_2d * zeros_2d)"
   ]
  },
  {
   "cell_type": "markdown",
   "metadata": {},
   "source": [
    "#### Divisione ####\n",
    "Per l'operazione di divisione tra due array a noi basta usare `/` oppure `np.divide`."
   ]
  },
  {
   "cell_type": "code",
   "execution_count": 15,
   "metadata": {},
   "outputs": [
    {
     "name": "stdout",
     "output_type": "stream",
     "text": [
      "[[0.5 0.5 0.5]\n",
      " [0.5 0.5 0.5]]\n"
     ]
    }
   ],
   "source": [
    "print(ones_2d / 2)"
   ]
  },
  {
   "cell_type": "markdown",
   "metadata": {},
   "source": [
    "<div class=\"alert alert-block alert-success\">\n",
    "    Notare bene che l'ultima operazione che ho fatto non è tra due array, il motivo per cui funzione è dovuto al broadcasting che manipola gli array in maniera tale da avere la stessa dimensione, fare riferimento a questo <a href=\"https://www.tutorialspoint.com/numpy/numpy_broadcast.htm\">link</a>.\n",
    "</div>\n",
    "\n",
    "Sarebbero presente molte altre operazioni che sarebbero troppo lunghe da elencare, per avere un quadro generale di tutto ciò potete consultare questo __[cheatsheet](https://s3.amazonaws.com/assets.datacamp.com/blog_assets/Numpy_Python_Cheat_Sheet.pdf)__, mentre se aveste dubbi potete consultare la __[documentazione](https://numpy.org/doc/stable/index.html)__."
   ]
  },
  {
   "cell_type": "code",
   "execution_count": null,
   "metadata": {},
   "outputs": [],
   "source": []
  }
 ],
 "metadata": {
  "kernelspec": {
   "display_name": "Python 3",
   "language": "python",
   "name": "python3"
  },
  "language_info": {
   "codemirror_mode": {
    "name": "ipython",
    "version": 3
   },
   "file_extension": ".py",
   "mimetype": "text/x-python",
   "name": "python",
   "nbconvert_exporter": "python",
   "pygments_lexer": "ipython3",
   "version": "3.8.5"
  }
 },
 "nbformat": 4,
 "nbformat_minor": 4
}
