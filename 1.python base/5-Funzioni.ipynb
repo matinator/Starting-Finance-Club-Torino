{
 "cells": [
  {
   "cell_type": "markdown",
   "metadata": {},
   "source": [
    "# Funzioni #\n",
    "\n",
    "Una funzione in informatica è un blocco di codice organizzato attraverso cui vengono compiute delle azioni. I motivi per utilizzare una funzione sono:\n",
    "- maggiore chiarezza del codice\n",
    "- unica definizione per una specifica azione\n",
    "- riduzione della lunghezza del codice\n",
    "- possibilità di ripetere la stessa azione con facilità\n",
    "\n",
    "## Creazione di una funzione ##\n",
    "\n",
    "In python una funzione è definita attraverso la parola chiave `def` seguito dal nome della funzione che vogliamo usare e delle parentesi `()`\n",
    "che in genere contengono dei parametri, subito dopo di esso è presente il carattere `:` e il codice **indentato** contenente la **docstring** che fornisce informazioni sul suo utilizzo e le sue azioni seguito dalle istruzioni da eseguire e una riga finale contenente `return` e il valore che vogliamo ritornare anche in forma di variabile, la struttura logica è la seguente:"
   ]
  },
  {
   "cell_type": "code",
   "execution_count": null,
   "metadata": {},
   "outputs": [],
   "source": [
    "def nome_funzione(parametri):\n",
    "    '''funzione docstring'''\n",
    "    codice_funzione\n",
    "    return valore"
   ]
  },
  {
   "cell_type": "markdown",
   "metadata": {},
   "source": [
    "Ora che abbiamo capiro la sintassi da utilizzare vediamo degli esempi."
   ]
  },
  {
   "cell_type": "markdown",
   "metadata": {},
   "source": [
    "### Required arguments - valori dei parametri richiesti ###"
   ]
  },
  {
   "cell_type": "code",
   "execution_count": 1,
   "metadata": {},
   "outputs": [],
   "source": [
    "def somma(x, y): #due parametri sono forniti in input\n",
    "    '''somma due numeri ''' #informazioni sulla funzione\n",
    "    tot = x + y #esegui la somma\n",
    "    return tot #ritorna il valore della somma"
   ]
  },
  {
   "cell_type": "markdown",
   "metadata": {},
   "source": [
    "Ora se noi scriviamo `somma()` e con il cursore all'interno delle parentesi schiacciamo `Shift + Tab` vedremo apparire una mini finestra con la **docstring** che abbiamo scritto nella funzione e altri informazioni. Vediamo ora di usare la funzione definita.\n",
    "<div class=\"alert alert-block alert-danger\">\n",
    "Stiamo attenti che qualora ci dimenticassimo di definire i valori dei parametri un <b>errore</b> verrà stampato dicendoci che ci siamo dimenticati di definire i parametri.\n",
    "</div>"
   ]
  },
  {
   "cell_type": "code",
   "execution_count": 2,
   "metadata": {},
   "outputs": [
    {
     "ename": "TypeError",
     "evalue": "somma() missing 2 required positional arguments: 'x' and 'y'",
     "output_type": "error",
     "traceback": [
      "\u001b[1;31m---------------------------------------------------------------------------\u001b[0m",
      "\u001b[1;31mTypeError\u001b[0m                                 Traceback (most recent call last)",
      "\u001b[1;32m<ipython-input-2-96de7c92fd92>\u001b[0m in \u001b[0;36m<module>\u001b[1;34m\u001b[0m\n\u001b[1;32m----> 1\u001b[1;33m \u001b[0msomma\u001b[0m\u001b[1;33m(\u001b[0m\u001b[1;33m)\u001b[0m \u001b[1;31m# non ho specificato valori\u001b[0m\u001b[1;33m\u001b[0m\u001b[1;33m\u001b[0m\u001b[0m\n\u001b[0m",
      "\u001b[1;31mTypeError\u001b[0m: somma() missing 2 required positional arguments: 'x' and 'y'"
     ]
    }
   ],
   "source": [
    "somma() # non ho specificato valori"
   ]
  },
  {
   "cell_type": "markdown",
   "metadata": {},
   "source": [
    "\n",
    "### Keyword arguments - valori dei parametri specificati ###"
   ]
  },
  {
   "cell_type": "code",
   "execution_count": 4,
   "metadata": {},
   "outputs": [
    {
     "name": "stdout",
     "output_type": "stream",
     "text": [
      "La somma di 3 e 2 è: 5\n"
     ]
    }
   ],
   "source": [
    "tot = somma(x = 3, y = 2) #tot avrà il valore della funzione return\n",
    "print('La somma di 3 e 2 è:',tot)"
   ]
  },
  {
   "cell_type": "markdown",
   "metadata": {},
   "source": [
    "Come possiamo vedere abbiamo passato dei valori effettivi alla funzione ponendo i parametri a specifici valori, è possibile anche non usare la sintassi `parametro = valore` e scrivere solo i valori, stando però attenti di mantenere l'ordine, a meno che specifici tipi delle variabili siano diversi, vedremo questo in seguito."
   ]
  },
  {
   "cell_type": "code",
   "execution_count": 5,
   "metadata": {},
   "outputs": [
    {
     "name": "stdout",
     "output_type": "stream",
     "text": [
      "La somma di 3 e 2 è: 5\n"
     ]
    }
   ],
   "source": [
    "tot = somma(3,2) # sottointeso x = 3, y = 2\n",
    "print('La somma di 3 e 2 è:',tot)"
   ]
  },
  {
   "cell_type": "markdown",
   "metadata": {},
   "source": [
    "### Funzioni senza return o parametri ###"
   ]
  },
  {
   "cell_type": "markdown",
   "metadata": {},
   "source": [
    "Le funzioni possono anche essere **prive di parametri o ritornare nessun valore** e comunque funzionare, vediamo degli esempi:"
   ]
  },
  {
   "cell_type": "code",
   "execution_count": 6,
   "metadata": {},
   "outputs": [],
   "source": [
    "def valore_nullo(): #nessun parametro è richiesto\n",
    "    ''' ritorna il valore nullo'''\n",
    "    return 0 # ritorno il valore senza eseguire alcuna azione"
   ]
  },
  {
   "cell_type": "code",
   "execution_count": 7,
   "metadata": {},
   "outputs": [
    {
     "name": "stdout",
     "output_type": "stream",
     "text": [
      "Il valore ritornato dalla funzione valore_nullo è: 0\n"
     ]
    }
   ],
   "source": [
    "zero = valore_nullo() #notare che non ho passato nessun parametro\n",
    "print('Il valore ritornato dalla funzione valore_nullo è:', zero)"
   ]
  },
  {
   "cell_type": "code",
   "execution_count": 8,
   "metadata": {},
   "outputs": [],
   "source": [
    "def trattini(numero):\n",
    "    ''' stampera di seguito un numero di trattini \n",
    "       definito dal valore del parametro passato'''\n",
    "    print('-'*numero) #notare che non metto un return"
   ]
  },
  {
   "cell_type": "code",
   "execution_count": 9,
   "metadata": {},
   "outputs": [
    {
     "name": "stdout",
     "output_type": "stream",
     "text": [
      "--------------------------------------------------------------------------------\n"
     ]
    }
   ],
   "source": [
    "trattini(80)"
   ]
  },
  {
   "cell_type": "markdown",
   "metadata": {},
   "source": [
    "Dobbiamo però notare la seguente cosa, nel caso in cui si associ una variable al risultato di trattini otteniamo il risultato `None`."
   ]
  },
  {
   "cell_type": "code",
   "execution_count": 10,
   "metadata": {},
   "outputs": [
    {
     "name": "stdout",
     "output_type": "stream",
     "text": [
      "--------------------------------------------------------------------------------\n",
      "Valore è: None\n"
     ]
    }
   ],
   "source": [
    "valore = trattini(80)\n",
    "print('Valore è:', valore)"
   ]
  },
  {
   "cell_type": "markdown",
   "metadata": {},
   "source": [
    "Ovviamente l'azione della funzione verrà eseguita e quindi verrano stampati 80 trattini, ma il valore che sarà ritornato sarà `None`, il motivo è dovuto al fatto che se non è presente il `return` nella funzione python definirà la funzione con `return None` come riga finale.<br>\n",
    "**Nota:**`None` è un tipo di variabile che non contiene nessun valore e può essere tradotto come **nulla**, il suo comportamento è molto importante!"
   ]
  },
  {
   "cell_type": "code",
   "execution_count": 11,
   "metadata": {},
   "outputs": [],
   "source": [
    "#funzione senza parametri o return\n",
    "def saluta(): #nesssun parametro\n",
    "    ''' stampa Ciao'''\n",
    "    print('Ciao') #no return"
   ]
  },
  {
   "cell_type": "code",
   "execution_count": 12,
   "metadata": {},
   "outputs": [
    {
     "name": "stdout",
     "output_type": "stream",
     "text": [
      "Ciao\n"
     ]
    }
   ],
   "source": [
    "saluta()"
   ]
  },
  {
   "cell_type": "markdown",
   "metadata": {},
   "source": [
    "### Default Arguments - Argomenti di default dei parametri ###\n",
    "Nelle funzioni in genere potrebbe essere richiesto che qualora non sia specificato nulla si passi un valore di default al suo interno e si eseguino comunque le azioni."
   ]
  },
  {
   "cell_type": "code",
   "execution_count": 13,
   "metadata": {},
   "outputs": [],
   "source": [
    "def default_somma(x = 0, y = 0):\n",
    "    '''somma di due numeri, qualora\n",
    "       non siano passati valori i due numeri \n",
    "       saranno assunti come nulli'''\n",
    "    tot = x + y\n",
    "    return tot"
   ]
  },
  {
   "cell_type": "code",
   "execution_count": 14,
   "metadata": {},
   "outputs": [
    {
     "name": "stdout",
     "output_type": "stream",
     "text": [
      "Somma di valori definiti\n",
      "funzione somma: 5\n",
      "funzione default somma: 5\n"
     ]
    }
   ],
   "source": [
    "#confrontiamo il comportamento delle due funzioni\n",
    "#caso in cui i valori sono definiti\n",
    "tot_somma = somma(x = 3, y = 2)\n",
    "tot_somma_default = default_somma(x = 3, y = 2)\n",
    "print('Somma di valori definiti')\n",
    "print('funzione somma:', tot_somma)\n",
    "print('funzione default somma:', tot_somma_default)"
   ]
  },
  {
   "cell_type": "code",
   "execution_count": 15,
   "metadata": {},
   "outputs": [
    {
     "name": "stdout",
     "output_type": "stream",
     "text": [
      "Somma senza valori definiti\n",
      "funzione default somma: 0\n"
     ]
    },
    {
     "ename": "TypeError",
     "evalue": "somma() missing 2 required positional arguments: 'x' and 'y'",
     "output_type": "error",
     "traceback": [
      "\u001b[1;31m---------------------------------------------------------------------------\u001b[0m",
      "\u001b[1;31mTypeError\u001b[0m                                 Traceback (most recent call last)",
      "\u001b[1;32m<ipython-input-15-242990a038b2>\u001b[0m in \u001b[0;36m<module>\u001b[1;34m\u001b[0m\n\u001b[0;32m      1\u001b[0m \u001b[0mprint\u001b[0m\u001b[1;33m(\u001b[0m\u001b[1;34m'Somma senza valori definiti'\u001b[0m\u001b[1;33m)\u001b[0m\u001b[1;33m\u001b[0m\u001b[1;33m\u001b[0m\u001b[0m\n\u001b[0;32m      2\u001b[0m \u001b[0mprint\u001b[0m\u001b[1;33m(\u001b[0m\u001b[1;34m'funzione default somma:'\u001b[0m\u001b[1;33m,\u001b[0m \u001b[0mdefault_somma\u001b[0m\u001b[1;33m(\u001b[0m\u001b[1;33m)\u001b[0m\u001b[1;33m)\u001b[0m\u001b[1;33m\u001b[0m\u001b[1;33m\u001b[0m\u001b[0m\n\u001b[1;32m----> 3\u001b[1;33m \u001b[0mprint\u001b[0m\u001b[1;33m(\u001b[0m\u001b[1;34m'funzione somma:'\u001b[0m\u001b[1;33m,\u001b[0m\u001b[0msomma\u001b[0m\u001b[1;33m(\u001b[0m\u001b[1;33m)\u001b[0m\u001b[1;33m)\u001b[0m\u001b[1;33m\u001b[0m\u001b[1;33m\u001b[0m\u001b[0m\n\u001b[0m",
      "\u001b[1;31mTypeError\u001b[0m: somma() missing 2 required positional arguments: 'x' and 'y'"
     ]
    }
   ],
   "source": [
    "print('Somma senza valori definiti')\n",
    "print('funzione default somma:', default_somma())\n",
    "print('funzione somma:',somma())"
   ]
  },
  {
   "cell_type": "markdown",
   "metadata": {},
   "source": [
    "Come possiamo notare nel caso della funzione con default argument non ci sono problemi e viene ritornato la somma dei valori di default 0, mentre la funzione senza default argument produce un errore."
   ]
  },
  {
   "cell_type": "markdown",
   "metadata": {},
   "source": [
    "### Variable length arguments - argomenti di lunghezza variabile ###\n",
    "Nel caso in cui noi non fossimo in grado di sapere quanti parametri o argomenti siano passati possiamo passare un parametro che contenga i valori in eccesso.\n",
    "#### Arbitrary arguments - argomenti arbitrari ####\n",
    "In questo caso un arbitrary arguments è passato come un parametro preceduto da `*` che convertirà i valori in una **tupla**, vediamo il suo utilizzo:"
   ]
  },
  {
   "cell_type": "code",
   "execution_count": 16,
   "metadata": {},
   "outputs": [],
   "source": [
    "#*args permette di definire un numero arbitrario di valori\n",
    "def somma_arbitrary(*args): \n",
    "    ''' somma su due o più valori'''\n",
    "    tot = 0 #inizializza tot a 0\n",
    "    for arg in args: #loop sulla tupla\n",
    "        #somma sui valori ulteriori\n",
    "        tot += arg # tot = tot + arg\n",
    "    return tot"
   ]
  },
  {
   "cell_type": "code",
   "execution_count": 17,
   "metadata": {},
   "outputs": [
    {
     "name": "stdout",
     "output_type": "stream",
     "text": [
      "Somma di 3, 2 e 5: 10\n"
     ]
    }
   ],
   "source": [
    "tot_arbitrary = somma_arbitrary(3, 2, 5)\n",
    "print('Somma di 3, 2 e 5:',tot_arbitrary)"
   ]
  },
  {
   "cell_type": "markdown",
   "metadata": {},
   "source": [
    "Possiamo notare che in questo caso non servono i keyward arguments ($parametro = valore$), ma solo una serie di valori in input il che semplifica di molto le cose.\n",
    "#### Arbitrary Keyword arguments -  argomenti arbitrari con chiave ####\n",
    "Nel caso in cui noi vogliamo specificare il valore associato a una particolare variabile senza sapere quanti argomenti ci servano è possibile usare un parametro(di solito **kwargs**) preceduto da `**` questo ci convertirà gli argomenti passati in **dizionario**."
   ]
  },
  {
   "cell_type": "code",
   "execution_count": 18,
   "metadata": {},
   "outputs": [],
   "source": [
    "def stampa_nomi(**kwargs):\n",
    "    ''' stampa i nomi delle persone,\n",
    "       scrivere i nomi in formato Nome:Cognome'''\n",
    "    #ricorda che kwards è un dizionario\n",
    "    for name, surname in kwargs.items():\n",
    "        print('Nome:', name, ' Cognome:', surname)\n",
    "    #return non necessario"
   ]
  },
  {
   "cell_type": "code",
   "execution_count": 19,
   "metadata": {},
   "outputs": [
    {
     "name": "stdout",
     "output_type": "stream",
     "text": [
      "Nome: Matteo  Cognome: Conterno\n",
      "Nome: Simona  Cognome: Ferrero\n",
      "Nome: Marco  Cognome: Coluccio\n",
      "Nome: Flavio  Cognome: Pirazzi\n"
     ]
    }
   ],
   "source": [
    "stampa_nomi(Matteo = 'Conterno', Simona = 'Ferrero', Marco = 'Coluccio', Flavio = 'Pirazzi')"
   ]
  },
  {
   "cell_type": "markdown",
   "metadata": {},
   "source": [
    "## Specificare il tipo dei parametri e del return ##\n",
    "Poiché le funzioni in python possono accettare **qualsiasi tipo** di variabile come input dei parametri questo potrebbe portare a strani comportamenti delle funzioni, se per esempio alla prima funzione somma passiamo due strighe ecco cosa succede: "
   ]
  },
  {
   "cell_type": "code",
   "execution_count": 20,
   "metadata": {},
   "outputs": [
    {
     "name": "stdout",
     "output_type": "stream",
     "text": [
      "Risultato della somma di Ehi e Ciao: EhiCiao\n"
     ]
    }
   ],
   "source": [
    "tot = somma(x = 'Ehi', y = 'Ciao')\n",
    "print('Risultato della somma di Ehi e Ciao:',tot)"
   ]
  },
  {
   "cell_type": "markdown",
   "metadata": {},
   "source": [
    "Per specificare il tipo dei parametri si utilizza il carattere `:` subito dopo il nome del parametro seguito dal tipo, mentre per specificare il tipo dell'output si usa la combinazione `->` dopo le parentesi delle funzioni specificando subito dopo di essa il tipo. "
   ]
  },
  {
   "cell_type": "code",
   "execution_count": 21,
   "metadata": {},
   "outputs": [],
   "source": [
    "# x:int y:int convertono i parametri in intero \n",
    "# -> int specifica che l'output deve essere convertito in intero\n",
    "def somma_tipo(x:int = 0, y:int = 0) -> (int): # notare x:int, y:int\n",
    "    ''' somma due numeri interi, ritorna un numero intero'''\n",
    "    tot = x + y\n",
    "    return tot"
   ]
  },
  {
   "cell_type": "code",
   "execution_count": 22,
   "metadata": {},
   "outputs": [
    {
     "name": "stdout",
     "output_type": "stream",
     "text": [
      "Somma di 2 e 3: 5 \n",
      " il totale è di tipo: <class 'int'>\n"
     ]
    }
   ],
   "source": [
    "tot = somma_tipo(x = 2, y = 3)\n",
    "print('Somma di 2 e 3:', tot, '\\n il totale è di tipo:', type(tot))"
   ]
  },
  {
   "cell_type": "markdown",
   "metadata": {},
   "source": [
    "Notiamo però che questo non impedisce alle variabili di assumere altri tipi di valori ed eseguire il codice restituisce non il valore specificato."
   ]
  },
  {
   "cell_type": "code",
   "execution_count": 23,
   "metadata": {},
   "outputs": [
    {
     "data": {
      "text/plain": [
       "'ciaodopo'"
      ]
     },
     "execution_count": 23,
     "metadata": {},
     "output_type": "execute_result"
    }
   ],
   "source": [
    "somma_tipo(x = 'ciao', y = 'dopo')"
   ]
  },
  {
   "cell_type": "markdown",
   "metadata": {},
   "source": [
    "Questo è dovuto al fatto che le funzione secondo la filosofia python devono funzionare con qualsiasi tipo di variabile, ma rimane comunque utile specificare il tipo per capire quali sono le richieste in input, qualora volessimo impedire alcuni operazioni possiamo far creare un **errore** che saranno spiegati in futuro.\n",
    "## Comando Pass ##\n",
    "Le funzioni non possono essere vuote, ma è possibile crearne senza occorrere in errori usando il comando `pass`, il comando può essere usato anche nel caso in cui particolari condizioni sono soddisfatte e non sia necessario eseguire il blocco di codice contenuto in una parte della funzione."
   ]
  },
  {
   "cell_type": "code",
   "execution_count": 24,
   "metadata": {},
   "outputs": [],
   "source": [
    "def vuota():\n",
    "    ''' non fa nulla!'''\n",
    "    pass"
   ]
  },
  {
   "cell_type": "code",
   "execution_count": 25,
   "metadata": {},
   "outputs": [],
   "source": [
    "vuota()"
   ]
  },
  {
   "cell_type": "code",
   "execution_count": 26,
   "metadata": {},
   "outputs": [],
   "source": [
    "def positivo(numero):\n",
    "    ''' non ritorna nulla se il numero è positivo,\n",
    "       altrimenti dice se è nullo o negativo'''\n",
    "    if numero > 0: #il numero è positivo\n",
    "        pass #non fare nulla!\n",
    "    elif numero < 0:\n",
    "        print('è negativo!')\n",
    "    else:\n",
    "        print('nullo')"
   ]
  },
  {
   "cell_type": "code",
   "execution_count": 27,
   "metadata": {},
   "outputs": [],
   "source": [
    "positivo(2) # non fa nulla"
   ]
  },
  {
   "cell_type": "code",
   "execution_count": 28,
   "metadata": {},
   "outputs": [
    {
     "name": "stdout",
     "output_type": "stream",
     "text": [
      "è negativo!\n"
     ]
    }
   ],
   "source": [
    "positivo(-3)"
   ]
  },
  {
   "cell_type": "markdown",
   "metadata": {},
   "source": [
    "## Funzioni Anonime o Lamba ##\n",
    "In certi contesti potrebbe non essere necessario definire delle lunghe funzioni, ma delle brevi funzioni che compiano poche operazioni, in tal caso python permette l'utilizzo di **funzioni lamba o anonime**."
   ]
  },
  {
   "cell_type": "code",
   "execution_count": 29,
   "metadata": {},
   "outputs": [],
   "source": [
    "#questa funzione prenderà come argomento x e restituirà il quadrato di esso\n",
    "#è equivalente a\n",
    "#def square(x):\n",
    "#   return x * x\n",
    "square = lambda x : x * x #notare la dichiarazione di lambda"
   ]
  },
  {
   "cell_type": "markdown",
   "metadata": {},
   "source": [
    "Per richiamare la funzione basta scrivere il suo nome e mettere tra parentesi un valore ed essa restituirà il valore delle corrispondenti operazioni dopo `:`."
   ]
  },
  {
   "cell_type": "code",
   "execution_count": 30,
   "metadata": {},
   "outputs": [
    {
     "name": "stdout",
     "output_type": "stream",
     "text": [
      "Il quadrato di 5 è 25\n"
     ]
    }
   ],
   "source": [
    "five = 5 \n",
    "print('Il quadrato di', five, 'è', square(five))"
   ]
  },
  {
   "cell_type": "markdown",
   "metadata": {},
   "source": [
    "In genere le funzioni anonime sono usate in contemporanea alle funzioni `filter` e `map` delle liste per ripulire velocemente i dati e saranno usate anche nei dataframes successivamente.\n",
    "### Filter e Map ###\n",
    "**Filter** è una funzione che ha come **argomenti un'altra funzione e una lista** per cui il risultato sarà una nuova lista dove i risultati saranno gli elementi che sooddisfano la condizione della funzione."
   ]
  },
  {
   "cell_type": "code",
   "execution_count": 31,
   "metadata": {},
   "outputs": [
    {
     "name": "stdout",
     "output_type": "stream",
     "text": [
      "Lista dei soli numeri dispari: [1, 5, 43, 55]\n"
     ]
    }
   ],
   "source": [
    "lista = [1,2,4,5,6,22, 43, 55]\n",
    "nuova_lista = list(filter(lambda x: (x%2)!=0, lista))\n",
    "print('Lista dei soli numeri dispari:',nuova_lista)"
   ]
  },
  {
   "cell_type": "markdown",
   "metadata": {},
   "source": [
    "**Map** è una funzione che ha come **argomenti un'altra funzione e una lista** per cui il risultato sarà la nuova lista con gli elementi ottenuti applicando la funzione senza la necessità che ci sia una condizione."
   ]
  },
  {
   "cell_type": "code",
   "execution_count": 46,
   "metadata": {},
   "outputs": [
    {
     "data": {
      "text/plain": [
       "[9.695359714832659, 17.05872210923198]"
      ]
     },
     "execution_count": 46,
     "metadata": {},
     "output_type": "execute_result"
    }
   ],
   "source": [
    "lista = [[1,2,3,4,8], [5,6,7,9,10]]\n",
    "def norma(x):\n",
    "    norma = 0\n",
    "    for el in x:\n",
    "        norma += (el)**2\n",
    "    return (norma)**0.5\n",
    "modulo = list(map(lambda x : norma(x), lista))\n",
    "modulo"
   ]
  },
  {
   "cell_type": "markdown",
   "metadata": {},
   "source": [
    "***\n",
    "COMPLIMENTI AVETE FINITO LA LEZIONE SULLE FUNZIONI!"
   ]
  }
 ],
 "metadata": {
  "kernelspec": {
   "display_name": "Python 3",
   "language": "python",
   "name": "python3"
  },
  "language_info": {
   "codemirror_mode": {
    "name": "ipython",
    "version": 3
   },
   "file_extension": ".py",
   "mimetype": "text/x-python",
   "name": "python",
   "nbconvert_exporter": "python",
   "pygments_lexer": "ipython3",
   "version": "3.8.8"
  }
 },
 "nbformat": 4,
 "nbformat_minor": 4
}
